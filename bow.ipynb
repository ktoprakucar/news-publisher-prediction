{
 "cells": [
  {
   "cell_type": "code",
   "execution_count": 1,
   "metadata": {},
   "outputs": [],
   "source": [
    "import pandas as pd\n",
    "import operator;\n",
    "import os\n",
    "import re"
   ]
  },
  {
   "cell_type": "code",
   "execution_count": 2,
   "metadata": {},
   "outputs": [],
   "source": [
    "csv_files = [pos_csv for pos_csv in os.listdir(\"data/\") if pos_csv.endswith('.csv')]\n",
    "df = pd.DataFrame()\n",
    "\n",
    "for file in csv_files:\n",
    "    df = df.append(pd.read_csv(\"data/\" + file))"
   ]
  },
  {
   "cell_type": "code",
   "execution_count": 3,
   "metadata": {},
   "outputs": [],
   "source": [
    "df['content'] = df['content'].str.lower()\n",
    "df['content'] = df['content'].str.replace('[^a-zA-Z]', ' ')"
   ]
  },
  {
   "cell_type": "code",
   "execution_count": 4,
   "metadata": {},
   "outputs": [],
   "source": [
    "articles = list(df['content'])"
   ]
  },
  {
   "cell_type": "code",
   "execution_count": 5,
   "metadata": {},
   "outputs": [],
   "source": [
    "word_list = {}\n",
    "for article in articles:\n",
    "    for word in re.split(\"\\n|,|\\s|\\r|\\t\", article):\n",
    "        if word in word_list:\n",
    "            word_list[word] += 1\n",
    "        else:\n",
    "            word_list[word] = 1"
   ]
  },
  {
   "cell_type": "code",
   "execution_count": 6,
   "metadata": {},
   "outputs": [],
   "source": [
    "sorted_word_list = sorted(word_list.items(),key=operator.itemgetter(1), reverse=True)"
   ]
  },
  {
   "cell_type": "code",
   "execution_count": 7,
   "metadata": {},
   "outputs": [
    {
     "data": {
      "text/plain": [
       "[('', 28471654),\n",
       " ('the', 6016362),\n",
       " ('to', 2949110),\n",
       " ('of', 2655531),\n",
       " ('a', 2571158),\n",
       " ('and', 2532235),\n",
       " ('in', 2122618),\n",
       " ('s', 1517805),\n",
       " ('that', 1504324),\n",
       " ('for', 994286),\n",
       " ('is', 989596),\n",
       " ('on', 921433),\n",
       " ('it', 921099),\n",
       " ('he', 767395),\n",
       " ('was', 717024),\n",
       " ('with', 697820),\n",
       " ('as', 656937),\n",
       " ('i', 598866),\n",
       " ('said', 571566),\n",
       " ('his', 521522)]"
      ]
     },
     "execution_count": 7,
     "metadata": {},
     "output_type": "execute_result"
    }
   ],
   "source": [
    "sorted_word_list[:20]"
   ]
  },
  {
   "cell_type": "code",
   "execution_count": null,
   "metadata": {},
   "outputs": [],
   "source": []
  }
 ],
 "metadata": {
  "kernelspec": {
   "display_name": "Python 3",
   "language": "python",
   "name": "python3"
  },
  "language_info": {
   "codemirror_mode": {
    "name": "ipython",
    "version": 3
   },
   "file_extension": ".py",
   "mimetype": "text/x-python",
   "name": "python",
   "nbconvert_exporter": "python",
   "pygments_lexer": "ipython3",
   "version": "3.7.0"
  }
 },
 "nbformat": 4,
 "nbformat_minor": 2
}
