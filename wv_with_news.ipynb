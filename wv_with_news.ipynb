{
 "cells": [
  {
   "cell_type": "code",
   "execution_count": 19,
   "metadata": {},
   "outputs": [
    {
     "name": "stdout",
     "output_type": "stream",
     "text": [
      "[nltk_data] Downloading package stopwords to\n",
      "[nltk_data]     /Users/toprak.ucar/nltk_data...\n",
      "[nltk_data]   Package stopwords is already up-to-date!\n"
     ]
    }
   ],
   "source": [
    "import pandas as pd\n",
    "import numpy as np\n",
    "import gensim\n",
    "import re\n",
    "import os\n",
    "import logging\n",
    "from h2o.estimators.word2vec import H2OWord2vecEstimator\n",
    "from h2o.estimators import H2OGradientBoostingEstimator\n",
    "from h2o.estimators import H2ORandomForestEstimator\n",
    "import h2o\n",
    "from nltk.corpus import stopwords\n",
    "import nltk\n",
    "nltk.download('stopwords')\n",
    "logging.basicConfig(format='%(asctime)s : %(levelname)s : %(message)s', level=logging.INFO)"
   ]
  },
  {
   "cell_type": "code",
   "execution_count": 2,
   "metadata": {},
   "outputs": [
    {
     "name": "stdout",
     "output_type": "stream",
     "text": [
      "['articles1.csv', 'articles3.csv', 'articles2.csv']\n"
     ]
    }
   ],
   "source": [
    "csv_files = [pos_csv for pos_csv in os.listdir(\"data/\") if pos_csv.endswith('.csv')]\n",
    "print(csv_files)\n",
    "df = pd.DataFrame()\n",
    "\n",
    "for file in csv_files:\n",
    "    df = df.append(pd.read_csv(\"data/\" + file))"
   ]
  },
  {
   "cell_type": "code",
   "execution_count": 84,
   "metadata": {},
   "outputs": [
    {
     "data": {
      "text/plain": [
       "Index(['Unnamed: 0', 'id', 'title', 'publication', 'content', 'isBreitbart'], dtype='object')"
      ]
     },
     "execution_count": 84,
     "metadata": {},
     "output_type": "execute_result"
    }
   ],
   "source": [
    "df.columns"
   ]
  },
  {
   "cell_type": "code",
   "execution_count": 3,
   "metadata": {},
   "outputs": [],
   "source": [
    "df = df.drop(['author', 'date', 'year', 'month', 'url'], axis=1)"
   ]
  },
  {
   "cell_type": "code",
   "execution_count": 4,
   "metadata": {},
   "outputs": [],
   "source": [
    "df['title'] = df['title'].str.lower()"
   ]
  },
  {
   "cell_type": "code",
   "execution_count": 5,
   "metadata": {},
   "outputs": [],
   "source": [
    "df['publication'] = df['publication'].str.lower()"
   ]
  },
  {
   "cell_type": "code",
   "execution_count": 6,
   "metadata": {},
   "outputs": [],
   "source": [
    "df['content'] = df['content'].str.lower()"
   ]
  },
  {
   "cell_type": "code",
   "execution_count": 7,
   "metadata": {},
   "outputs": [],
   "source": [
    "df['content'] = df['content'].str.replace('[^a-zA-Z]', ' ')"
   ]
  },
  {
   "cell_type": "code",
   "execution_count": 10,
   "metadata": {},
   "outputs": [],
   "source": [
    "stop_words = stopwords.words('english')"
   ]
  },
  {
   "cell_type": "code",
   "execution_count": 11,
   "metadata": {},
   "outputs": [],
   "source": [
    "df['content'] = df['content'].apply(lambda x: ' '.join([word for word in x.split() if word not in (stop_words)]))"
   ]
  },
  {
   "cell_type": "code",
   "execution_count": 13,
   "metadata": {
    "scrolled": true
   },
   "outputs": [
    {
     "data": {
      "text/html": [
       "<div>\n",
       "<style scoped>\n",
       "    .dataframe tbody tr th:only-of-type {\n",
       "        vertical-align: middle;\n",
       "    }\n",
       "\n",
       "    .dataframe tbody tr th {\n",
       "        vertical-align: top;\n",
       "    }\n",
       "\n",
       "    .dataframe thead th {\n",
       "        text-align: right;\n",
       "    }\n",
       "</style>\n",
       "<table border=\"1\" class=\"dataframe\">\n",
       "  <thead>\n",
       "    <tr style=\"text-align: right;\">\n",
       "      <th></th>\n",
       "      <th>Unnamed: 0</th>\n",
       "      <th>id</th>\n",
       "      <th>title</th>\n",
       "      <th>content</th>\n",
       "    </tr>\n",
       "    <tr>\n",
       "      <th>publication</th>\n",
       "      <th></th>\n",
       "      <th></th>\n",
       "      <th></th>\n",
       "      <th></th>\n",
       "    </tr>\n",
       "  </thead>\n",
       "  <tbody>\n",
       "    <tr>\n",
       "      <th>atlantic</th>\n",
       "      <td>7179</td>\n",
       "      <td>7179</td>\n",
       "      <td>7179</td>\n",
       "      <td>7179</td>\n",
       "    </tr>\n",
       "    <tr>\n",
       "      <th>breitbart</th>\n",
       "      <td>23781</td>\n",
       "      <td>23781</td>\n",
       "      <td>23781</td>\n",
       "      <td>23781</td>\n",
       "    </tr>\n",
       "    <tr>\n",
       "      <th>business insider</th>\n",
       "      <td>6757</td>\n",
       "      <td>6757</td>\n",
       "      <td>6757</td>\n",
       "      <td>6757</td>\n",
       "    </tr>\n",
       "    <tr>\n",
       "      <th>buzzfeed news</th>\n",
       "      <td>4854</td>\n",
       "      <td>4854</td>\n",
       "      <td>4854</td>\n",
       "      <td>4854</td>\n",
       "    </tr>\n",
       "    <tr>\n",
       "      <th>cnn</th>\n",
       "      <td>11488</td>\n",
       "      <td>11488</td>\n",
       "      <td>11488</td>\n",
       "      <td>11488</td>\n",
       "    </tr>\n",
       "    <tr>\n",
       "      <th>fox news</th>\n",
       "      <td>4354</td>\n",
       "      <td>4354</td>\n",
       "      <td>4354</td>\n",
       "      <td>4354</td>\n",
       "    </tr>\n",
       "    <tr>\n",
       "      <th>guardian</th>\n",
       "      <td>8681</td>\n",
       "      <td>8681</td>\n",
       "      <td>8681</td>\n",
       "      <td>8681</td>\n",
       "    </tr>\n",
       "    <tr>\n",
       "      <th>national review</th>\n",
       "      <td>6203</td>\n",
       "      <td>6203</td>\n",
       "      <td>6203</td>\n",
       "      <td>6203</td>\n",
       "    </tr>\n",
       "    <tr>\n",
       "      <th>new york post</th>\n",
       "      <td>17493</td>\n",
       "      <td>17493</td>\n",
       "      <td>17493</td>\n",
       "      <td>17493</td>\n",
       "    </tr>\n",
       "    <tr>\n",
       "      <th>new york times</th>\n",
       "      <td>7803</td>\n",
       "      <td>7803</td>\n",
       "      <td>7803</td>\n",
       "      <td>7803</td>\n",
       "    </tr>\n",
       "    <tr>\n",
       "      <th>npr</th>\n",
       "      <td>11992</td>\n",
       "      <td>11992</td>\n",
       "      <td>11992</td>\n",
       "      <td>11992</td>\n",
       "    </tr>\n",
       "    <tr>\n",
       "      <th>reuters</th>\n",
       "      <td>10710</td>\n",
       "      <td>10710</td>\n",
       "      <td>10709</td>\n",
       "      <td>10710</td>\n",
       "    </tr>\n",
       "    <tr>\n",
       "      <th>talking points memo</th>\n",
       "      <td>5214</td>\n",
       "      <td>5214</td>\n",
       "      <td>5213</td>\n",
       "      <td>5214</td>\n",
       "    </tr>\n",
       "    <tr>\n",
       "      <th>vox</th>\n",
       "      <td>4947</td>\n",
       "      <td>4947</td>\n",
       "      <td>4947</td>\n",
       "      <td>4947</td>\n",
       "    </tr>\n",
       "    <tr>\n",
       "      <th>washington post</th>\n",
       "      <td>11114</td>\n",
       "      <td>11114</td>\n",
       "      <td>11114</td>\n",
       "      <td>11114</td>\n",
       "    </tr>\n",
       "  </tbody>\n",
       "</table>\n",
       "</div>"
      ],
      "text/plain": [
       "                     Unnamed: 0     id  title  content\n",
       "publication                                           \n",
       "atlantic                   7179   7179   7179     7179\n",
       "breitbart                 23781  23781  23781    23781\n",
       "business insider           6757   6757   6757     6757\n",
       "buzzfeed news              4854   4854   4854     4854\n",
       "cnn                       11488  11488  11488    11488\n",
       "fox news                   4354   4354   4354     4354\n",
       "guardian                   8681   8681   8681     8681\n",
       "national review            6203   6203   6203     6203\n",
       "new york post             17493  17493  17493    17493\n",
       "new york times             7803   7803   7803     7803\n",
       "npr                       11992  11992  11992    11992\n",
       "reuters                   10710  10710  10709    10710\n",
       "talking points memo        5214   5214   5213     5214\n",
       "vox                        4947   4947   4947     4947\n",
       "washington post           11114  11114  11114    11114"
      ]
     },
     "execution_count": 13,
     "metadata": {},
     "output_type": "execute_result"
    }
   ],
   "source": [
    "df.groupby(['publication']).count()"
   ]
  },
  {
   "cell_type": "code",
   "execution_count": 14,
   "metadata": {},
   "outputs": [
    {
     "data": {
      "text/plain": [
       "142570"
      ]
     },
     "execution_count": 14,
     "metadata": {},
     "output_type": "execute_result"
    }
   ],
   "source": [
    "len(df)"
   ]
  },
  {
   "cell_type": "code",
   "execution_count": 15,
   "metadata": {},
   "outputs": [],
   "source": [
    "df[\"isBreitbart\"] = np.where(df['publication'] == 'breitbart', \"1\", \"0\")"
   ]
  },
  {
   "cell_type": "code",
   "execution_count": 16,
   "metadata": {},
   "outputs": [],
   "source": [
    "words = []\n",
    "for count in range (len(df)):\n",
    "    if (type(df.iloc[count]['content']) != float):\n",
    "        words.append(df.iloc[count]['content'].split())"
   ]
  },
  {
   "cell_type": "code",
   "execution_count": 20,
   "metadata": {},
   "outputs": [
    {
     "name": "stderr",
     "output_type": "stream",
     "text": [
      "2018-12-24 23:40:05,935 : WARNING : consider setting layer size to a multiple of 4 for greater performance\n",
      "2018-12-24 23:40:05,938 : INFO : collecting all words and their counts\n",
      "2018-12-24 23:40:05,939 : INFO : PROGRESS: at sentence #0, processed 0 words, keeping 0 word types\n",
      "2018-12-24 23:40:07,285 : INFO : PROGRESS: at sentence #10000, processed 5516956 words, keeping 97866 word types\n",
      "2018-12-24 23:40:07,889 : INFO : PROGRESS: at sentence #20000, processed 8188013 words, keeping 117856 word types\n",
      "2018-12-24 23:40:08,581 : INFO : PROGRESS: at sentence #30000, processed 10985634 words, keeping 134567 word types\n",
      "2018-12-24 23:40:09,452 : INFO : PROGRESS: at sentence #40000, processed 14817409 words, keeping 151661 word types\n",
      "2018-12-24 23:40:10,536 : INFO : PROGRESS: at sentence #50000, processed 17604723 words, keeping 163973 word types\n",
      "2018-12-24 23:40:11,681 : INFO : PROGRESS: at sentence #60000, processed 21958109 words, keeping 187955 word types\n",
      "2018-12-24 23:40:12,398 : INFO : PROGRESS: at sentence #70000, processed 26014229 words, keeping 203162 word types\n",
      "2018-12-24 23:40:13,442 : INFO : PROGRESS: at sentence #80000, processed 30959873 words, keeping 215475 word types\n",
      "2018-12-24 23:40:14,959 : INFO : PROGRESS: at sentence #90000, processed 36859105 words, keeping 230229 word types\n",
      "2018-12-24 23:40:16,154 : INFO : PROGRESS: at sentence #100000, processed 43334638 words, keeping 246571 word types\n",
      "2018-12-24 23:40:16,756 : INFO : PROGRESS: at sentence #110000, processed 45954219 words, keeping 253949 word types\n",
      "2018-12-24 23:40:17,733 : INFO : PROGRESS: at sentence #120000, processed 50772121 words, keeping 268704 word types\n",
      "2018-12-24 23:40:18,214 : INFO : PROGRESS: at sentence #130000, processed 53139169 words, keeping 277399 word types\n",
      "2018-12-24 23:40:18,841 : INFO : PROGRESS: at sentence #140000, processed 56118741 words, keeping 287446 word types\n",
      "2018-12-24 23:40:19,126 : INFO : collected 291240 word types from a corpus of 57349221 raw words and 142570 sentences\n",
      "2018-12-24 23:40:19,126 : INFO : Loading a fresh vocabulary\n",
      "2018-12-24 23:40:22,094 : INFO : effective_min_count=1 retains 291240 unique words (100% of original 291240, drops 0)\n",
      "2018-12-24 23:40:22,094 : INFO : effective_min_count=1 leaves 57349221 word corpus (100% of original 57349221, drops 0)\n",
      "2018-12-24 23:40:22,817 : INFO : deleting the raw counts dictionary of 291240 items\n",
      "2018-12-24 23:40:22,824 : INFO : sample=0.001 downsamples 9 most-common words\n",
      "2018-12-24 23:40:22,825 : INFO : downsampling leaves estimated 56440201 word corpus (98.4% of prior 57349221)\n",
      "2018-12-24 23:40:23,804 : INFO : estimated required memory for 291240 words and 50 dimensions: 262116000 bytes\n",
      "2018-12-24 23:40:23,805 : INFO : resetting layer weights\n",
      "2018-12-24 23:40:26,493 : INFO : training model with 4 workers on 291240 vocabulary and 50 features, using sg=0 hs=0 sample=0.001 negative=5 window=15\n",
      "2018-12-24 23:40:27,511 : INFO : EPOCH 1 - PROGRESS: at 1.13% examples, 968014 words/s, in_qsize 7, out_qsize 0\n",
      "2018-12-24 23:40:28,513 : INFO : EPOCH 1 - PROGRESS: at 2.14% examples, 938208 words/s, in_qsize 7, out_qsize 0\n",
      "2018-12-24 23:40:29,525 : INFO : EPOCH 1 - PROGRESS: at 2.93% examples, 854697 words/s, in_qsize 8, out_qsize 2\n",
      "2018-12-24 23:40:30,534 : INFO : EPOCH 1 - PROGRESS: at 3.59% examples, 785558 words/s, in_qsize 7, out_qsize 0\n",
      "2018-12-24 23:40:31,539 : INFO : EPOCH 1 - PROGRESS: at 4.65% examples, 816137 words/s, in_qsize 7, out_qsize 0\n",
      "2018-12-24 23:40:32,548 : INFO : EPOCH 1 - PROGRESS: at 6.23% examples, 848103 words/s, in_qsize 7, out_qsize 0\n",
      "2018-12-24 23:40:33,549 : INFO : EPOCH 1 - PROGRESS: at 8.30% examples, 835277 words/s, in_qsize 7, out_qsize 0\n",
      "2018-12-24 23:40:34,554 : INFO : EPOCH 1 - PROGRESS: at 10.94% examples, 849667 words/s, in_qsize 7, out_qsize 0\n",
      "2018-12-24 23:40:35,559 : INFO : EPOCH 1 - PROGRESS: at 13.43% examples, 861935 words/s, in_qsize 7, out_qsize 0\n",
      "2018-12-24 23:40:36,571 : INFO : EPOCH 1 - PROGRESS: at 16.09% examples, 875338 words/s, in_qsize 7, out_qsize 0\n",
      "2018-12-24 23:40:37,577 : INFO : EPOCH 1 - PROGRESS: at 18.14% examples, 869829 words/s, in_qsize 8, out_qsize 0\n",
      "2018-12-24 23:40:38,582 : INFO : EPOCH 1 - PROGRESS: at 19.75% examples, 850969 words/s, in_qsize 7, out_qsize 0\n",
      "2018-12-24 23:40:39,594 : INFO : EPOCH 1 - PROGRESS: at 21.39% examples, 835505 words/s, in_qsize 7, out_qsize 0\n",
      "2018-12-24 23:40:40,596 : INFO : EPOCH 1 - PROGRESS: at 23.09% examples, 835544 words/s, in_qsize 8, out_qsize 0\n",
      "2018-12-24 23:40:41,602 : INFO : EPOCH 1 - PROGRESS: at 24.77% examples, 844082 words/s, in_qsize 7, out_qsize 0\n",
      "2018-12-24 23:40:42,609 : INFO : EPOCH 1 - PROGRESS: at 26.49% examples, 850609 words/s, in_qsize 7, out_qsize 0\n",
      "2018-12-24 23:40:43,610 : INFO : EPOCH 1 - PROGRESS: at 28.45% examples, 862748 words/s, in_qsize 7, out_qsize 0\n",
      "2018-12-24 23:40:44,616 : INFO : EPOCH 1 - PROGRESS: at 30.42% examples, 868739 words/s, in_qsize 7, out_qsize 0\n",
      "2018-12-24 23:40:45,618 : INFO : EPOCH 1 - PROGRESS: at 33.63% examples, 875190 words/s, in_qsize 7, out_qsize 0\n",
      "2018-12-24 23:40:46,629 : INFO : EPOCH 1 - PROGRESS: at 35.79% examples, 883399 words/s, in_qsize 7, out_qsize 0\n",
      "2018-12-24 23:40:47,636 : INFO : EPOCH 1 - PROGRESS: at 37.30% examples, 890192 words/s, in_qsize 7, out_qsize 0\n",
      "2018-12-24 23:40:48,644 : INFO : EPOCH 1 - PROGRESS: at 39.04% examples, 896712 words/s, in_qsize 7, out_qsize 0\n",
      "2018-12-24 23:40:49,646 : INFO : EPOCH 1 - PROGRESS: at 40.68% examples, 899480 words/s, in_qsize 8, out_qsize 0\n",
      "2018-12-24 23:40:50,647 : INFO : EPOCH 1 - PROGRESS: at 42.51% examples, 904849 words/s, in_qsize 7, out_qsize 0\n",
      "2018-12-24 23:40:51,655 : INFO : EPOCH 1 - PROGRESS: at 44.23% examples, 909813 words/s, in_qsize 7, out_qsize 0\n",
      "2018-12-24 23:40:52,656 : INFO : EPOCH 1 - PROGRESS: at 46.00% examples, 913622 words/s, in_qsize 7, out_qsize 0\n",
      "2018-12-24 23:40:53,665 : INFO : EPOCH 1 - PROGRESS: at 47.96% examples, 919087 words/s, in_qsize 7, out_qsize 0\n",
      "2018-12-24 23:40:54,665 : INFO : EPOCH 1 - PROGRESS: at 49.88% examples, 923590 words/s, in_qsize 7, out_qsize 0\n",
      "2018-12-24 23:40:55,670 : INFO : EPOCH 1 - PROGRESS: at 51.68% examples, 926337 words/s, in_qsize 7, out_qsize 0\n",
      "2018-12-24 23:40:56,673 : INFO : EPOCH 1 - PROGRESS: at 53.56% examples, 929914 words/s, in_qsize 7, out_qsize 0\n",
      "2018-12-24 23:40:57,675 : INFO : EPOCH 1 - PROGRESS: at 54.58% examples, 933058 words/s, in_qsize 7, out_qsize 0\n",
      "2018-12-24 23:40:58,692 : INFO : EPOCH 1 - PROGRESS: at 55.79% examples, 936687 words/s, in_qsize 7, out_qsize 0\n",
      "2018-12-24 23:40:59,711 : INFO : EPOCH 1 - PROGRESS: at 56.61% examples, 932723 words/s, in_qsize 7, out_qsize 0\n",
      "2018-12-24 23:41:00,723 : INFO : EPOCH 1 - PROGRESS: at 57.66% examples, 934531 words/s, in_qsize 7, out_qsize 0\n",
      "2018-12-24 23:41:01,732 : INFO : EPOCH 1 - PROGRESS: at 58.90% examples, 936495 words/s, in_qsize 7, out_qsize 0\n",
      "2018-12-24 23:41:02,732 : INFO : EPOCH 1 - PROGRESS: at 60.23% examples, 939434 words/s, in_qsize 6, out_qsize 1\n",
      "2018-12-24 23:41:03,747 : INFO : EPOCH 1 - PROGRESS: at 61.60% examples, 942121 words/s, in_qsize 7, out_qsize 0\n",
      "2018-12-24 23:41:04,750 : INFO : EPOCH 1 - PROGRESS: at 62.99% examples, 944533 words/s, in_qsize 7, out_qsize 0\n",
      "2018-12-24 23:41:05,755 : INFO : EPOCH 1 - PROGRESS: at 64.34% examples, 946846 words/s, in_qsize 7, out_qsize 0\n",
      "2018-12-24 23:41:06,760 : INFO : EPOCH 1 - PROGRESS: at 65.48% examples, 948311 words/s, in_qsize 7, out_qsize 0\n",
      "2018-12-24 23:41:07,766 : INFO : EPOCH 1 - PROGRESS: at 66.56% examples, 949870 words/s, in_qsize 7, out_qsize 0\n",
      "2018-12-24 23:41:08,772 : INFO : EPOCH 1 - PROGRESS: at 67.50% examples, 951053 words/s, in_qsize 7, out_qsize 0\n",
      "2018-12-24 23:41:09,777 : INFO : EPOCH 1 - PROGRESS: at 68.38% examples, 950683 words/s, in_qsize 7, out_qsize 0\n",
      "2018-12-24 23:41:10,782 : INFO : EPOCH 1 - PROGRESS: at 69.40% examples, 948663 words/s, in_qsize 7, out_qsize 0\n",
      "2018-12-24 23:41:11,783 : INFO : EPOCH 1 - PROGRESS: at 70.43% examples, 943316 words/s, in_qsize 7, out_qsize 0\n",
      "2018-12-24 23:41:12,787 : INFO : EPOCH 1 - PROGRESS: at 72.79% examples, 943648 words/s, in_qsize 6, out_qsize 0\n",
      "2018-12-24 23:41:13,804 : INFO : EPOCH 1 - PROGRESS: at 74.76% examples, 936882 words/s, in_qsize 8, out_qsize 0\n"
     ]
    },
    {
     "name": "stderr",
     "output_type": "stream",
     "text": [
      "2018-12-24 23:41:14,812 : INFO : EPOCH 1 - PROGRESS: at 76.89% examples, 931417 words/s, in_qsize 7, out_qsize 0\n",
      "2018-12-24 23:41:15,819 : INFO : EPOCH 1 - PROGRESS: at 78.55% examples, 932578 words/s, in_qsize 7, out_qsize 0\n",
      "2018-12-24 23:41:16,825 : INFO : EPOCH 1 - PROGRESS: at 79.86% examples, 931791 words/s, in_qsize 7, out_qsize 0\n",
      "2018-12-24 23:41:17,827 : INFO : EPOCH 1 - PROGRESS: at 81.36% examples, 933706 words/s, in_qsize 7, out_qsize 0\n",
      "2018-12-24 23:41:18,835 : INFO : EPOCH 1 - PROGRESS: at 82.84% examples, 935714 words/s, in_qsize 7, out_qsize 0\n",
      "2018-12-24 23:41:19,839 : INFO : EPOCH 1 - PROGRESS: at 84.24% examples, 936752 words/s, in_qsize 8, out_qsize 0\n",
      "2018-12-24 23:41:20,841 : INFO : EPOCH 1 - PROGRESS: at 86.75% examples, 934801 words/s, in_qsize 7, out_qsize 0\n",
      "2018-12-24 23:41:21,843 : INFO : EPOCH 1 - PROGRESS: at 89.78% examples, 935741 words/s, in_qsize 7, out_qsize 0\n",
      "2018-12-24 23:41:22,853 : INFO : EPOCH 1 - PROGRESS: at 92.53% examples, 935133 words/s, in_qsize 6, out_qsize 1\n",
      "2018-12-24 23:41:23,861 : INFO : EPOCH 1 - PROGRESS: at 94.96% examples, 933095 words/s, in_qsize 7, out_qsize 0\n",
      "2018-12-24 23:41:24,864 : INFO : EPOCH 1 - PROGRESS: at 97.29% examples, 934765 words/s, in_qsize 7, out_qsize 0\n",
      "2018-12-24 23:41:25,900 : INFO : EPOCH 1 - PROGRESS: at 98.52% examples, 932909 words/s, in_qsize 8, out_qsize 0\n",
      "2018-12-24 23:41:26,901 : INFO : EPOCH 1 - PROGRESS: at 99.95% examples, 933152 words/s, in_qsize 4, out_qsize 0\n",
      "2018-12-24 23:41:26,912 : INFO : worker thread finished; awaiting finish of 3 more threads\n",
      "2018-12-24 23:41:26,921 : INFO : worker thread finished; awaiting finish of 2 more threads\n",
      "2018-12-24 23:41:26,923 : INFO : worker thread finished; awaiting finish of 1 more threads\n",
      "2018-12-24 23:41:26,924 : INFO : worker thread finished; awaiting finish of 0 more threads\n",
      "2018-12-24 23:41:26,924 : INFO : EPOCH - 1 : training on 57349221 raw words (56400353 effective words) took 60.4s, 933368 effective words/s\n",
      "2018-12-24 23:41:27,951 : INFO : EPOCH 2 - PROGRESS: at 1.15% examples, 980207 words/s, in_qsize 7, out_qsize 0\n",
      "2018-12-24 23:41:28,975 : INFO : EPOCH 2 - PROGRESS: at 2.10% examples, 906470 words/s, in_qsize 7, out_qsize 0\n",
      "2018-12-24 23:41:29,976 : INFO : EPOCH 2 - PROGRESS: at 2.84% examples, 821803 words/s, in_qsize 7, out_qsize 0\n",
      "2018-12-24 23:41:30,982 : INFO : EPOCH 2 - PROGRESS: at 3.97% examples, 866344 words/s, in_qsize 7, out_qsize 0\n",
      "2018-12-24 23:41:31,984 : INFO : EPOCH 2 - PROGRESS: at 5.12% examples, 900050 words/s, in_qsize 7, out_qsize 0\n",
      "2018-12-24 23:41:33,002 : INFO : EPOCH 2 - PROGRESS: at 6.98% examples, 890862 words/s, in_qsize 7, out_qsize 0\n",
      "2018-12-24 23:41:34,004 : INFO : EPOCH 2 - PROGRESS: at 9.79% examples, 910521 words/s, in_qsize 7, out_qsize 0\n",
      "2018-12-24 23:41:35,010 : INFO : EPOCH 2 - PROGRESS: at 12.59% examples, 926590 words/s, in_qsize 7, out_qsize 0\n",
      "2018-12-24 23:41:36,022 : INFO : EPOCH 2 - PROGRESS: at 15.44% examples, 942770 words/s, in_qsize 7, out_qsize 0\n",
      "2018-12-24 23:41:37,024 : INFO : EPOCH 2 - PROGRESS: at 18.18% examples, 955823 words/s, in_qsize 7, out_qsize 0\n",
      "2018-12-24 23:41:38,024 : INFO : EPOCH 2 - PROGRESS: at 20.87% examples, 967443 words/s, in_qsize 7, out_qsize 0\n",
      "2018-12-24 23:41:39,037 : INFO : EPOCH 2 - PROGRESS: at 23.04% examples, 970617 words/s, in_qsize 7, out_qsize 0\n",
      "2018-12-24 23:41:40,049 : INFO : EPOCH 2 - PROGRESS: at 24.75% examples, 971163 words/s, in_qsize 7, out_qsize 0\n",
      "2018-12-24 23:41:41,051 : INFO : EPOCH 2 - PROGRESS: at 26.36% examples, 965727 words/s, in_qsize 7, out_qsize 0\n",
      "2018-12-24 23:41:42,062 : INFO : EPOCH 2 - PROGRESS: at 28.04% examples, 961229 words/s, in_qsize 7, out_qsize 0\n",
      "2018-12-24 23:41:43,066 : INFO : EPOCH 2 - PROGRESS: at 29.62% examples, 951748 words/s, in_qsize 7, out_qsize 0\n",
      "2018-12-24 23:41:44,079 : INFO : EPOCH 2 - PROGRESS: at 32.45% examples, 957228 words/s, in_qsize 8, out_qsize 0\n",
      "2018-12-24 23:41:45,082 : INFO : EPOCH 2 - PROGRESS: at 35.23% examples, 958964 words/s, in_qsize 7, out_qsize 0\n",
      "2018-12-24 23:41:46,090 : INFO : EPOCH 2 - PROGRESS: at 36.51% examples, 953955 words/s, in_qsize 7, out_qsize 0\n",
      "2018-12-24 23:41:47,090 : INFO : EPOCH 2 - PROGRESS: at 38.10% examples, 958796 words/s, in_qsize 7, out_qsize 0\n",
      "2018-12-24 23:41:48,094 : INFO : EPOCH 2 - PROGRESS: at 39.92% examples, 962862 words/s, in_qsize 7, out_qsize 0\n",
      "2018-12-24 23:41:49,095 : INFO : EPOCH 2 - PROGRESS: at 41.82% examples, 967568 words/s, in_qsize 7, out_qsize 0\n",
      "2018-12-24 23:41:50,103 : INFO : EPOCH 2 - PROGRESS: at 43.63% examples, 972031 words/s, in_qsize 7, out_qsize 0\n",
      "2018-12-24 23:41:51,119 : INFO : EPOCH 2 - PROGRESS: at 45.06% examples, 966107 words/s, in_qsize 7, out_qsize 0\n",
      "2018-12-24 23:41:52,123 : INFO : EPOCH 2 - PROGRESS: at 46.72% examples, 964475 words/s, in_qsize 7, out_qsize 0\n",
      "2018-12-24 23:41:53,132 : INFO : EPOCH 2 - PROGRESS: at 48.69% examples, 967951 words/s, in_qsize 7, out_qsize 0\n",
      "2018-12-24 23:41:54,152 : INFO : EPOCH 2 - PROGRESS: at 50.22% examples, 962748 words/s, in_qsize 5, out_qsize 2\n",
      "2018-12-24 23:41:55,156 : INFO : EPOCH 2 - PROGRESS: at 51.54% examples, 954342 words/s, in_qsize 7, out_qsize 0\n",
      "2018-12-24 23:41:56,162 : INFO : EPOCH 2 - PROGRESS: at 53.40% examples, 956934 words/s, in_qsize 7, out_qsize 0\n",
      "2018-12-24 23:41:57,227 : INFO : EPOCH 2 - PROGRESS: at 54.50% examples, 957453 words/s, in_qsize 8, out_qsize 2\n",
      "2018-12-24 23:41:58,231 : INFO : EPOCH 2 - PROGRESS: at 55.54% examples, 956145 words/s, in_qsize 7, out_qsize 0\n",
      "2018-12-24 23:41:59,234 : INFO : EPOCH 2 - PROGRESS: at 56.54% examples, 957054 words/s, in_qsize 7, out_qsize 0\n",
      "2018-12-24 23:42:00,240 : INFO : EPOCH 2 - PROGRESS: at 57.34% examples, 953034 words/s, in_qsize 7, out_qsize 0\n",
      "2018-12-24 23:42:01,244 : INFO : EPOCH 2 - PROGRESS: at 58.32% examples, 948117 words/s, in_qsize 7, out_qsize 0\n",
      "2018-12-24 23:42:02,289 : INFO : EPOCH 2 - PROGRESS: at 59.13% examples, 938509 words/s, in_qsize 8, out_qsize 0\n",
      "2018-12-24 23:42:03,291 : INFO : EPOCH 2 - PROGRESS: at 59.96% examples, 930343 words/s, in_qsize 6, out_qsize 1\n",
      "2018-12-24 23:42:04,291 : INFO : EPOCH 2 - PROGRESS: at 60.99% examples, 926914 words/s, in_qsize 7, out_qsize 0\n",
      "2018-12-24 23:42:05,305 : INFO : EPOCH 2 - PROGRESS: at 62.02% examples, 922830 words/s, in_qsize 6, out_qsize 1\n",
      "2018-12-24 23:42:06,310 : INFO : EPOCH 2 - PROGRESS: at 62.89% examples, 915540 words/s, in_qsize 7, out_qsize 0\n",
      "2018-12-24 23:42:07,316 : INFO : EPOCH 2 - PROGRESS: at 64.13% examples, 916410 words/s, in_qsize 7, out_qsize 0\n",
      "2018-12-24 23:42:08,316 : INFO : EPOCH 2 - PROGRESS: at 65.26% examples, 917498 words/s, in_qsize 7, out_qsize 0\n",
      "2018-12-24 23:42:09,323 : INFO : EPOCH 2 - PROGRESS: at 66.28% examples, 919703 words/s, in_qsize 7, out_qsize 0\n",
      "2018-12-24 23:42:10,327 : INFO : EPOCH 2 - PROGRESS: at 67.42% examples, 921385 words/s, in_qsize 7, out_qsize 0\n",
      "2018-12-24 23:42:11,347 : INFO : EPOCH 2 - PROGRESS: at 67.92% examples, 918570 words/s, in_qsize 7, out_qsize 0\n",
      "2018-12-24 23:42:12,366 : INFO : EPOCH 2 - PROGRESS: at 69.20% examples, 920469 words/s, in_qsize 7, out_qsize 0\n",
      "2018-12-24 23:42:13,369 : INFO : EPOCH 2 - PROGRESS: at 70.84% examples, 923609 words/s, in_qsize 7, out_qsize 0\n",
      "2018-12-24 23:42:14,385 : INFO : EPOCH 2 - PROGRESS: at 73.30% examples, 924074 words/s, in_qsize 7, out_qsize 0\n",
      "2018-12-24 23:42:15,393 : INFO : EPOCH 2 - PROGRESS: at 76.77% examples, 926680 words/s, in_qsize 8, out_qsize 0\n",
      "2018-12-24 23:42:16,397 : INFO : EPOCH 2 - PROGRESS: at 78.52% examples, 929264 words/s, in_qsize 7, out_qsize 0\n",
      "2018-12-24 23:42:17,404 : INFO : EPOCH 2 - PROGRESS: at 80.08% examples, 931933 words/s, in_qsize 7, out_qsize 0\n",
      "2018-12-24 23:42:18,412 : INFO : EPOCH 2 - PROGRESS: at 81.63% examples, 934759 words/s, in_qsize 7, out_qsize 0\n",
      "2018-12-24 23:42:19,418 : INFO : EPOCH 2 - PROGRESS: at 83.10% examples, 936628 words/s, in_qsize 7, out_qsize 0\n",
      "2018-12-24 23:42:20,426 : INFO : EPOCH 2 - PROGRESS: at 84.91% examples, 938557 words/s, in_qsize 7, out_qsize 0\n",
      "2018-12-24 23:42:21,429 : INFO : EPOCH 2 - PROGRESS: at 87.55% examples, 936782 words/s, in_qsize 7, out_qsize 0\n",
      "2018-12-24 23:42:22,442 : INFO : EPOCH 2 - PROGRESS: at 90.11% examples, 934667 words/s, in_qsize 7, out_qsize 0\n",
      "2018-12-24 23:42:23,448 : INFO : EPOCH 2 - PROGRESS: at 93.18% examples, 936411 words/s, in_qsize 7, out_qsize 0\n"
     ]
    },
    {
     "name": "stderr",
     "output_type": "stream",
     "text": [
      "2018-12-24 23:42:24,452 : INFO : EPOCH 2 - PROGRESS: at 96.26% examples, 938407 words/s, in_qsize 7, out_qsize 0\n",
      "2018-12-24 23:42:25,452 : INFO : EPOCH 2 - PROGRESS: at 97.73% examples, 937547 words/s, in_qsize 7, out_qsize 0\n",
      "2018-12-24 23:42:26,455 : INFO : EPOCH 2 - PROGRESS: at 99.21% examples, 938954 words/s, in_qsize 6, out_qsize 1\n",
      "2018-12-24 23:42:26,910 : INFO : worker thread finished; awaiting finish of 3 more threads\n",
      "2018-12-24 23:42:26,920 : INFO : worker thread finished; awaiting finish of 2 more threads\n",
      "2018-12-24 23:42:26,926 : INFO : worker thread finished; awaiting finish of 1 more threads\n",
      "2018-12-24 23:42:26,927 : INFO : worker thread finished; awaiting finish of 0 more threads\n",
      "2018-12-24 23:42:26,928 : INFO : EPOCH - 2 : training on 57349221 raw words (56400912 effective words) took 60.0s, 940052 effective words/s\n",
      "2018-12-24 23:42:27,941 : INFO : EPOCH 3 - PROGRESS: at 1.06% examples, 914967 words/s, in_qsize 7, out_qsize 0\n",
      "2018-12-24 23:42:28,962 : INFO : EPOCH 3 - PROGRESS: at 2.24% examples, 972978 words/s, in_qsize 8, out_qsize 0\n",
      "2018-12-24 23:42:29,968 : INFO : EPOCH 3 - PROGRESS: at 3.06% examples, 886606 words/s, in_qsize 7, out_qsize 0\n",
      "2018-12-24 23:42:30,973 : INFO : EPOCH 3 - PROGRESS: at 4.24% examples, 925335 words/s, in_qsize 7, out_qsize 0\n",
      "2018-12-24 23:42:31,976 : INFO : EPOCH 3 - PROGRESS: at 5.41% examples, 952128 words/s, in_qsize 7, out_qsize 0\n",
      "2018-12-24 23:42:32,985 : INFO : EPOCH 3 - PROGRESS: at 8.03% examples, 956824 words/s, in_qsize 7, out_qsize 0\n",
      "2018-12-24 23:42:34,013 : INFO : EPOCH 3 - PROGRESS: at 10.72% examples, 955655 words/s, in_qsize 7, out_qsize 0\n",
      "2018-12-24 23:42:35,028 : INFO : EPOCH 3 - PROGRESS: at 13.30% examples, 958665 words/s, in_qsize 7, out_qsize 0\n",
      "2018-12-24 23:42:36,028 : INFO : EPOCH 3 - PROGRESS: at 16.00% examples, 964965 words/s, in_qsize 7, out_qsize 0\n",
      "2018-12-24 23:42:37,033 : INFO : EPOCH 3 - PROGRESS: at 18.54% examples, 970200 words/s, in_qsize 7, out_qsize 0\n",
      "2018-12-24 23:42:38,045 : INFO : EPOCH 3 - PROGRESS: at 21.11% examples, 974021 words/s, in_qsize 7, out_qsize 0\n",
      "2018-12-24 23:42:39,053 : INFO : EPOCH 3 - PROGRESS: at 23.16% examples, 974842 words/s, in_qsize 7, out_qsize 0\n",
      "2018-12-24 23:42:40,062 : INFO : EPOCH 3 - PROGRESS: at 24.88% examples, 975959 words/s, in_qsize 7, out_qsize 0\n",
      "2018-12-24 23:42:41,067 : INFO : EPOCH 3 - PROGRESS: at 26.60% examples, 973427 words/s, in_qsize 7, out_qsize 0\n",
      "2018-12-24 23:42:42,068 : INFO : EPOCH 3 - PROGRESS: at 28.08% examples, 962738 words/s, in_qsize 7, out_qsize 0\n",
      "2018-12-24 23:42:43,071 : INFO : EPOCH 3 - PROGRESS: at 30.01% examples, 963850 words/s, in_qsize 7, out_qsize 0\n",
      "2018-12-24 23:42:44,073 : INFO : EPOCH 3 - PROGRESS: at 32.99% examples, 965482 words/s, in_qsize 7, out_qsize 0\n",
      "2018-12-24 23:42:45,074 : INFO : EPOCH 3 - PROGRESS: at 35.19% examples, 957819 words/s, in_qsize 7, out_qsize 0\n",
      "2018-12-24 23:42:46,083 : INFO : EPOCH 3 - PROGRESS: at 36.64% examples, 958754 words/s, in_qsize 7, out_qsize 0\n",
      "2018-12-24 23:42:47,089 : INFO : EPOCH 3 - PROGRESS: at 38.12% examples, 959299 words/s, in_qsize 7, out_qsize 0\n",
      "2018-12-24 23:42:48,092 : INFO : EPOCH 3 - PROGRESS: at 39.57% examples, 952947 words/s, in_qsize 7, out_qsize 0\n",
      "2018-12-24 23:42:49,100 : INFO : EPOCH 3 - PROGRESS: at 41.09% examples, 949166 words/s, in_qsize 7, out_qsize 0\n",
      "2018-12-24 23:42:50,105 : INFO : EPOCH 3 - PROGRESS: at 42.29% examples, 937091 words/s, in_qsize 7, out_qsize 0\n",
      "2018-12-24 23:42:51,109 : INFO : EPOCH 3 - PROGRESS: at 43.54% examples, 929218 words/s, in_qsize 7, out_qsize 0\n",
      "2018-12-24 23:42:52,123 : INFO : EPOCH 3 - PROGRESS: at 45.11% examples, 928746 words/s, in_qsize 7, out_qsize 0\n",
      "2018-12-24 23:42:53,127 : INFO : EPOCH 3 - PROGRESS: at 46.86% examples, 930384 words/s, in_qsize 7, out_qsize 0\n",
      "2018-12-24 23:42:54,132 : INFO : EPOCH 3 - PROGRESS: at 48.05% examples, 919654 words/s, in_qsize 7, out_qsize 0\n",
      "2018-12-24 23:42:55,149 : INFO : EPOCH 3 - PROGRESS: at 49.28% examples, 910311 words/s, in_qsize 7, out_qsize 0\n",
      "2018-12-24 23:42:56,162 : INFO : EPOCH 3 - PROGRESS: at 50.21% examples, 896188 words/s, in_qsize 7, out_qsize 0\n",
      "2018-12-24 23:42:57,163 : INFO : EPOCH 3 - PROGRESS: at 51.67% examples, 893491 words/s, in_qsize 7, out_qsize 0\n",
      "2018-12-24 23:42:58,171 : INFO : EPOCH 3 - PROGRESS: at 53.26% examples, 892953 words/s, in_qsize 7, out_qsize 0\n",
      "2018-12-24 23:42:59,179 : INFO : EPOCH 3 - PROGRESS: at 54.12% examples, 887523 words/s, in_qsize 8, out_qsize 0\n",
      "2018-12-24 23:43:00,180 : INFO : EPOCH 3 - PROGRESS: at 55.06% examples, 888312 words/s, in_qsize 7, out_qsize 0\n",
      "2018-12-24 23:43:01,186 : INFO : EPOCH 3 - PROGRESS: at 56.27% examples, 893963 words/s, in_qsize 7, out_qsize 0\n",
      "2018-12-24 23:43:02,190 : INFO : EPOCH 3 - PROGRESS: at 57.21% examples, 897353 words/s, in_qsize 7, out_qsize 0\n",
      "2018-12-24 23:43:03,196 : INFO : EPOCH 3 - PROGRESS: at 58.43% examples, 899674 words/s, in_qsize 7, out_qsize 0\n",
      "2018-12-24 23:43:04,206 : INFO : EPOCH 3 - PROGRESS: at 59.80% examples, 904014 words/s, in_qsize 7, out_qsize 0\n",
      "2018-12-24 23:43:05,211 : INFO : EPOCH 3 - PROGRESS: at 61.07% examples, 906335 words/s, in_qsize 7, out_qsize 0\n",
      "2018-12-24 23:43:06,217 : INFO : EPOCH 3 - PROGRESS: at 62.37% examples, 907736 words/s, in_qsize 7, out_qsize 0\n",
      "2018-12-24 23:43:07,225 : INFO : EPOCH 3 - PROGRESS: at 63.75% examples, 911428 words/s, in_qsize 6, out_qsize 1\n",
      "2018-12-24 23:43:08,241 : INFO : EPOCH 3 - PROGRESS: at 65.14% examples, 916136 words/s, in_qsize 7, out_qsize 0\n",
      "2018-12-24 23:43:09,242 : INFO : EPOCH 3 - PROGRESS: at 66.16% examples, 918815 words/s, in_qsize 7, out_qsize 0\n",
      "2018-12-24 23:43:10,247 : INFO : EPOCH 3 - PROGRESS: at 67.42% examples, 923151 words/s, in_qsize 7, out_qsize 0\n",
      "2018-12-24 23:43:11,252 : INFO : EPOCH 3 - PROGRESS: at 68.22% examples, 925565 words/s, in_qsize 7, out_qsize 0\n",
      "2018-12-24 23:43:12,256 : INFO : EPOCH 3 - PROGRESS: at 69.44% examples, 927702 words/s, in_qsize 7, out_qsize 0\n",
      "2018-12-24 23:43:13,269 : INFO : EPOCH 3 - PROGRESS: at 71.26% examples, 929336 words/s, in_qsize 7, out_qsize 0\n",
      "2018-12-24 23:43:14,272 : INFO : EPOCH 3 - PROGRESS: at 73.43% examples, 927083 words/s, in_qsize 7, out_qsize 0\n",
      "2018-12-24 23:43:15,275 : INFO : EPOCH 3 - PROGRESS: at 76.55% examples, 925709 words/s, in_qsize 7, out_qsize 1\n",
      "2018-12-24 23:43:16,275 : INFO : EPOCH 3 - PROGRESS: at 77.87% examples, 923596 words/s, in_qsize 7, out_qsize 0\n",
      "2018-12-24 23:43:17,285 : INFO : EPOCH 3 - PROGRESS: at 79.19% examples, 921829 words/s, in_qsize 7, out_qsize 0\n",
      "2018-12-24 23:43:18,291 : INFO : EPOCH 3 - PROGRESS: at 80.25% examples, 918348 words/s, in_qsize 7, out_qsize 0\n",
      "2018-12-24 23:43:19,314 : INFO : EPOCH 3 - PROGRESS: at 81.13% examples, 911862 words/s, in_qsize 6, out_qsize 1\n",
      "2018-12-24 23:43:20,322 : INFO : EPOCH 3 - PROGRESS: at 82.26% examples, 909373 words/s, in_qsize 7, out_qsize 0\n",
      "2018-12-24 23:43:21,326 : INFO : EPOCH 3 - PROGRESS: at 83.46% examples, 908545 words/s, in_qsize 7, out_qsize 0\n",
      "2018-12-24 23:43:22,326 : INFO : EPOCH 3 - PROGRESS: at 85.28% examples, 908445 words/s, in_qsize 7, out_qsize 0\n",
      "2018-12-24 23:43:23,344 : INFO : EPOCH 3 - PROGRESS: at 88.24% examples, 908931 words/s, in_qsize 8, out_qsize 0\n",
      "2018-12-24 23:43:24,348 : INFO : EPOCH 3 - PROGRESS: at 91.30% examples, 910722 words/s, in_qsize 7, out_qsize 0\n",
      "2018-12-24 23:43:25,355 : INFO : EPOCH 3 - PROGRESS: at 94.29% examples, 912293 words/s, in_qsize 8, out_qsize 0\n",
      "2018-12-24 23:43:26,471 : INFO : EPOCH 3 - PROGRESS: at 96.90% examples, 912006 words/s, in_qsize 8, out_qsize 0\n",
      "2018-12-24 23:43:27,476 : INFO : EPOCH 3 - PROGRESS: at 98.32% examples, 912925 words/s, in_qsize 7, out_qsize 0\n",
      "2018-12-24 23:43:28,479 : INFO : EPOCH 3 - PROGRESS: at 99.87% examples, 915003 words/s, in_qsize 7, out_qsize 0\n",
      "2018-12-24 23:43:28,526 : INFO : worker thread finished; awaiting finish of 3 more threads\n",
      "2018-12-24 23:43:28,533 : INFO : worker thread finished; awaiting finish of 2 more threads\n",
      "2018-12-24 23:43:28,541 : INFO : worker thread finished; awaiting finish of 1 more threads\n",
      "2018-12-24 23:43:28,546 : INFO : worker thread finished; awaiting finish of 0 more threads\n",
      "2018-12-24 23:43:28,546 : INFO : EPOCH - 3 : training on 57349221 raw words (56400288 effective words) took 61.6s, 915355 effective words/s\n"
     ]
    },
    {
     "name": "stderr",
     "output_type": "stream",
     "text": [
      "2018-12-24 23:43:29,560 : INFO : EPOCH 4 - PROGRESS: at 1.05% examples, 910282 words/s, in_qsize 7, out_qsize 0\n",
      "2018-12-24 23:43:30,566 : INFO : EPOCH 4 - PROGRESS: at 1.90% examples, 825602 words/s, in_qsize 7, out_qsize 0\n",
      "2018-12-24 23:43:31,580 : INFO : EPOCH 4 - PROGRESS: at 2.93% examples, 855512 words/s, in_qsize 7, out_qsize 0\n",
      "2018-12-24 23:43:32,583 : INFO : EPOCH 4 - PROGRESS: at 4.03% examples, 883005 words/s, in_qsize 7, out_qsize 0\n",
      "2018-12-24 23:43:33,589 : INFO : EPOCH 4 - PROGRESS: at 5.12% examples, 903578 words/s, in_qsize 7, out_qsize 0\n",
      "2018-12-24 23:43:34,603 : INFO : EPOCH 4 - PROGRESS: at 7.50% examples, 924636 words/s, in_qsize 8, out_qsize 0\n",
      "2018-12-24 23:43:35,606 : INFO : EPOCH 4 - PROGRESS: at 9.77% examples, 912114 words/s, in_qsize 7, out_qsize 0\n",
      "2018-12-24 23:43:36,606 : INFO : EPOCH 4 - PROGRESS: at 12.66% examples, 933458 words/s, in_qsize 7, out_qsize 0\n",
      "2018-12-24 23:43:37,614 : INFO : EPOCH 4 - PROGRESS: at 15.49% examples, 948226 words/s, in_qsize 7, out_qsize 0\n",
      "2018-12-24 23:43:38,615 : INFO : EPOCH 4 - PROGRESS: at 17.87% examples, 947433 words/s, in_qsize 7, out_qsize 0\n",
      "2018-12-24 23:43:39,615 : INFO : EPOCH 4 - PROGRESS: at 20.42% examples, 953858 words/s, in_qsize 7, out_qsize 0\n",
      "2018-12-24 23:43:40,624 : INFO : EPOCH 4 - PROGRESS: at 22.82% examples, 962614 words/s, in_qsize 7, out_qsize 0\n",
      "2018-12-24 23:43:41,632 : INFO : EPOCH 4 - PROGRESS: at 24.66% examples, 970519 words/s, in_qsize 7, out_qsize 0\n",
      "2018-12-24 23:43:42,646 : INFO : EPOCH 4 - PROGRESS: at 26.65% examples, 978497 words/s, in_qsize 6, out_qsize 1\n",
      "2018-12-24 23:43:43,653 : INFO : EPOCH 4 - PROGRESS: at 28.69% examples, 986069 words/s, in_qsize 7, out_qsize 0\n",
      "2018-12-24 23:43:44,679 : INFO : EPOCH 4 - PROGRESS: at 30.27% examples, 972592 words/s, in_qsize 7, out_qsize 0\n",
      "2018-12-24 23:43:45,700 : INFO : EPOCH 4 - PROGRESS: at 31.59% examples, 943409 words/s, in_qsize 7, out_qsize 0\n",
      "2018-12-24 23:43:46,730 : INFO : EPOCH 4 - PROGRESS: at 33.05% examples, 911638 words/s, in_qsize 7, out_qsize 0\n",
      "2018-12-24 23:43:47,737 : INFO : EPOCH 4 - PROGRESS: at 34.81% examples, 892494 words/s, in_qsize 7, out_qsize 0\n",
      "2018-12-24 23:43:48,738 : INFO : EPOCH 4 - PROGRESS: at 35.87% examples, 883470 words/s, in_qsize 7, out_qsize 0\n",
      "2018-12-24 23:43:49,756 : INFO : EPOCH 4 - PROGRESS: at 36.94% examples, 875534 words/s, in_qsize 8, out_qsize 0\n",
      "2018-12-24 23:43:50,763 : INFO : EPOCH 4 - PROGRESS: at 37.90% examples, 865226 words/s, in_qsize 7, out_qsize 0\n",
      "2018-12-24 23:43:51,770 : INFO : EPOCH 4 - PROGRESS: at 39.67% examples, 871122 words/s, in_qsize 7, out_qsize 0\n",
      "2018-12-24 23:43:52,776 : INFO : EPOCH 4 - PROGRESS: at 41.08% examples, 868357 words/s, in_qsize 7, out_qsize 0\n",
      "2018-12-24 23:43:53,788 : INFO : EPOCH 4 - PROGRESS: at 42.94% examples, 875912 words/s, in_qsize 7, out_qsize 0\n",
      "2018-12-24 23:43:54,789 : INFO : EPOCH 4 - PROGRESS: at 44.54% examples, 879365 words/s, in_qsize 6, out_qsize 1\n",
      "2018-12-24 23:43:55,806 : INFO : EPOCH 4 - PROGRESS: at 46.16% examples, 880372 words/s, in_qsize 5, out_qsize 2\n",
      "2018-12-24 23:43:56,837 : INFO : EPOCH 4 - PROGRESS: at 48.04% examples, 884171 words/s, in_qsize 7, out_qsize 0\n",
      "2018-12-24 23:43:57,851 : INFO : EPOCH 4 - PROGRESS: at 49.81% examples, 886657 words/s, in_qsize 8, out_qsize 0\n",
      "2018-12-24 23:43:58,858 : INFO : EPOCH 4 - PROGRESS: at 51.20% examples, 882544 words/s, in_qsize 7, out_qsize 0\n",
      "2018-12-24 23:43:59,859 : INFO : EPOCH 4 - PROGRESS: at 52.28% examples, 873672 words/s, in_qsize 7, out_qsize 0\n",
      "2018-12-24 23:44:00,875 : INFO : EPOCH 4 - PROGRESS: at 53.36% examples, 864866 words/s, in_qsize 7, out_qsize 0\n",
      "2018-12-24 23:44:01,937 : INFO : EPOCH 4 - PROGRESS: at 54.12% examples, 857346 words/s, in_qsize 7, out_qsize 0\n",
      "2018-12-24 23:44:02,954 : INFO : EPOCH 4 - PROGRESS: at 54.57% examples, 845350 words/s, in_qsize 6, out_qsize 1\n",
      "2018-12-24 23:44:03,964 : INFO : EPOCH 4 - PROGRESS: at 55.02% examples, 833283 words/s, in_qsize 7, out_qsize 0\n",
      "2018-12-24 23:44:04,969 : INFO : EPOCH 4 - PROGRESS: at 55.94% examples, 831995 words/s, in_qsize 7, out_qsize 0\n",
      "2018-12-24 23:44:05,974 : INFO : EPOCH 4 - PROGRESS: at 56.57% examples, 826700 words/s, in_qsize 7, out_qsize 0\n",
      "2018-12-24 23:44:06,986 : INFO : EPOCH 4 - PROGRESS: at 57.35% examples, 826270 words/s, in_qsize 7, out_qsize 0\n",
      "2018-12-24 23:44:08,000 : INFO : EPOCH 4 - PROGRESS: at 58.20% examples, 821878 words/s, in_qsize 7, out_qsize 0\n",
      "2018-12-24 23:44:09,003 : INFO : EPOCH 4 - PROGRESS: at 58.70% examples, 811776 words/s, in_qsize 7, out_qsize 0\n",
      "2018-12-24 23:44:10,011 : INFO : EPOCH 4 - PROGRESS: at 59.43% examples, 806197 words/s, in_qsize 7, out_qsize 0\n",
      "2018-12-24 23:44:11,016 : INFO : EPOCH 4 - PROGRESS: at 60.68% examples, 809647 words/s, in_qsize 8, out_qsize 0\n",
      "2018-12-24 23:44:12,036 : INFO : EPOCH 4 - PROGRESS: at 61.76% examples, 809892 words/s, in_qsize 6, out_qsize 1\n",
      "2018-12-24 23:44:13,051 : INFO : EPOCH 4 - PROGRESS: at 62.55% examples, 804413 words/s, in_qsize 8, out_qsize 1\n",
      "2018-12-24 23:44:14,055 : INFO : EPOCH 4 - PROGRESS: at 63.75% examples, 807133 words/s, in_qsize 7, out_qsize 0\n",
      "2018-12-24 23:44:15,061 : INFO : EPOCH 4 - PROGRESS: at 65.07% examples, 812328 words/s, in_qsize 7, out_qsize 0\n",
      "2018-12-24 23:44:16,081 : INFO : EPOCH 4 - PROGRESS: at 66.08% examples, 816221 words/s, in_qsize 7, out_qsize 0\n",
      "2018-12-24 23:44:17,087 : INFO : EPOCH 4 - PROGRESS: at 67.36% examples, 820535 words/s, in_qsize 7, out_qsize 0\n",
      "2018-12-24 23:44:18,169 : INFO : EPOCH 4 - PROGRESS: at 67.84% examples, 821193 words/s, in_qsize 7, out_qsize 0\n",
      "2018-12-24 23:44:19,178 : INFO : EPOCH 4 - PROGRESS: at 68.56% examples, 815552 words/s, in_qsize 7, out_qsize 0\n",
      "2018-12-24 23:44:20,198 : INFO : EPOCH 4 - PROGRESS: at 69.20% examples, 809649 words/s, in_qsize 7, out_qsize 0\n",
      "2018-12-24 23:44:21,220 : INFO : EPOCH 4 - PROGRESS: at 69.97% examples, 807478 words/s, in_qsize 7, out_qsize 0\n",
      "2018-12-24 23:44:22,225 : INFO : EPOCH 4 - PROGRESS: at 72.18% examples, 809199 words/s, in_qsize 7, out_qsize 0\n",
      "2018-12-24 23:44:23,231 : INFO : EPOCH 4 - PROGRESS: at 73.57% examples, 803590 words/s, in_qsize 7, out_qsize 0\n",
      "2018-12-24 23:44:24,235 : INFO : EPOCH 4 - PROGRESS: at 76.77% examples, 806554 words/s, in_qsize 7, out_qsize 0\n",
      "2018-12-24 23:44:25,238 : INFO : EPOCH 4 - PROGRESS: at 78.19% examples, 807652 words/s, in_qsize 7, out_qsize 0\n",
      "2018-12-24 23:44:26,263 : INFO : EPOCH 4 - PROGRESS: at 79.60% examples, 809586 words/s, in_qsize 7, out_qsize 0\n",
      "2018-12-24 23:44:27,265 : INFO : EPOCH 4 - PROGRESS: at 80.55% examples, 806939 words/s, in_qsize 7, out_qsize 0\n",
      "2018-12-24 23:44:28,275 : INFO : EPOCH 4 - PROGRESS: at 81.82% examples, 807861 words/s, in_qsize 7, out_qsize 0\n",
      "2018-12-24 23:44:29,278 : INFO : EPOCH 4 - PROGRESS: at 83.07% examples, 809152 words/s, in_qsize 7, out_qsize 0\n",
      "2018-12-24 23:44:30,283 : INFO : EPOCH 4 - PROGRESS: at 84.42% examples, 810854 words/s, in_qsize 7, out_qsize 0\n",
      "2018-12-24 23:44:31,288 : INFO : EPOCH 4 - PROGRESS: at 87.46% examples, 813335 words/s, in_qsize 7, out_qsize 0\n",
      "2018-12-24 23:44:32,297 : INFO : EPOCH 4 - PROGRESS: at 90.59% examples, 816408 words/s, in_qsize 7, out_qsize 0\n",
      "2018-12-24 23:44:33,331 : INFO : EPOCH 4 - PROGRESS: at 93.41% examples, 818217 words/s, in_qsize 7, out_qsize 0\n",
      "2018-12-24 23:44:34,338 : INFO : EPOCH 4 - PROGRESS: at 95.04% examples, 814073 words/s, in_qsize 7, out_qsize 0\n",
      "2018-12-24 23:44:35,349 : INFO : EPOCH 4 - PROGRESS: at 97.14% examples, 815372 words/s, in_qsize 7, out_qsize 0\n",
      "2018-12-24 23:44:36,349 : INFO : EPOCH 4 - PROGRESS: at 98.65% examples, 818919 words/s, in_qsize 7, out_qsize 0\n",
      "2018-12-24 23:44:37,149 : INFO : worker thread finished; awaiting finish of 3 more threads\n",
      "2018-12-24 23:44:37,159 : INFO : worker thread finished; awaiting finish of 2 more threads\n",
      "2018-12-24 23:44:37,166 : INFO : worker thread finished; awaiting finish of 1 more threads\n",
      "2018-12-24 23:44:37,169 : INFO : worker thread finished; awaiting finish of 0 more threads\n",
      "2018-12-24 23:44:37,170 : INFO : EPOCH - 4 : training on 57349221 raw words (56399991 effective words) took 68.6s, 821975 effective words/s\n",
      "2018-12-24 23:44:38,181 : INFO : EPOCH 5 - PROGRESS: at 1.19% examples, 1025496 words/s, in_qsize 7, out_qsize 0\n",
      "2018-12-24 23:44:39,182 : INFO : EPOCH 5 - PROGRESS: at 2.17% examples, 957606 words/s, in_qsize 7, out_qsize 0\n"
     ]
    },
    {
     "name": "stderr",
     "output_type": "stream",
     "text": [
      "2018-12-24 23:44:40,186 : INFO : EPOCH 5 - PROGRESS: at 3.29% examples, 963129 words/s, in_qsize 7, out_qsize 0\n",
      "2018-12-24 23:44:41,186 : INFO : EPOCH 5 - PROGRESS: at 4.38% examples, 963185 words/s, in_qsize 7, out_qsize 0\n",
      "2018-12-24 23:44:42,190 : INFO : EPOCH 5 - PROGRESS: at 5.45% examples, 966244 words/s, in_qsize 7, out_qsize 0\n",
      "2018-12-24 23:44:43,199 : INFO : EPOCH 5 - PROGRESS: at 8.39% examples, 984390 words/s, in_qsize 7, out_qsize 0\n",
      "2018-12-24 23:44:44,215 : INFO : EPOCH 5 - PROGRESS: at 11.27% examples, 990614 words/s, in_qsize 7, out_qsize 0\n",
      "2018-12-24 23:44:45,218 : INFO : EPOCH 5 - PROGRESS: at 13.84% examples, 990447 words/s, in_qsize 7, out_qsize 0\n",
      "2018-12-24 23:44:46,221 : INFO : EPOCH 5 - PROGRESS: at 16.47% examples, 991153 words/s, in_qsize 7, out_qsize 0\n",
      "2018-12-24 23:44:47,222 : INFO : EPOCH 5 - PROGRESS: at 18.78% examples, 986461 words/s, in_qsize 7, out_qsize 0\n",
      "2018-12-24 23:44:48,228 : INFO : EPOCH 5 - PROGRESS: at 21.36% examples, 989288 words/s, in_qsize 7, out_qsize 0\n",
      "2018-12-24 23:44:49,228 : INFO : EPOCH 5 - PROGRESS: at 23.28% examples, 986155 words/s, in_qsize 7, out_qsize 0\n",
      "2018-12-24 23:44:50,244 : INFO : EPOCH 5 - PROGRESS: at 24.65% examples, 970680 words/s, in_qsize 8, out_qsize 0\n",
      "2018-12-24 23:44:51,250 : INFO : EPOCH 5 - PROGRESS: at 26.42% examples, 971137 words/s, in_qsize 7, out_qsize 0\n",
      "2018-12-24 23:44:52,262 : INFO : EPOCH 5 - PROGRESS: at 28.30% examples, 973626 words/s, in_qsize 7, out_qsize 0\n",
      "2018-12-24 23:44:53,268 : INFO : EPOCH 5 - PROGRESS: at 29.89% examples, 963345 words/s, in_qsize 7, out_qsize 0\n",
      "2018-12-24 23:44:54,274 : INFO : EPOCH 5 - PROGRESS: at 32.59% examples, 962387 words/s, in_qsize 7, out_qsize 0\n",
      "2018-12-24 23:44:55,285 : INFO : EPOCH 5 - PROGRESS: at 35.25% examples, 961802 words/s, in_qsize 7, out_qsize 0\n",
      "2018-12-24 23:44:56,289 : INFO : EPOCH 5 - PROGRESS: at 36.37% examples, 951376 words/s, in_qsize 7, out_qsize 0\n",
      "2018-12-24 23:44:57,290 : INFO : EPOCH 5 - PROGRESS: at 37.53% examples, 943600 words/s, in_qsize 7, out_qsize 0\n",
      "2018-12-24 23:44:58,291 : INFO : EPOCH 5 - PROGRESS: at 39.17% examples, 944245 words/s, in_qsize 7, out_qsize 0\n",
      "2018-12-24 23:44:59,308 : INFO : EPOCH 5 - PROGRESS: at 40.39% examples, 933027 words/s, in_qsize 6, out_qsize 1\n",
      "2018-12-24 23:45:00,308 : INFO : EPOCH 5 - PROGRESS: at 41.78% examples, 926366 words/s, in_qsize 7, out_qsize 0\n",
      "2018-12-24 23:45:01,313 : INFO : EPOCH 5 - PROGRESS: at 43.46% examples, 928912 words/s, in_qsize 7, out_qsize 0\n",
      "2018-12-24 23:45:02,317 : INFO : EPOCH 5 - PROGRESS: at 45.01% examples, 928399 words/s, in_qsize 7, out_qsize 0\n",
      "2018-12-24 23:45:03,325 : INFO : EPOCH 5 - PROGRESS: at 46.79% examples, 930713 words/s, in_qsize 7, out_qsize 0\n",
      "2018-12-24 23:45:04,327 : INFO : EPOCH 5 - PROGRESS: at 48.75% examples, 935243 words/s, in_qsize 7, out_qsize 0\n",
      "2018-12-24 23:45:05,371 : INFO : EPOCH 5 - PROGRESS: at 50.43% examples, 933957 words/s, in_qsize 6, out_qsize 1\n",
      "2018-12-24 23:45:06,378 : INFO : EPOCH 5 - PROGRESS: at 51.87% examples, 929072 words/s, in_qsize 7, out_qsize 0\n",
      "2018-12-24 23:45:07,379 : INFO : EPOCH 5 - PROGRESS: at 53.59% examples, 929720 words/s, in_qsize 7, out_qsize 0\n",
      "2018-12-24 23:45:08,382 : INFO : EPOCH 5 - PROGRESS: at 54.50% examples, 929620 words/s, in_qsize 7, out_qsize 0\n",
      "2018-12-24 23:45:09,394 : INFO : EPOCH 5 - PROGRESS: at 55.65% examples, 932238 words/s, in_qsize 7, out_qsize 0\n",
      "2018-12-24 23:45:10,400 : INFO : EPOCH 5 - PROGRESS: at 56.71% examples, 935783 words/s, in_qsize 7, out_qsize 0\n",
      "2018-12-24 23:45:11,411 : INFO : EPOCH 5 - PROGRESS: at 57.88% examples, 939493 words/s, in_qsize 7, out_qsize 0\n",
      "2018-12-24 23:45:12,416 : INFO : EPOCH 5 - PROGRESS: at 59.18% examples, 942825 words/s, in_qsize 7, out_qsize 0\n",
      "2018-12-24 23:45:13,420 : INFO : EPOCH 5 - PROGRESS: at 60.58% examples, 946540 words/s, in_qsize 7, out_qsize 0\n",
      "2018-12-24 23:45:14,428 : INFO : EPOCH 5 - PROGRESS: at 61.93% examples, 948914 words/s, in_qsize 7, out_qsize 0\n",
      "2018-12-24 23:45:15,439 : INFO : EPOCH 5 - PROGRESS: at 63.37% examples, 951931 words/s, in_qsize 7, out_qsize 0\n",
      "2018-12-24 23:45:16,444 : INFO : EPOCH 5 - PROGRESS: at 64.77% examples, 955279 words/s, in_qsize 7, out_qsize 0\n",
      "2018-12-24 23:45:17,449 : INFO : EPOCH 5 - PROGRESS: at 65.87% examples, 958012 words/s, in_qsize 7, out_qsize 0\n",
      "2018-12-24 23:45:18,470 : INFO : EPOCH 5 - PROGRESS: at 66.78% examples, 953701 words/s, in_qsize 6, out_qsize 1\n",
      "2018-12-24 23:45:19,480 : INFO : EPOCH 5 - PROGRESS: at 67.38% examples, 942909 words/s, in_qsize 7, out_qsize 0\n",
      "2018-12-24 23:45:20,482 : INFO : EPOCH 5 - PROGRESS: at 67.69% examples, 938685 words/s, in_qsize 7, out_qsize 0\n",
      "2018-12-24 23:45:21,484 : INFO : EPOCH 5 - PROGRESS: at 68.79% examples, 935883 words/s, in_qsize 7, out_qsize 0\n",
      "2018-12-24 23:45:22,505 : INFO : EPOCH 5 - PROGRESS: at 69.88% examples, 937345 words/s, in_qsize 7, out_qsize 0\n",
      "2018-12-24 23:45:23,509 : INFO : EPOCH 5 - PROGRESS: at 72.41% examples, 939246 words/s, in_qsize 7, out_qsize 0\n",
      "2018-12-24 23:45:24,517 : INFO : EPOCH 5 - PROGRESS: at 75.89% examples, 941915 words/s, in_qsize 7, out_qsize 0\n",
      "2018-12-24 23:45:25,521 : INFO : EPOCH 5 - PROGRESS: at 77.97% examples, 944099 words/s, in_qsize 7, out_qsize 0\n",
      "2018-12-24 23:45:26,528 : INFO : EPOCH 5 - PROGRESS: at 79.53% examples, 945733 words/s, in_qsize 7, out_qsize 0\n",
      "2018-12-24 23:45:27,537 : INFO : EPOCH 5 - PROGRESS: at 81.07% examples, 947734 words/s, in_qsize 7, out_qsize 0\n",
      "2018-12-24 23:45:28,540 : INFO : EPOCH 5 - PROGRESS: at 82.27% examples, 945490 words/s, in_qsize 7, out_qsize 0\n",
      "2018-12-24 23:45:29,542 : INFO : EPOCH 5 - PROGRESS: at 83.50% examples, 944347 words/s, in_qsize 8, out_qsize 0\n",
      "2018-12-24 23:45:30,577 : INFO : EPOCH 5 - PROGRESS: at 85.04% examples, 940957 words/s, in_qsize 7, out_qsize 0\n",
      "2018-12-24 23:45:31,582 : INFO : EPOCH 5 - PROGRESS: at 88.03% examples, 941240 words/s, in_qsize 7, out_qsize 0\n",
      "2018-12-24 23:45:32,594 : INFO : EPOCH 5 - PROGRESS: at 90.99% examples, 941530 words/s, in_qsize 6, out_qsize 1\n",
      "2018-12-24 23:45:33,608 : INFO : EPOCH 5 - PROGRESS: at 93.86% examples, 941989 words/s, in_qsize 7, out_qsize 0\n",
      "2018-12-24 23:45:34,609 : INFO : EPOCH 5 - PROGRESS: at 96.44% examples, 940896 words/s, in_qsize 7, out_qsize 0\n",
      "2018-12-24 23:45:35,625 : INFO : EPOCH 5 - PROGRESS: at 97.58% examples, 936817 words/s, in_qsize 7, out_qsize 0\n",
      "2018-12-24 23:45:36,658 : INFO : EPOCH 5 - PROGRESS: at 98.71% examples, 934046 words/s, in_qsize 6, out_qsize 1\n",
      "2018-12-24 23:45:37,522 : INFO : worker thread finished; awaiting finish of 3 more threads\n",
      "2018-12-24 23:45:37,532 : INFO : worker thread finished; awaiting finish of 2 more threads\n",
      "2018-12-24 23:45:37,540 : INFO : worker thread finished; awaiting finish of 1 more threads\n",
      "2018-12-24 23:45:37,541 : INFO : worker thread finished; awaiting finish of 0 more threads\n",
      "2018-12-24 23:45:37,541 : INFO : EPOCH - 5 : training on 57349221 raw words (56400864 effective words) took 60.4s, 934348 effective words/s\n",
      "2018-12-24 23:45:38,549 : INFO : EPOCH 6 - PROGRESS: at 1.12% examples, 971075 words/s, in_qsize 7, out_qsize 0\n",
      "2018-12-24 23:45:39,557 : INFO : EPOCH 6 - PROGRESS: at 2.27% examples, 997953 words/s, in_qsize 7, out_qsize 0\n",
      "2018-12-24 23:45:40,560 : INFO : EPOCH 6 - PROGRESS: at 3.38% examples, 987327 words/s, in_qsize 7, out_qsize 0\n",
      "2018-12-24 23:45:41,565 : INFO : EPOCH 6 - PROGRESS: at 4.28% examples, 940165 words/s, in_qsize 7, out_qsize 0\n",
      "2018-12-24 23:45:42,571 : INFO : EPOCH 6 - PROGRESS: at 5.30% examples, 937541 words/s, in_qsize 7, out_qsize 0\n",
      "2018-12-24 23:45:43,579 : INFO : EPOCH 6 - PROGRESS: at 7.09% examples, 903215 words/s, in_qsize 8, out_qsize 0\n",
      "2018-12-24 23:45:44,586 : INFO : EPOCH 6 - PROGRESS: at 9.46% examples, 898606 words/s, in_qsize 7, out_qsize 0\n",
      "2018-12-24 23:45:45,589 : INFO : EPOCH 6 - PROGRESS: at 11.98% examples, 900076 words/s, in_qsize 7, out_qsize 0\n",
      "2018-12-24 23:45:46,596 : INFO : EPOCH 6 - PROGRESS: at 14.11% examples, 892716 words/s, in_qsize 7, out_qsize 0\n",
      "2018-12-24 23:45:47,604 : INFO : EPOCH 6 - PROGRESS: at 16.57% examples, 895137 words/s, in_qsize 7, out_qsize 0\n",
      "2018-12-24 23:45:48,611 : INFO : EPOCH 6 - PROGRESS: at 18.67% examples, 891563 words/s, in_qsize 7, out_qsize 0\n",
      "2018-12-24 23:45:49,618 : INFO : EPOCH 6 - PROGRESS: at 20.74% examples, 885123 words/s, in_qsize 6, out_qsize 1\n"
     ]
    },
    {
     "name": "stderr",
     "output_type": "stream",
     "text": [
      "2018-12-24 23:45:50,647 : INFO : EPOCH 6 - PROGRESS: at 22.36% examples, 866651 words/s, in_qsize 8, out_qsize 0\n",
      "2018-12-24 23:45:51,659 : INFO : EPOCH 6 - PROGRESS: at 23.53% examples, 852183 words/s, in_qsize 7, out_qsize 0\n",
      "2018-12-24 23:45:52,671 : INFO : EPOCH 6 - PROGRESS: at 25.21% examples, 859506 words/s, in_qsize 7, out_qsize 0\n",
      "2018-12-24 23:45:53,672 : INFO : EPOCH 6 - PROGRESS: at 26.92% examples, 865002 words/s, in_qsize 7, out_qsize 0\n",
      "2018-12-24 23:45:54,676 : INFO : EPOCH 6 - PROGRESS: at 28.30% examples, 857439 words/s, in_qsize 7, out_qsize 0\n",
      "2018-12-24 23:45:55,684 : INFO : EPOCH 6 - PROGRESS: at 29.67% examples, 848296 words/s, in_qsize 8, out_qsize 1\n",
      "2018-12-24 23:45:56,687 : INFO : EPOCH 6 - PROGRESS: at 32.27% examples, 855093 words/s, in_qsize 8, out_qsize 0\n",
      "2018-12-24 23:45:57,709 : INFO : EPOCH 6 - PROGRESS: at 34.78% examples, 848687 words/s, in_qsize 8, out_qsize 0\n",
      "2018-12-24 23:45:58,725 : INFO : EPOCH 6 - PROGRESS: at 35.88% examples, 842465 words/s, in_qsize 7, out_qsize 0\n",
      "2018-12-24 23:45:59,732 : INFO : EPOCH 6 - PROGRESS: at 37.00% examples, 838912 words/s, in_qsize 7, out_qsize 0\n",
      "2018-12-24 23:46:00,734 : INFO : EPOCH 6 - PROGRESS: at 37.69% examples, 823363 words/s, in_qsize 7, out_qsize 0\n",
      "2018-12-24 23:46:01,846 : INFO : EPOCH 6 - PROGRESS: at 38.18% examples, 797078 words/s, in_qsize 7, out_qsize 0\n",
      "2018-12-24 23:46:02,855 : INFO : EPOCH 6 - PROGRESS: at 39.17% examples, 787741 words/s, in_qsize 8, out_qsize 1\n",
      "2018-12-24 23:46:03,871 : INFO : EPOCH 6 - PROGRESS: at 40.18% examples, 779954 words/s, in_qsize 8, out_qsize 0\n",
      "2018-12-24 23:46:04,880 : INFO : EPOCH 6 - PROGRESS: at 41.38% examples, 775876 words/s, in_qsize 7, out_qsize 0\n",
      "2018-12-24 23:46:05,893 : INFO : EPOCH 6 - PROGRESS: at 42.86% examples, 778036 words/s, in_qsize 7, out_qsize 0\n",
      "2018-12-24 23:46:06,904 : INFO : EPOCH 6 - PROGRESS: at 44.50% examples, 784899 words/s, in_qsize 8, out_qsize 0\n",
      "2018-12-24 23:46:07,908 : INFO : EPOCH 6 - PROGRESS: at 46.32% examples, 793058 words/s, in_qsize 7, out_qsize 0\n",
      "2018-12-24 23:46:08,911 : INFO : EPOCH 6 - PROGRESS: at 48.18% examples, 799777 words/s, in_qsize 7, out_qsize 0\n",
      "2018-12-24 23:46:09,914 : INFO : EPOCH 6 - PROGRESS: at 50.06% examples, 806717 words/s, in_qsize 6, out_qsize 1\n",
      "2018-12-24 23:46:10,923 : INFO : EPOCH 6 - PROGRESS: at 51.82% examples, 811989 words/s, in_qsize 7, out_qsize 0\n",
      "2018-12-24 23:46:11,926 : INFO : EPOCH 6 - PROGRESS: at 53.17% examples, 810066 words/s, in_qsize 8, out_qsize 1\n",
      "2018-12-24 23:46:12,935 : INFO : EPOCH 6 - PROGRESS: at 54.29% examples, 813592 words/s, in_qsize 8, out_qsize 0\n",
      "2018-12-24 23:46:13,979 : INFO : EPOCH 6 - PROGRESS: at 55.28% examples, 815690 words/s, in_qsize 7, out_qsize 0\n",
      "2018-12-24 23:46:14,984 : INFO : EPOCH 6 - PROGRESS: at 56.27% examples, 818010 words/s, in_qsize 7, out_qsize 0\n",
      "2018-12-24 23:46:15,993 : INFO : EPOCH 6 - PROGRESS: at 57.06% examples, 819115 words/s, in_qsize 7, out_qsize 1\n",
      "2018-12-24 23:46:17,004 : INFO : EPOCH 6 - PROGRESS: at 58.17% examples, 820920 words/s, in_qsize 8, out_qsize 0\n",
      "2018-12-24 23:46:18,006 : INFO : EPOCH 6 - PROGRESS: at 59.26% examples, 822567 words/s, in_qsize 7, out_qsize 0\n",
      "2018-12-24 23:46:19,020 : INFO : EPOCH 6 - PROGRESS: at 60.42% examples, 823927 words/s, in_qsize 7, out_qsize 0\n",
      "2018-12-24 23:46:20,037 : INFO : EPOCH 6 - PROGRESS: at 61.47% examples, 823650 words/s, in_qsize 8, out_qsize 0\n",
      "2018-12-24 23:46:21,037 : INFO : EPOCH 6 - PROGRESS: at 62.69% examples, 825428 words/s, in_qsize 7, out_qsize 0\n",
      "2018-12-24 23:46:22,040 : INFO : EPOCH 6 - PROGRESS: at 63.85% examples, 827128 words/s, in_qsize 7, out_qsize 0\n",
      "2018-12-24 23:46:23,042 : INFO : EPOCH 6 - PROGRESS: at 64.88% examples, 826382 words/s, in_qsize 7, out_qsize 0\n",
      "2018-12-24 23:46:24,045 : INFO : EPOCH 6 - PROGRESS: at 65.69% examples, 826063 words/s, in_qsize 7, out_qsize 0\n",
      "2018-12-24 23:46:25,047 : INFO : EPOCH 6 - PROGRESS: at 66.69% examples, 827584 words/s, in_qsize 7, out_qsize 0\n",
      "2018-12-24 23:46:26,060 : INFO : EPOCH 6 - PROGRESS: at 67.54% examples, 831030 words/s, in_qsize 7, out_qsize 0\n",
      "2018-12-24 23:46:27,067 : INFO : EPOCH 6 - PROGRESS: at 68.60% examples, 834467 words/s, in_qsize 6, out_qsize 1\n",
      "2018-12-24 23:46:28,069 : INFO : EPOCH 6 - PROGRESS: at 69.55% examples, 834369 words/s, in_qsize 7, out_qsize 0\n",
      "2018-12-24 23:46:29,071 : INFO : EPOCH 6 - PROGRESS: at 71.54% examples, 838067 words/s, in_qsize 6, out_qsize 1\n",
      "2018-12-24 23:46:30,073 : INFO : EPOCH 6 - PROGRESS: at 74.49% examples, 842173 words/s, in_qsize 7, out_qsize 0\n",
      "2018-12-24 23:46:31,082 : INFO : EPOCH 6 - PROGRESS: at 77.32% examples, 845472 words/s, in_qsize 8, out_qsize 1\n",
      "2018-12-24 23:46:32,085 : INFO : EPOCH 6 - PROGRESS: at 78.91% examples, 847669 words/s, in_qsize 6, out_qsize 1\n",
      "2018-12-24 23:46:33,100 : INFO : EPOCH 6 - PROGRESS: at 80.23% examples, 848890 words/s, in_qsize 7, out_qsize 0\n",
      "2018-12-24 23:46:34,112 : INFO : EPOCH 6 - PROGRESS: at 81.39% examples, 847630 words/s, in_qsize 7, out_qsize 0\n",
      "2018-12-24 23:46:35,115 : INFO : EPOCH 6 - PROGRESS: at 82.77% examples, 849854 words/s, in_qsize 7, out_qsize 0\n",
      "2018-12-24 23:46:36,116 : INFO : EPOCH 6 - PROGRESS: at 84.21% examples, 852667 words/s, in_qsize 7, out_qsize 0\n",
      "2018-12-24 23:46:37,125 : INFO : EPOCH 6 - PROGRESS: at 86.93% examples, 853646 words/s, in_qsize 7, out_qsize 0\n",
      "2018-12-24 23:46:38,140 : INFO : EPOCH 6 - PROGRESS: at 90.16% examples, 856597 words/s, in_qsize 7, out_qsize 0\n",
      "2018-12-24 23:46:39,161 : INFO : EPOCH 6 - PROGRESS: at 92.56% examples, 855494 words/s, in_qsize 7, out_qsize 0\n",
      "2018-12-24 23:46:40,162 : INFO : EPOCH 6 - PROGRESS: at 95.45% examples, 857597 words/s, in_qsize 7, out_qsize 0\n",
      "2018-12-24 23:46:41,180 : INFO : EPOCH 6 - PROGRESS: at 97.23% examples, 856792 words/s, in_qsize 7, out_qsize 0\n",
      "2018-12-24 23:46:42,188 : INFO : EPOCH 6 - PROGRESS: at 98.53% examples, 857435 words/s, in_qsize 7, out_qsize 0\n",
      "2018-12-24 23:46:43,200 : INFO : EPOCH 6 - PROGRESS: at 99.72% examples, 856357 words/s, in_qsize 6, out_qsize 1\n",
      "2018-12-24 23:46:43,377 : INFO : worker thread finished; awaiting finish of 3 more threads\n",
      "2018-12-24 23:46:43,385 : INFO : worker thread finished; awaiting finish of 2 more threads\n",
      "2018-12-24 23:46:43,400 : INFO : worker thread finished; awaiting finish of 1 more threads\n",
      "2018-12-24 23:46:43,400 : INFO : worker thread finished; awaiting finish of 0 more threads\n",
      "2018-12-24 23:46:43,401 : INFO : EPOCH - 6 : training on 57349221 raw words (56399651 effective words) took 65.9s, 856446 effective words/s\n",
      "2018-12-24 23:46:44,440 : INFO : EPOCH 7 - PROGRESS: at 0.89% examples, 752066 words/s, in_qsize 7, out_qsize 0\n",
      "2018-12-24 23:46:45,440 : INFO : EPOCH 7 - PROGRESS: at 1.67% examples, 715711 words/s, in_qsize 7, out_qsize 0\n",
      "2018-12-24 23:46:46,441 : INFO : EPOCH 7 - PROGRESS: at 2.73% examples, 796015 words/s, in_qsize 7, out_qsize 0\n",
      "2018-12-24 23:46:47,451 : INFO : EPOCH 7 - PROGRESS: at 3.74% examples, 816843 words/s, in_qsize 8, out_qsize 0\n",
      "2018-12-24 23:46:48,465 : INFO : EPOCH 7 - PROGRESS: at 4.38% examples, 763857 words/s, in_qsize 6, out_qsize 1\n",
      "2018-12-24 23:46:49,495 : INFO : EPOCH 7 - PROGRESS: at 5.13% examples, 749248 words/s, in_qsize 7, out_qsize 0\n",
      "2018-12-24 23:46:50,500 : INFO : EPOCH 7 - PROGRESS: at 6.87% examples, 757614 words/s, in_qsize 7, out_qsize 0\n",
      "2018-12-24 23:46:51,507 : INFO : EPOCH 7 - PROGRESS: at 9.23% examples, 770406 words/s, in_qsize 7, out_qsize 0\n",
      "2018-12-24 23:46:52,523 : INFO : EPOCH 7 - PROGRESS: at 11.68% examples, 780921 words/s, in_qsize 7, out_qsize 0\n",
      "2018-12-24 23:46:53,524 : INFO : EPOCH 7 - PROGRESS: at 14.11% examples, 798734 words/s, in_qsize 7, out_qsize 0\n",
      "2018-12-24 23:46:54,532 : INFO : EPOCH 7 - PROGRESS: at 16.80% examples, 817255 words/s, in_qsize 7, out_qsize 0\n",
      "2018-12-24 23:46:55,549 : INFO : EPOCH 7 - PROGRESS: at 18.97% examples, 822490 words/s, in_qsize 7, out_qsize 0\n",
      "2018-12-24 23:46:56,555 : INFO : EPOCH 7 - PROGRESS: at 20.54% examples, 806277 words/s, in_qsize 7, out_qsize 0\n",
      "2018-12-24 23:46:57,567 : INFO : EPOCH 7 - PROGRESS: at 22.66% examples, 814024 words/s, in_qsize 7, out_qsize 0\n",
      "2018-12-24 23:46:58,569 : INFO : EPOCH 7 - PROGRESS: at 24.29% examples, 823011 words/s, in_qsize 7, out_qsize 0\n",
      "2018-12-24 23:46:59,573 : INFO : EPOCH 7 - PROGRESS: at 25.54% examples, 816335 words/s, in_qsize 6, out_qsize 1\n"
     ]
    },
    {
     "name": "stderr",
     "output_type": "stream",
     "text": [
      "2018-12-24 23:47:00,583 : INFO : EPOCH 7 - PROGRESS: at 27.00% examples, 815000 words/s, in_qsize 7, out_qsize 0\n",
      "2018-12-24 23:47:01,595 : INFO : EPOCH 7 - PROGRESS: at 28.74% examples, 820327 words/s, in_qsize 7, out_qsize 0\n",
      "2018-12-24 23:47:02,617 : INFO : EPOCH 7 - PROGRESS: at 30.80% examples, 826477 words/s, in_qsize 7, out_qsize 0\n",
      "2018-12-24 23:47:03,621 : INFO : EPOCH 7 - PROGRESS: at 33.86% examples, 831385 words/s, in_qsize 7, out_qsize 0\n",
      "2018-12-24 23:47:04,624 : INFO : EPOCH 7 - PROGRESS: at 35.85% examples, 840131 words/s, in_qsize 7, out_qsize 0\n",
      "2018-12-24 23:47:05,629 : INFO : EPOCH 7 - PROGRESS: at 37.24% examples, 845181 words/s, in_qsize 7, out_qsize 0\n",
      "2018-12-24 23:47:06,631 : INFO : EPOCH 7 - PROGRESS: at 38.93% examples, 852340 words/s, in_qsize 8, out_qsize 0\n",
      "2018-12-24 23:47:07,635 : INFO : EPOCH 7 - PROGRESS: at 40.55% examples, 856320 words/s, in_qsize 7, out_qsize 0\n",
      "2018-12-24 23:47:08,647 : INFO : EPOCH 7 - PROGRESS: at 42.15% examples, 857477 words/s, in_qsize 7, out_qsize 0\n",
      "2018-12-24 23:47:09,654 : INFO : EPOCH 7 - PROGRESS: at 43.75% examples, 860795 words/s, in_qsize 7, out_qsize 0\n",
      "2018-12-24 23:47:10,711 : INFO : EPOCH 7 - PROGRESS: at 45.32% examples, 861251 words/s, in_qsize 6, out_qsize 1\n",
      "2018-12-24 23:47:11,729 : INFO : EPOCH 7 - PROGRESS: at 47.09% examples, 865106 words/s, in_qsize 7, out_qsize 0\n",
      "2018-12-24 23:47:12,730 : INFO : EPOCH 7 - PROGRESS: at 48.85% examples, 867975 words/s, in_qsize 7, out_qsize 0\n",
      "2018-12-24 23:47:13,735 : INFO : EPOCH 7 - PROGRESS: at 50.29% examples, 865494 words/s, in_qsize 7, out_qsize 0\n",
      "2018-12-24 23:47:14,749 : INFO : EPOCH 7 - PROGRESS: at 51.91% examples, 866294 words/s, in_qsize 6, out_qsize 1\n",
      "2018-12-24 23:47:15,749 : INFO : EPOCH 7 - PROGRESS: at 53.57% examples, 867974 words/s, in_qsize 8, out_qsize 0\n",
      "2018-12-24 23:47:16,754 : INFO : EPOCH 7 - PROGRESS: at 54.57% examples, 872115 words/s, in_qsize 7, out_qsize 0\n",
      "2018-12-24 23:47:17,759 : INFO : EPOCH 7 - PROGRESS: at 55.45% examples, 869092 words/s, in_qsize 8, out_qsize 0\n",
      "2018-12-24 23:47:18,762 : INFO : EPOCH 7 - PROGRESS: at 56.24% examples, 865448 words/s, in_qsize 7, out_qsize 0\n",
      "2018-12-24 23:47:19,771 : INFO : EPOCH 7 - PROGRESS: at 56.80% examples, 857865 words/s, in_qsize 7, out_qsize 0\n",
      "2018-12-24 23:47:20,778 : INFO : EPOCH 7 - PROGRESS: at 57.66% examples, 855941 words/s, in_qsize 7, out_qsize 0\n",
      "2018-12-24 23:47:21,787 : INFO : EPOCH 7 - PROGRESS: at 58.80% examples, 857587 words/s, in_qsize 7, out_qsize 0\n",
      "2018-12-24 23:47:22,792 : INFO : EPOCH 7 - PROGRESS: at 60.01% examples, 859980 words/s, in_qsize 7, out_qsize 0\n",
      "2018-12-24 23:47:23,795 : INFO : EPOCH 7 - PROGRESS: at 61.25% examples, 862435 words/s, in_qsize 7, out_qsize 0\n",
      "2018-12-24 23:47:24,810 : INFO : EPOCH 7 - PROGRESS: at 62.64% examples, 866222 words/s, in_qsize 7, out_qsize 0\n",
      "2018-12-24 23:47:25,829 : INFO : EPOCH 7 - PROGRESS: at 63.96% examples, 869609 words/s, in_qsize 7, out_qsize 0\n",
      "2018-12-24 23:47:26,847 : INFO : EPOCH 7 - PROGRESS: at 65.16% examples, 871729 words/s, in_qsize 7, out_qsize 0\n",
      "2018-12-24 23:47:27,854 : INFO : EPOCH 7 - PROGRESS: at 66.15% examples, 874527 words/s, in_qsize 8, out_qsize 0\n",
      "2018-12-24 23:47:28,868 : INFO : EPOCH 7 - PROGRESS: at 67.37% examples, 877080 words/s, in_qsize 7, out_qsize 0\n",
      "2018-12-24 23:47:29,879 : INFO : EPOCH 7 - PROGRESS: at 67.98% examples, 878843 words/s, in_qsize 8, out_qsize 1\n",
      "2018-12-24 23:47:30,882 : INFO : EPOCH 7 - PROGRESS: at 69.15% examples, 879856 words/s, in_qsize 7, out_qsize 0\n",
      "2018-12-24 23:47:31,890 : INFO : EPOCH 7 - PROGRESS: at 70.54% examples, 882164 words/s, in_qsize 7, out_qsize 0\n",
      "2018-12-24 23:47:32,894 : INFO : EPOCH 7 - PROGRESS: at 72.91% examples, 883696 words/s, in_qsize 7, out_qsize 0\n",
      "2018-12-24 23:47:33,899 : INFO : EPOCH 7 - PROGRESS: at 76.55% examples, 886398 words/s, in_qsize 7, out_qsize 0\n",
      "2018-12-24 23:47:34,904 : INFO : EPOCH 7 - PROGRESS: at 78.16% examples, 888700 words/s, in_qsize 7, out_qsize 0\n",
      "2018-12-24 23:47:35,915 : INFO : EPOCH 7 - PROGRESS: at 79.66% examples, 890690 words/s, in_qsize 7, out_qsize 0\n",
      "2018-12-24 23:47:36,920 : INFO : EPOCH 7 - PROGRESS: at 81.13% examples, 892682 words/s, in_qsize 7, out_qsize 0\n",
      "2018-12-24 23:47:37,925 : INFO : EPOCH 7 - PROGRESS: at 82.58% examples, 894864 words/s, in_qsize 7, out_qsize 0\n",
      "2018-12-24 23:47:38,933 : INFO : EPOCH 7 - PROGRESS: at 83.96% examples, 896494 words/s, in_qsize 7, out_qsize 0\n",
      "2018-12-24 23:47:39,952 : INFO : EPOCH 7 - PROGRESS: at 86.54% examples, 897250 words/s, in_qsize 7, out_qsize 0\n",
      "2018-12-24 23:47:40,962 : INFO : EPOCH 7 - PROGRESS: at 89.55% examples, 898514 words/s, in_qsize 6, out_qsize 1\n",
      "2018-12-24 23:47:41,975 : INFO : EPOCH 7 - PROGRESS: at 92.49% examples, 899698 words/s, in_qsize 7, out_qsize 0\n",
      "2018-12-24 23:47:42,980 : INFO : EPOCH 7 - PROGRESS: at 95.21% examples, 899984 words/s, in_qsize 7, out_qsize 0\n",
      "2018-12-24 23:47:43,997 : INFO : EPOCH 7 - PROGRESS: at 97.26% examples, 900183 words/s, in_qsize 8, out_qsize 0\n",
      "2018-12-24 23:47:45,006 : INFO : EPOCH 7 - PROGRESS: at 98.48% examples, 899231 words/s, in_qsize 7, out_qsize 0\n",
      "2018-12-24 23:47:46,015 : INFO : EPOCH 7 - PROGRESS: at 99.79% examples, 898814 words/s, in_qsize 7, out_qsize 0\n",
      "2018-12-24 23:47:46,117 : INFO : worker thread finished; awaiting finish of 3 more threads\n",
      "2018-12-24 23:47:46,132 : INFO : worker thread finished; awaiting finish of 2 more threads\n",
      "2018-12-24 23:47:46,139 : INFO : worker thread finished; awaiting finish of 1 more threads\n",
      "2018-12-24 23:47:46,141 : INFO : worker thread finished; awaiting finish of 0 more threads\n",
      "2018-12-24 23:47:46,142 : INFO : EPOCH - 7 : training on 57349221 raw words (56400600 effective words) took 62.7s, 899074 effective words/s\n",
      "2018-12-24 23:47:47,160 : INFO : EPOCH 8 - PROGRESS: at 1.10% examples, 943579 words/s, in_qsize 8, out_qsize 0\n",
      "2018-12-24 23:47:48,165 : INFO : EPOCH 8 - PROGRESS: at 2.01% examples, 879673 words/s, in_qsize 7, out_qsize 0\n",
      "2018-12-24 23:47:49,179 : INFO : EPOCH 8 - PROGRESS: at 3.02% examples, 880164 words/s, in_qsize 7, out_qsize 0\n",
      "2018-12-24 23:47:50,199 : INFO : EPOCH 8 - PROGRESS: at 3.87% examples, 843609 words/s, in_qsize 8, out_qsize 0\n",
      "2018-12-24 23:47:51,213 : INFO : EPOCH 8 - PROGRESS: at 4.54% examples, 793795 words/s, in_qsize 7, out_qsize 0\n",
      "2018-12-24 23:47:52,218 : INFO : EPOCH 8 - PROGRESS: at 5.25% examples, 768553 words/s, in_qsize 7, out_qsize 0\n",
      "2018-12-24 23:47:53,223 : INFO : EPOCH 8 - PROGRESS: at 7.53% examples, 792122 words/s, in_qsize 7, out_qsize 0\n",
      "2018-12-24 23:47:54,227 : INFO : EPOCH 8 - PROGRESS: at 10.15% examples, 813109 words/s, in_qsize 7, out_qsize 0\n",
      "2018-12-24 23:47:55,297 : INFO : EPOCH 8 - PROGRESS: at 12.16% examples, 798669 words/s, in_qsize 8, out_qsize 1\n",
      "2018-12-24 23:47:56,300 : INFO : EPOCH 8 - PROGRESS: at 13.30% examples, 764912 words/s, in_qsize 8, out_qsize 0\n",
      "2018-12-24 23:47:57,316 : INFO : EPOCH 8 - PROGRESS: at 14.86% examples, 747555 words/s, in_qsize 6, out_qsize 1\n",
      "2018-12-24 23:47:58,331 : INFO : EPOCH 8 - PROGRESS: at 16.11% examples, 724748 words/s, in_qsize 7, out_qsize 0\n",
      "2018-12-24 23:47:59,344 : INFO : EPOCH 8 - PROGRESS: at 17.21% examples, 701640 words/s, in_qsize 8, out_qsize 0\n",
      "2018-12-24 23:48:00,375 : INFO : EPOCH 8 - PROGRESS: at 18.44% examples, 685753 words/s, in_qsize 7, out_qsize 0\n",
      "2018-12-24 23:48:01,378 : INFO : EPOCH 8 - PROGRESS: at 19.62% examples, 671497 words/s, in_qsize 7, out_qsize 0\n",
      "2018-12-24 23:48:02,389 : INFO : EPOCH 8 - PROGRESS: at 20.71% examples, 657390 words/s, in_qsize 7, out_qsize 0\n",
      "2018-12-24 23:48:03,402 : INFO : EPOCH 8 - PROGRESS: at 22.11% examples, 650342 words/s, in_qsize 7, out_qsize 0\n",
      "2018-12-24 23:48:04,410 : INFO : EPOCH 8 - PROGRESS: at 23.64% examples, 662313 words/s, in_qsize 7, out_qsize 0\n",
      "2018-12-24 23:48:05,422 : INFO : EPOCH 8 - PROGRESS: at 24.71% examples, 660109 words/s, in_qsize 7, out_qsize 0\n",
      "2018-12-24 23:48:06,433 : INFO : EPOCH 8 - PROGRESS: at 26.33% examples, 671423 words/s, in_qsize 6, out_qsize 1\n",
      "2018-12-24 23:48:07,440 : INFO : EPOCH 8 - PROGRESS: at 27.70% examples, 674725 words/s, in_qsize 7, out_qsize 0\n",
      "2018-12-24 23:48:08,443 : INFO : EPOCH 8 - PROGRESS: at 29.08% examples, 676885 words/s, in_qsize 7, out_qsize 0\n",
      "2018-12-24 23:48:09,443 : INFO : EPOCH 8 - PROGRESS: at 31.01% examples, 685052 words/s, in_qsize 7, out_qsize 0\n"
     ]
    },
    {
     "name": "stderr",
     "output_type": "stream",
     "text": [
      "2018-12-24 23:48:10,451 : INFO : EPOCH 8 - PROGRESS: at 33.76% examples, 689838 words/s, in_qsize 7, out_qsize 0\n",
      "2018-12-24 23:48:11,465 : INFO : EPOCH 8 - PROGRESS: at 35.54% examples, 695771 words/s, in_qsize 8, out_qsize 0\n",
      "2018-12-24 23:48:12,469 : INFO : EPOCH 8 - PROGRESS: at 36.45% examples, 692994 words/s, in_qsize 7, out_qsize 0\n",
      "2018-12-24 23:48:13,476 : INFO : EPOCH 8 - PROGRESS: at 37.41% examples, 691371 words/s, in_qsize 7, out_qsize 0\n",
      "2018-12-24 23:48:14,521 : INFO : EPOCH 8 - PROGRESS: at 38.36% examples, 686400 words/s, in_qsize 8, out_qsize 0\n",
      "2018-12-24 23:48:15,570 : INFO : EPOCH 8 - PROGRESS: at 39.14% examples, 676985 words/s, in_qsize 7, out_qsize 0\n",
      "2018-12-24 23:48:16,579 : INFO : EPOCH 8 - PROGRESS: at 40.00% examples, 671564 words/s, in_qsize 7, out_qsize 0\n",
      "2018-12-24 23:48:17,628 : INFO : EPOCH 8 - PROGRESS: at 41.04% examples, 667563 words/s, in_qsize 7, out_qsize 0\n",
      "2018-12-24 23:48:18,630 : INFO : EPOCH 8 - PROGRESS: at 42.26% examples, 668056 words/s, in_qsize 7, out_qsize 0\n",
      "2018-12-24 23:48:19,641 : INFO : EPOCH 8 - PROGRESS: at 43.31% examples, 666578 words/s, in_qsize 7, out_qsize 0\n",
      "2018-12-24 23:48:20,641 : INFO : EPOCH 8 - PROGRESS: at 44.33% examples, 665247 words/s, in_qsize 7, out_qsize 0\n",
      "2018-12-24 23:48:21,645 : INFO : EPOCH 8 - PROGRESS: at 45.33% examples, 662681 words/s, in_qsize 6, out_qsize 1\n",
      "2018-12-24 23:48:22,654 : INFO : EPOCH 8 - PROGRESS: at 46.20% examples, 657754 words/s, in_qsize 7, out_qsize 0\n",
      "2018-12-24 23:48:23,673 : INFO : EPOCH 8 - PROGRESS: at 47.22% examples, 654660 words/s, in_qsize 7, out_qsize 0\n",
      "2018-12-24 23:48:24,684 : INFO : EPOCH 8 - PROGRESS: at 48.02% examples, 648691 words/s, in_qsize 7, out_qsize 0\n",
      "2018-12-24 23:48:25,695 : INFO : EPOCH 8 - PROGRESS: at 49.41% examples, 651278 words/s, in_qsize 7, out_qsize 0\n",
      "2018-12-24 23:48:26,716 : INFO : EPOCH 8 - PROGRESS: at 50.85% examples, 654547 words/s, in_qsize 7, out_qsize 0\n",
      "2018-12-24 23:48:27,729 : INFO : EPOCH 8 - PROGRESS: at 52.34% examples, 658704 words/s, in_qsize 7, out_qsize 0\n",
      "2018-12-24 23:48:28,734 : INFO : EPOCH 8 - PROGRESS: at 53.91% examples, 667025 words/s, in_qsize 7, out_qsize 0\n",
      "2018-12-24 23:48:29,745 : INFO : EPOCH 8 - PROGRESS: at 54.91% examples, 674407 words/s, in_qsize 7, out_qsize 0\n",
      "2018-12-24 23:48:30,754 : INFO : EPOCH 8 - PROGRESS: at 56.10% examples, 682563 words/s, in_qsize 7, out_qsize 0\n",
      "2018-12-24 23:48:31,754 : INFO : EPOCH 8 - PROGRESS: at 57.02% examples, 689673 words/s, in_qsize 7, out_qsize 0\n",
      "2018-12-24 23:48:32,760 : INFO : EPOCH 8 - PROGRESS: at 58.29% examples, 697176 words/s, in_qsize 8, out_qsize 0\n",
      "2018-12-24 23:48:33,771 : INFO : EPOCH 8 - PROGRESS: at 59.52% examples, 703249 words/s, in_qsize 7, out_qsize 0\n",
      "2018-12-24 23:48:34,776 : INFO : EPOCH 8 - PROGRESS: at 60.72% examples, 707566 words/s, in_qsize 7, out_qsize 0\n",
      "2018-12-24 23:48:35,781 : INFO : EPOCH 8 - PROGRESS: at 61.95% examples, 712578 words/s, in_qsize 6, out_qsize 1\n",
      "2018-12-24 23:48:36,792 : INFO : EPOCH 8 - PROGRESS: at 63.24% examples, 717330 words/s, in_qsize 7, out_qsize 0\n",
      "2018-12-24 23:48:37,795 : INFO : EPOCH 8 - PROGRESS: at 64.45% examples, 721353 words/s, in_qsize 7, out_qsize 0\n",
      "2018-12-24 23:48:38,810 : INFO : EPOCH 8 - PROGRESS: at 65.49% examples, 725214 words/s, in_qsize 7, out_qsize 0\n",
      "2018-12-24 23:48:39,813 : INFO : EPOCH 8 - PROGRESS: at 66.38% examples, 727950 words/s, in_qsize 7, out_qsize 0\n",
      "2018-12-24 23:48:40,825 : INFO : EPOCH 8 - PROGRESS: at 67.40% examples, 730628 words/s, in_qsize 7, out_qsize 0\n",
      "2018-12-24 23:48:41,831 : INFO : EPOCH 8 - PROGRESS: at 67.98% examples, 733430 words/s, in_qsize 7, out_qsize 0\n",
      "2018-12-24 23:48:42,840 : INFO : EPOCH 8 - PROGRESS: at 69.19% examples, 737406 words/s, in_qsize 6, out_qsize 1\n",
      "2018-12-24 23:48:43,841 : INFO : EPOCH 8 - PROGRESS: at 69.97% examples, 737121 words/s, in_qsize 7, out_qsize 0\n",
      "2018-12-24 23:48:44,851 : INFO : EPOCH 8 - PROGRESS: at 72.16% examples, 739679 words/s, in_qsize 7, out_qsize 0\n",
      "2018-12-24 23:48:45,863 : INFO : EPOCH 8 - PROGRESS: at 74.84% examples, 742706 words/s, in_qsize 8, out_qsize 0\n",
      "2018-12-24 23:48:46,882 : INFO : EPOCH 8 - PROGRESS: at 77.48% examples, 746819 words/s, in_qsize 7, out_qsize 0\n",
      "2018-12-24 23:48:47,883 : INFO : EPOCH 8 - PROGRESS: at 79.10% examples, 750963 words/s, in_qsize 7, out_qsize 0\n",
      "2018-12-24 23:48:48,916 : INFO : EPOCH 8 - PROGRESS: at 80.38% examples, 752973 words/s, in_qsize 7, out_qsize 0\n",
      "2018-12-24 23:48:49,916 : INFO : EPOCH 8 - PROGRESS: at 81.65% examples, 754813 words/s, in_qsize 7, out_qsize 0\n",
      "2018-12-24 23:48:50,932 : INFO : EPOCH 8 - PROGRESS: at 82.85% examples, 756095 words/s, in_qsize 8, out_qsize 0\n",
      "2018-12-24 23:48:51,939 : INFO : EPOCH 8 - PROGRESS: at 84.09% examples, 757887 words/s, in_qsize 7, out_qsize 0\n",
      "2018-12-24 23:48:52,949 : INFO : EPOCH 8 - PROGRESS: at 86.93% examples, 761349 words/s, in_qsize 7, out_qsize 0\n",
      "2018-12-24 23:48:53,978 : INFO : EPOCH 8 - PROGRESS: at 88.75% examples, 758513 words/s, in_qsize 8, out_qsize 1\n",
      "2018-12-24 23:48:55,009 : INFO : EPOCH 8 - PROGRESS: at 90.47% examples, 755173 words/s, in_qsize 7, out_qsize 0\n",
      "2018-12-24 23:48:56,013 : INFO : EPOCH 8 - PROGRESS: at 92.05% examples, 751958 words/s, in_qsize 6, out_qsize 1\n",
      "2018-12-24 23:48:57,017 : INFO : EPOCH 8 - PROGRESS: at 94.43% examples, 752801 words/s, in_qsize 7, out_qsize 0\n",
      "2018-12-24 23:48:58,020 : INFO : EPOCH 8 - PROGRESS: at 96.72% examples, 753822 words/s, in_qsize 7, out_qsize 0\n",
      "2018-12-24 23:48:59,029 : INFO : EPOCH 8 - PROGRESS: at 97.86% examples, 754116 words/s, in_qsize 7, out_qsize 0\n",
      "2018-12-24 23:49:00,036 : INFO : EPOCH 8 - PROGRESS: at 98.91% examples, 753726 words/s, in_qsize 6, out_qsize 1\n",
      "2018-12-24 23:49:00,783 : INFO : worker thread finished; awaiting finish of 3 more threads\n",
      "2018-12-24 23:49:00,794 : INFO : worker thread finished; awaiting finish of 2 more threads\n",
      "2018-12-24 23:49:00,799 : INFO : worker thread finished; awaiting finish of 1 more threads\n",
      "2018-12-24 23:49:00,807 : INFO : worker thread finished; awaiting finish of 0 more threads\n",
      "2018-12-24 23:49:00,808 : INFO : EPOCH - 8 : training on 57349221 raw words (56398569 effective words) took 74.7s, 755441 effective words/s\n",
      "2018-12-24 23:49:01,815 : INFO : EPOCH 9 - PROGRESS: at 0.91% examples, 782353 words/s, in_qsize 7, out_qsize 0\n",
      "2018-12-24 23:49:02,817 : INFO : EPOCH 9 - PROGRESS: at 1.85% examples, 805380 words/s, in_qsize 7, out_qsize 0\n",
      "2018-12-24 23:49:03,836 : INFO : EPOCH 9 - PROGRESS: at 2.42% examples, 710859 words/s, in_qsize 7, out_qsize 0\n",
      "2018-12-24 23:49:04,853 : INFO : EPOCH 9 - PROGRESS: at 3.19% examples, 694924 words/s, in_qsize 8, out_qsize 1\n",
      "2018-12-24 23:49:05,862 : INFO : EPOCH 9 - PROGRESS: at 4.02% examples, 702734 words/s, in_qsize 7, out_qsize 0\n",
      "2018-12-24 23:49:06,865 : INFO : EPOCH 9 - PROGRESS: at 4.90% examples, 716878 words/s, in_qsize 7, out_qsize 2\n",
      "2018-12-24 23:49:07,879 : INFO : EPOCH 9 - PROGRESS: at 6.54% examples, 742459 words/s, in_qsize 6, out_qsize 1\n",
      "2018-12-24 23:49:08,887 : INFO : EPOCH 9 - PROGRESS: at 9.23% examples, 772606 words/s, in_qsize 8, out_qsize 0\n",
      "2018-12-24 23:49:09,896 : INFO : EPOCH 9 - PROGRESS: at 11.82% examples, 789403 words/s, in_qsize 7, out_qsize 0\n",
      "2018-12-24 23:49:10,912 : INFO : EPOCH 9 - PROGRESS: at 13.99% examples, 795224 words/s, in_qsize 6, out_qsize 1\n",
      "2018-12-24 23:49:11,915 : INFO : EPOCH 9 - PROGRESS: at 16.39% examples, 804777 words/s, in_qsize 7, out_qsize 0\n",
      "2018-12-24 23:49:12,935 : INFO : EPOCH 9 - PROGRESS: at 18.88% examples, 820637 words/s, in_qsize 7, out_qsize 0\n",
      "2018-12-24 23:49:13,944 : INFO : EPOCH 9 - PROGRESS: at 21.19% examples, 827397 words/s, in_qsize 7, out_qsize 0\n",
      "2018-12-24 23:49:15,035 : INFO : EPOCH 9 - PROGRESS: at 22.53% examples, 804945 words/s, in_qsize 8, out_qsize 0\n",
      "2018-12-24 23:49:16,039 : INFO : EPOCH 9 - PROGRESS: at 23.82% examples, 801211 words/s, in_qsize 7, out_qsize 0\n",
      "2018-12-24 23:49:17,050 : INFO : EPOCH 9 - PROGRESS: at 25.32% examples, 805026 words/s, in_qsize 6, out_qsize 1\n",
      "2018-12-24 23:49:18,058 : INFO : EPOCH 9 - PROGRESS: at 26.73% examples, 802372 words/s, in_qsize 7, out_qsize 0\n",
      "2018-12-24 23:49:19,068 : INFO : EPOCH 9 - PROGRESS: at 28.64% examples, 813986 words/s, in_qsize 7, out_qsize 0\n",
      "2018-12-24 23:49:20,081 : INFO : EPOCH 9 - PROGRESS: at 29.79% examples, 801513 words/s, in_qsize 6, out_qsize 1\n"
     ]
    },
    {
     "name": "stderr",
     "output_type": "stream",
     "text": [
      "2018-12-24 23:49:21,097 : INFO : EPOCH 9 - PROGRESS: at 31.61% examples, 797871 words/s, in_qsize 6, out_qsize 1\n",
      "2018-12-24 23:49:22,100 : INFO : EPOCH 9 - PROGRESS: at 34.61% examples, 801105 words/s, in_qsize 7, out_qsize 0\n",
      "2018-12-24 23:49:23,110 : INFO : EPOCH 9 - PROGRESS: at 36.00% examples, 804006 words/s, in_qsize 8, out_qsize 0\n",
      "2018-12-24 23:49:24,118 : INFO : EPOCH 9 - PROGRESS: at 36.76% examples, 791230 words/s, in_qsize 7, out_qsize 0\n",
      "2018-12-24 23:49:25,119 : INFO : EPOCH 9 - PROGRESS: at 37.78% examples, 787808 words/s, in_qsize 7, out_qsize 0\n",
      "2018-12-24 23:49:26,126 : INFO : EPOCH 9 - PROGRESS: at 39.51% examples, 795153 words/s, in_qsize 7, out_qsize 0\n",
      "2018-12-24 23:49:27,127 : INFO : EPOCH 9 - PROGRESS: at 40.50% examples, 787228 words/s, in_qsize 8, out_qsize 0\n",
      "2018-12-24 23:49:28,152 : INFO : EPOCH 9 - PROGRESS: at 41.14% examples, 770745 words/s, in_qsize 7, out_qsize 0\n",
      "2018-12-24 23:49:29,171 : INFO : EPOCH 9 - PROGRESS: at 42.57% examples, 771896 words/s, in_qsize 8, out_qsize 0\n",
      "2018-12-24 23:49:30,188 : INFO : EPOCH 9 - PROGRESS: at 43.71% examples, 768121 words/s, in_qsize 7, out_qsize 0\n",
      "2018-12-24 23:49:31,203 : INFO : EPOCH 9 - PROGRESS: at 44.78% examples, 763556 words/s, in_qsize 7, out_qsize 0\n",
      "2018-12-24 23:49:32,211 : INFO : EPOCH 9 - PROGRESS: at 46.34% examples, 767166 words/s, in_qsize 7, out_qsize 0\n",
      "2018-12-24 23:49:33,219 : INFO : EPOCH 9 - PROGRESS: at 48.02% examples, 771380 words/s, in_qsize 7, out_qsize 0\n",
      "2018-12-24 23:49:34,225 : INFO : EPOCH 9 - PROGRESS: at 49.65% examples, 774852 words/s, in_qsize 7, out_qsize 0\n",
      "2018-12-24 23:49:35,240 : INFO : EPOCH 9 - PROGRESS: at 50.50% examples, 765974 words/s, in_qsize 7, out_qsize 0\n",
      "2018-12-24 23:49:36,244 : INFO : EPOCH 9 - PROGRESS: at 51.94% examples, 766790 words/s, in_qsize 7, out_qsize 0\n",
      "2018-12-24 23:49:37,252 : INFO : EPOCH 9 - PROGRESS: at 53.47% examples, 768716 words/s, in_qsize 7, out_qsize 0\n",
      "2018-12-24 23:49:38,263 : INFO : EPOCH 9 - PROGRESS: at 54.42% examples, 772539 words/s, in_qsize 7, out_qsize 0\n",
      "2018-12-24 23:49:39,276 : INFO : EPOCH 9 - PROGRESS: at 55.15% examples, 769881 words/s, in_qsize 8, out_qsize 1\n",
      "2018-12-24 23:49:40,278 : INFO : EPOCH 9 - PROGRESS: at 56.00% examples, 768870 words/s, in_qsize 7, out_qsize 0\n",
      "2018-12-24 23:49:41,294 : INFO : EPOCH 9 - PROGRESS: at 56.80% examples, 770545 words/s, in_qsize 8, out_qsize 1\n",
      "2018-12-24 23:49:42,312 : INFO : EPOCH 9 - PROGRESS: at 57.34% examples, 764969 words/s, in_qsize 7, out_qsize 0\n",
      "2018-12-24 23:49:43,331 : INFO : EPOCH 9 - PROGRESS: at 58.05% examples, 759591 words/s, in_qsize 6, out_qsize 1\n",
      "2018-12-24 23:49:44,352 : INFO : EPOCH 9 - PROGRESS: at 58.74% examples, 754829 words/s, in_qsize 7, out_qsize 0\n",
      "2018-12-24 23:49:45,385 : INFO : EPOCH 9 - PROGRESS: at 59.42% examples, 749629 words/s, in_qsize 6, out_qsize 1\n",
      "2018-12-24 23:49:46,389 : INFO : EPOCH 9 - PROGRESS: at 60.63% examples, 753518 words/s, in_qsize 7, out_qsize 0\n",
      "2018-12-24 23:49:47,393 : INFO : EPOCH 9 - PROGRESS: at 61.59% examples, 753162 words/s, in_qsize 7, out_qsize 0\n",
      "2018-12-24 23:49:48,397 : INFO : EPOCH 9 - PROGRESS: at 62.72% examples, 754813 words/s, in_qsize 7, out_qsize 0\n",
      "2018-12-24 23:49:49,399 : INFO : EPOCH 9 - PROGRESS: at 63.98% examples, 759425 words/s, in_qsize 7, out_qsize 0\n",
      "2018-12-24 23:49:50,415 : INFO : EPOCH 9 - PROGRESS: at 65.21% examples, 764446 words/s, in_qsize 7, out_qsize 0\n",
      "2018-12-24 23:49:51,421 : INFO : EPOCH 9 - PROGRESS: at 66.20% examples, 768937 words/s, in_qsize 7, out_qsize 0\n",
      "2018-12-24 23:49:52,438 : INFO : EPOCH 9 - PROGRESS: at 67.23% examples, 769045 words/s, in_qsize 5, out_qsize 2\n",
      "2018-12-24 23:49:53,459 : INFO : EPOCH 9 - PROGRESS: at 67.76% examples, 772856 words/s, in_qsize 7, out_qsize 0\n",
      "2018-12-24 23:49:54,462 : INFO : EPOCH 9 - PROGRESS: at 69.06% examples, 776942 words/s, in_qsize 7, out_qsize 0\n",
      "2018-12-24 23:49:55,473 : INFO : EPOCH 9 - PROGRESS: at 70.36% examples, 780991 words/s, in_qsize 7, out_qsize 0\n",
      "2018-12-24 23:49:56,492 : INFO : EPOCH 9 - PROGRESS: at 72.89% examples, 785203 words/s, in_qsize 7, out_qsize 0\n",
      "2018-12-24 23:49:57,497 : INFO : EPOCH 9 - PROGRESS: at 76.47% examples, 789190 words/s, in_qsize 7, out_qsize 0\n",
      "2018-12-24 23:49:58,503 : INFO : EPOCH 9 - PROGRESS: at 78.11% examples, 792604 words/s, in_qsize 7, out_qsize 0\n",
      "2018-12-24 23:49:59,523 : INFO : EPOCH 9 - PROGRESS: at 79.54% examples, 795135 words/s, in_qsize 7, out_qsize 0\n",
      "2018-12-24 23:50:00,524 : INFO : EPOCH 9 - PROGRESS: at 80.97% examples, 798208 words/s, in_qsize 7, out_qsize 0\n",
      "2018-12-24 23:50:01,539 : INFO : EPOCH 9 - PROGRESS: at 82.22% examples, 799072 words/s, in_qsize 5, out_qsize 2\n",
      "2018-12-24 23:50:02,541 : INFO : EPOCH 9 - PROGRESS: at 83.33% examples, 799215 words/s, in_qsize 7, out_qsize 0\n",
      "2018-12-24 23:50:03,563 : INFO : EPOCH 9 - PROGRESS: at 84.95% examples, 800300 words/s, in_qsize 8, out_qsize 0\n",
      "2018-12-24 23:50:04,568 : INFO : EPOCH 9 - PROGRESS: at 87.42% examples, 800156 words/s, in_qsize 7, out_qsize 0\n",
      "2018-12-24 23:50:05,580 : INFO : EPOCH 9 - PROGRESS: at 89.94% examples, 800355 words/s, in_qsize 7, out_qsize 0\n",
      "2018-12-24 23:50:06,642 : INFO : EPOCH 9 - PROGRESS: at 91.02% examples, 792752 words/s, in_qsize 6, out_qsize 1\n",
      "2018-12-24 23:50:07,644 : INFO : EPOCH 9 - PROGRESS: at 92.87% examples, 790306 words/s, in_qsize 7, out_qsize 0\n",
      "2018-12-24 23:50:08,644 : INFO : EPOCH 9 - PROGRESS: at 95.21% examples, 790369 words/s, in_qsize 7, out_qsize 0\n",
      "2018-12-24 23:50:09,661 : INFO : EPOCH 9 - PROGRESS: at 97.01% examples, 789803 words/s, in_qsize 6, out_qsize 1\n",
      "2018-12-24 23:50:10,668 : INFO : EPOCH 9 - PROGRESS: at 98.34% examples, 791533 words/s, in_qsize 7, out_qsize 0\n",
      "2018-12-24 23:50:11,669 : INFO : EPOCH 9 - PROGRESS: at 99.64% examples, 792657 words/s, in_qsize 7, out_qsize 0\n",
      "2018-12-24 23:50:11,888 : INFO : worker thread finished; awaiting finish of 3 more threads\n",
      "2018-12-24 23:50:11,892 : INFO : worker thread finished; awaiting finish of 2 more threads\n",
      "2018-12-24 23:50:11,903 : INFO : worker thread finished; awaiting finish of 1 more threads\n",
      "2018-12-24 23:50:11,907 : INFO : worker thread finished; awaiting finish of 0 more threads\n",
      "2018-12-24 23:50:11,908 : INFO : EPOCH - 9 : training on 57349221 raw words (56400382 effective words) took 71.1s, 793320 effective words/s\n",
      "2018-12-24 23:50:12,918 : INFO : EPOCH 10 - PROGRESS: at 0.86% examples, 742860 words/s, in_qsize 7, out_qsize 0\n",
      "2018-12-24 23:50:13,922 : INFO : EPOCH 10 - PROGRESS: at 1.89% examples, 821512 words/s, in_qsize 7, out_qsize 0\n",
      "2018-12-24 23:50:14,929 : INFO : EPOCH 10 - PROGRESS: at 2.85% examples, 833129 words/s, in_qsize 7, out_qsize 0\n",
      "2018-12-24 23:50:15,934 : INFO : EPOCH 10 - PROGRESS: at 3.79% examples, 832680 words/s, in_qsize 7, out_qsize 0\n",
      "2018-12-24 23:50:16,936 : INFO : EPOCH 10 - PROGRESS: at 4.86% examples, 856018 words/s, in_qsize 7, out_qsize 0\n",
      "2018-12-24 23:50:17,938 : INFO : EPOCH 10 - PROGRESS: at 6.57% examples, 872267 words/s, in_qsize 7, out_qsize 0\n",
      "2018-12-24 23:50:18,943 : INFO : EPOCH 10 - PROGRESS: at 8.94% examples, 871223 words/s, in_qsize 6, out_qsize 1\n",
      "2018-12-24 23:50:19,963 : INFO : EPOCH 10 - PROGRESS: at 11.43% examples, 873055 words/s, in_qsize 7, out_qsize 0\n",
      "2018-12-24 23:50:20,964 : INFO : EPOCH 10 - PROGRESS: at 12.96% examples, 843860 words/s, in_qsize 7, out_qsize 0\n",
      "2018-12-24 23:50:22,017 : INFO : EPOCH 10 - PROGRESS: at 14.35% examples, 807974 words/s, in_qsize 7, out_qsize 1\n",
      "2018-12-24 23:50:23,118 : INFO : EPOCH 10 - PROGRESS: at 15.44% examples, 764912 words/s, in_qsize 7, out_qsize 0\n",
      "2018-12-24 23:50:24,120 : INFO : EPOCH 10 - PROGRESS: at 17.16% examples, 756767 words/s, in_qsize 7, out_qsize 0\n",
      "2018-12-24 23:50:25,131 : INFO : EPOCH 10 - PROGRESS: at 19.47% examples, 769898 words/s, in_qsize 7, out_qsize 0\n",
      "2018-12-24 23:50:26,166 : INFO : EPOCH 10 - PROGRESS: at 21.42% examples, 768340 words/s, in_qsize 8, out_qsize 0\n",
      "2018-12-24 23:50:27,175 : INFO : EPOCH 10 - PROGRESS: at 23.25% examples, 777379 words/s, in_qsize 7, out_qsize 0\n",
      "2018-12-24 23:50:28,205 : INFO : EPOCH 10 - PROGRESS: at 24.55% examples, 775055 words/s, in_qsize 7, out_qsize 0\n",
      "2018-12-24 23:50:29,222 : INFO : EPOCH 10 - PROGRESS: at 26.03% examples, 777452 words/s, in_qsize 7, out_qsize 0\n"
     ]
    },
    {
     "name": "stderr",
     "output_type": "stream",
     "text": [
      "2018-12-24 23:50:30,235 : INFO : EPOCH 10 - PROGRESS: at 27.59% examples, 780850 words/s, in_qsize 7, out_qsize 0\n",
      "2018-12-24 23:50:31,251 : INFO : EPOCH 10 - PROGRESS: at 29.44% examples, 789650 words/s, in_qsize 7, out_qsize 0\n",
      "2018-12-24 23:50:32,262 : INFO : EPOCH 10 - PROGRESS: at 31.73% examples, 797611 words/s, in_qsize 7, out_qsize 0\n",
      "2018-12-24 23:50:33,270 : INFO : EPOCH 10 - PROGRESS: at 34.32% examples, 793919 words/s, in_qsize 7, out_qsize 0\n",
      "2018-12-24 23:50:34,303 : INFO : EPOCH 10 - PROGRESS: at 35.61% examples, 788809 words/s, in_qsize 7, out_qsize 0\n",
      "2018-12-24 23:50:35,309 : INFO : EPOCH 10 - PROGRESS: at 36.68% examples, 786089 words/s, in_qsize 8, out_qsize 0\n",
      "2018-12-24 23:50:36,313 : INFO : EPOCH 10 - PROGRESS: at 37.87% examples, 786745 words/s, in_qsize 7, out_qsize 1\n",
      "2018-12-24 23:50:37,321 : INFO : EPOCH 10 - PROGRESS: at 39.39% examples, 789550 words/s, in_qsize 7, out_qsize 0\n",
      "2018-12-24 23:50:38,329 : INFO : EPOCH 10 - PROGRESS: at 41.03% examples, 795124 words/s, in_qsize 7, out_qsize 0\n",
      "2018-12-24 23:50:39,348 : INFO : EPOCH 10 - PROGRESS: at 42.09% examples, 787357 words/s, in_qsize 7, out_qsize 0\n",
      "2018-12-24 23:50:40,362 : INFO : EPOCH 10 - PROGRESS: at 42.96% examples, 777253 words/s, in_qsize 7, out_qsize 0\n",
      "2018-12-24 23:50:41,379 : INFO : EPOCH 10 - PROGRESS: at 43.99% examples, 771843 words/s, in_qsize 7, out_qsize 0\n",
      "2018-12-24 23:50:42,381 : INFO : EPOCH 10 - PROGRESS: at 45.58% examples, 776789 words/s, in_qsize 7, out_qsize 0\n",
      "2018-12-24 23:50:43,401 : INFO : EPOCH 10 - PROGRESS: at 47.29% examples, 781344 words/s, in_qsize 7, out_qsize 0\n",
      "2018-12-24 23:50:44,403 : INFO : EPOCH 10 - PROGRESS: at 49.03% examples, 786511 words/s, in_qsize 7, out_qsize 0\n",
      "2018-12-24 23:50:45,409 : INFO : EPOCH 10 - PROGRESS: at 50.54% examples, 787818 words/s, in_qsize 7, out_qsize 0\n",
      "2018-12-24 23:50:46,411 : INFO : EPOCH 10 - PROGRESS: at 52.05% examples, 789200 words/s, in_qsize 7, out_qsize 0\n",
      "2018-12-24 23:50:47,413 : INFO : EPOCH 10 - PROGRESS: at 53.04% examples, 782305 words/s, in_qsize 7, out_qsize 0\n",
      "2018-12-24 23:50:48,418 : INFO : EPOCH 10 - PROGRESS: at 54.16% examples, 785079 words/s, in_qsize 7, out_qsize 0\n",
      "2018-12-24 23:50:49,424 : INFO : EPOCH 10 - PROGRESS: at 55.08% examples, 787891 words/s, in_qsize 7, out_qsize 0\n",
      "2018-12-24 23:50:50,444 : INFO : EPOCH 10 - PROGRESS: at 56.23% examples, 793538 words/s, in_qsize 7, out_qsize 0\n",
      "2018-12-24 23:50:51,450 : INFO : EPOCH 10 - PROGRESS: at 57.07% examples, 796730 words/s, in_qsize 7, out_qsize 0\n",
      "2018-12-24 23:50:52,461 : INFO : EPOCH 10 - PROGRESS: at 58.18% examples, 799067 words/s, in_qsize 7, out_qsize 0\n",
      "2018-12-24 23:50:53,469 : INFO : EPOCH 10 - PROGRESS: at 59.28% examples, 801304 words/s, in_qsize 6, out_qsize 1\n",
      "2018-12-24 23:50:54,496 : INFO : EPOCH 10 - PROGRESS: at 60.28% examples, 800214 words/s, in_qsize 7, out_qsize 0\n",
      "2018-12-24 23:50:55,499 : INFO : EPOCH 10 - PROGRESS: at 61.34% examples, 800603 words/s, in_qsize 7, out_qsize 0\n",
      "2018-12-24 23:50:56,518 : INFO : EPOCH 10 - PROGRESS: at 62.65% examples, 804169 words/s, in_qsize 7, out_qsize 0\n",
      "2018-12-24 23:50:57,526 : INFO : EPOCH 10 - PROGRESS: at 63.82% examples, 806193 words/s, in_qsize 7, out_qsize 0\n",
      "2018-12-24 23:50:58,546 : INFO : EPOCH 10 - PROGRESS: at 65.04% examples, 809283 words/s, in_qsize 6, out_qsize 1\n",
      "2018-12-24 23:50:59,547 : INFO : EPOCH 10 - PROGRESS: at 65.78% examples, 807968 words/s, in_qsize 8, out_qsize 0\n",
      "2018-12-24 23:51:00,554 : INFO : EPOCH 10 - PROGRESS: at 66.97% examples, 812359 words/s, in_qsize 7, out_qsize 0\n",
      "2018-12-24 23:51:01,562 : INFO : EPOCH 10 - PROGRESS: at 67.57% examples, 814321 words/s, in_qsize 8, out_qsize 0\n",
      "2018-12-24 23:51:02,566 : INFO : EPOCH 10 - PROGRESS: at 68.57% examples, 815283 words/s, in_qsize 8, out_qsize 1\n",
      "2018-12-24 23:51:03,572 : INFO : EPOCH 10 - PROGRESS: at 69.49% examples, 814889 words/s, in_qsize 7, out_qsize 0\n",
      "2018-12-24 23:51:04,574 : INFO : EPOCH 10 - PROGRESS: at 70.96% examples, 815377 words/s, in_qsize 7, out_qsize 0\n",
      "2018-12-24 23:51:05,594 : INFO : EPOCH 10 - PROGRESS: at 72.89% examples, 814430 words/s, in_qsize 7, out_qsize 0\n",
      "2018-12-24 23:51:06,602 : INFO : EPOCH 10 - PROGRESS: at 75.19% examples, 812533 words/s, in_qsize 7, out_qsize 0\n",
      "2018-12-24 23:51:07,611 : INFO : EPOCH 10 - PROGRESS: at 77.23% examples, 811612 words/s, in_qsize 7, out_qsize 0\n",
      "2018-12-24 23:51:08,634 : INFO : EPOCH 10 - PROGRESS: at 78.54% examples, 810756 words/s, in_qsize 7, out_qsize 0\n",
      "2018-12-24 23:51:09,647 : INFO : EPOCH 10 - PROGRESS: at 79.75% examples, 810960 words/s, in_qsize 7, out_qsize 0\n",
      "2018-12-24 23:51:10,662 : INFO : EPOCH 10 - PROGRESS: at 80.97% examples, 811283 words/s, in_qsize 7, out_qsize 0\n",
      "2018-12-24 23:51:11,672 : INFO : EPOCH 10 - PROGRESS: at 82.18% examples, 811540 words/s, in_qsize 7, out_qsize 0\n",
      "2018-12-24 23:51:12,691 : INFO : EPOCH 10 - PROGRESS: at 83.18% examples, 809831 words/s, in_qsize 6, out_qsize 1\n",
      "2018-12-24 23:51:13,695 : INFO : EPOCH 10 - PROGRESS: at 84.19% examples, 808175 words/s, in_qsize 7, out_qsize 0\n",
      "2018-12-24 23:51:14,712 : INFO : EPOCH 10 - PROGRESS: at 86.81% examples, 809244 words/s, in_qsize 7, out_qsize 0\n",
      "2018-12-24 23:51:15,717 : INFO : EPOCH 10 - PROGRESS: at 89.61% examples, 810782 words/s, in_qsize 6, out_qsize 1\n",
      "2018-12-24 23:51:16,733 : INFO : EPOCH 10 - PROGRESS: at 92.43% examples, 812581 words/s, in_qsize 7, out_qsize 0\n",
      "2018-12-24 23:51:17,734 : INFO : EPOCH 10 - PROGRESS: at 95.42% examples, 815686 words/s, in_qsize 7, out_qsize 0\n",
      "2018-12-24 23:51:18,742 : INFO : EPOCH 10 - PROGRESS: at 97.49% examples, 818342 words/s, in_qsize 7, out_qsize 0\n",
      "2018-12-24 23:51:19,748 : INFO : EPOCH 10 - PROGRESS: at 98.92% examples, 821119 words/s, in_qsize 8, out_qsize 0\n",
      "2018-12-24 23:51:20,458 : INFO : worker thread finished; awaiting finish of 3 more threads\n",
      "2018-12-24 23:51:20,475 : INFO : worker thread finished; awaiting finish of 2 more threads\n",
      "2018-12-24 23:51:20,477 : INFO : worker thread finished; awaiting finish of 1 more threads\n",
      "2018-12-24 23:51:20,481 : INFO : worker thread finished; awaiting finish of 0 more threads\n",
      "2018-12-24 23:51:20,482 : INFO : EPOCH - 10 : training on 57349221 raw words (56400821 effective words) took 68.6s, 822540 effective words/s\n",
      "2018-12-24 23:51:20,482 : INFO : training on a 573492210 raw words (564002431 effective words) took 654.0s, 862410 effective words/s\n"
     ]
    }
   ],
   "source": [
    "model = gensim.models.Word2Vec(words, window=15, \n",
    "                                       size= 50, iter=10, \n",
    "                                       min_count=1, workers = 4)"
   ]
  },
  {
   "cell_type": "code",
   "execution_count": 32,
   "metadata": {},
   "outputs": [
    {
     "name": "stderr",
     "output_type": "stream",
     "text": [
      "/Users/toprak.ucar/anaconda3/lib/python3.7/site-packages/gensim/matutils.py:737: FutureWarning: Conversion of the second argument of issubdtype from `int` to `np.signedinteger` is deprecated. In future, it will be treated as `np.int64 == np.dtype(int).type`.\n",
      "  if np.issubdtype(vec.dtype, np.int):\n"
     ]
    },
    {
     "data": {
      "text/plain": [
       "[('reina', 0.7801131010055542),\n",
       " ('bosporus', 0.7633792161941528),\n",
       " ('ortakoy', 0.7598312497138977),\n",
       " ('ankara', 0.7545477151870728),\n",
       " ('ataturk', 0.7528706192970276),\n",
       " ('hurriyet', 0.7358903884887695),\n",
       " ('atat', 0.7162894606590271),\n",
       " ('arik', 0.715834379196167),\n",
       " ('besiktas', 0.7115811109542847),\n",
       " ('ahmet', 0.711054801940918)]"
      ]
     },
     "execution_count": 32,
     "metadata": {},
     "output_type": "execute_result"
    }
   ],
   "source": [
    "model.wv.similar_by_word(\"istanbul\")"
   ]
  },
  {
   "cell_type": "code",
   "execution_count": 50,
   "metadata": {},
   "outputs": [
    {
     "name": "stderr",
     "output_type": "stream",
     "text": [
      "/Users/toprak.ucar/anaconda3/lib/python3.7/site-packages/gensim/matutils.py:737: FutureWarning: Conversion of the second argument of issubdtype from `int` to `np.signedinteger` is deprecated. In future, it will be treated as `np.int64 == np.dtype(int).type`.\n",
      "  if np.issubdtype(vec.dtype, np.int):\n"
     ]
    },
    {
     "data": {
      "text/plain": [
       "[('ronaldo', 0.9000247716903687),\n",
       " ('neymar', 0.8803908824920654),\n",
       " ('higuain', 0.8501801490783691),\n",
       " ('barcelona', 0.8403756618499756),\n",
       " ('piqu', 0.8349080085754395),\n",
       " ('higua', 0.8344173431396484),\n",
       " ('griezmann', 0.8323855996131897),\n",
       " ('carrasco', 0.8292516469955444),\n",
       " ('atletico', 0.8267635107040405),\n",
       " ('iniesta', 0.8264540433883667)]"
      ]
     },
     "execution_count": 50,
     "metadata": {},
     "output_type": "execute_result"
    }
   ],
   "source": [
    "model.wv.similar_by_word(\"messi\")"
   ]
  },
  {
   "cell_type": "code",
   "execution_count": 47,
   "metadata": {},
   "outputs": [
    {
     "name": "stderr",
     "output_type": "stream",
     "text": [
      "/Users/toprak.ucar/anaconda3/lib/python3.7/site-packages/gensim/matutils.py:737: FutureWarning: Conversion of the second argument of issubdtype from `int` to `np.signedinteger` is deprecated. In future, it will be treated as `np.int64 == np.dtype(int).type`.\n",
      "  if np.issubdtype(vec.dtype, np.int):\n"
     ]
    },
    {
     "data": {
      "text/plain": [
       "[('atat', 0.8326884508132935),\n",
       " ('kemal', 0.807235598564148),\n",
       " ('istanbul', 0.7528706192970276),\n",
       " ('havalimani', 0.7232919335365295),\n",
       " ('turkishminutetm', 0.6904064416885376),\n",
       " ('ahmet', 0.6871216297149658),\n",
       " ('hurriyet', 0.6819521188735962),\n",
       " ('yildiz', 0.6789950132369995),\n",
       " ('alpay', 0.6765890717506409),\n",
       " ('mustafa', 0.6731521487236023)]"
      ]
     },
     "execution_count": 47,
     "metadata": {},
     "output_type": "execute_result"
    }
   ],
   "source": [
    "model.wv.similar_by_word(\"ataturk\")"
   ]
  },
  {
   "cell_type": "code",
   "execution_count": 28,
   "metadata": {},
   "outputs": [
    {
     "name": "stderr",
     "output_type": "stream",
     "text": [
      "/Users/toprak.ucar/anaconda3/lib/python3.7/site-packages/gensim/matutils.py:737: FutureWarning: Conversion of the second argument of issubdtype from `int` to `np.signedinteger` is deprecated. In future, it will be treated as `np.int64 == np.dtype(int).type`.\n",
      "  if np.issubdtype(vec.dtype, np.int):\n"
     ]
    },
    {
     "data": {
      "text/plain": [
       "[('ankara', 0.7198780179023743),\n",
       " ('turkish', 0.6650469303131104),\n",
       " ('syria', 0.639181911945343),\n",
       " ('damascus', 0.6344844102859497),\n",
       " ('istanbul', 0.6245085597038269),\n",
       " ('akinci', 0.618219256401062),\n",
       " ('erdogan', 0.6135762333869934),\n",
       " ('uae', 0.604555606842041),\n",
       " ('antakya', 0.6014748811721802),\n",
       " ('tehran', 0.5996435284614563)]"
      ]
     },
     "execution_count": 28,
     "metadata": {},
     "output_type": "execute_result"
    }
   ],
   "source": [
    "model.wv.most_similar(positive=['paris', 'turkey'], negative=['france'])"
   ]
  },
  {
   "cell_type": "code",
   "execution_count": 31,
   "metadata": {},
   "outputs": [
    {
     "name": "stderr",
     "output_type": "stream",
     "text": [
      "/Users/toprak.ucar/anaconda3/lib/python3.7/site-packages/gensim/matutils.py:737: FutureWarning: Conversion of the second argument of issubdtype from `int` to `np.signedinteger` is deprecated. In future, it will be treated as `np.int64 == np.dtype(int).type`.\n",
      "  if np.issubdtype(vec.dtype, np.int):\n"
     ]
    },
    {
     "data": {
      "text/plain": [
       "[('turkish', 0.6588573455810547),\n",
       " ('erdogan', 0.6462050676345825),\n",
       " ('yildirim', 0.6361896991729736),\n",
       " ('marashipov', 0.6323192119598389),\n",
       " ('erdo', 0.6155811548233032),\n",
       " ('davutoglu', 0.6034064292907715),\n",
       " ('ankara', 0.5946260690689087),\n",
       " ('davuto', 0.5712416172027588),\n",
       " ('pilz', 0.5670062303543091),\n",
       " ('plotters', 0.5552436113357544)]"
      ]
     },
     "execution_count": 31,
     "metadata": {},
     "output_type": "execute_result"
    }
   ],
   "source": [
    "model.wv.most_similar(positive=['trump', 'turkey'], negative=['america'])"
   ]
  },
  {
   "cell_type": "code",
   "execution_count": 52,
   "metadata": {},
   "outputs": [
    {
     "name": "stderr",
     "output_type": "stream",
     "text": [
      "/Users/toprak.ucar/anaconda3/lib/python3.7/site-packages/gensim/matutils.py:737: FutureWarning: Conversion of the second argument of issubdtype from `int` to `np.signedinteger` is deprecated. In future, it will be treated as `np.int64 == np.dtype(int).type`.\n",
      "  if np.issubdtype(vec.dtype, np.int):\n"
     ]
    },
    {
     "data": {
      "text/plain": [
       "[('ronaldo', 0.8275047540664673),\n",
       " ('neymar', 0.8230786323547363),\n",
       " ('higuain', 0.8138059377670288),\n",
       " ('atletico', 0.8111591339111328),\n",
       " ('cristiano', 0.8060434460639954),\n",
       " ('higua', 0.7991237044334412),\n",
       " ('isco', 0.7953017354011536),\n",
       " ('benzema', 0.7921320199966431),\n",
       " ('carrasco', 0.790255606174469),\n",
       " ('juve', 0.7867611050605774)]"
      ]
     },
     "execution_count": 52,
     "metadata": {},
     "output_type": "execute_result"
    }
   ],
   "source": [
    "model.wv.most_similar(positive=['messi', 'madrid'], negative=['barcelona'])"
   ]
  },
  {
   "cell_type": "code",
   "execution_count": 63,
   "metadata": {},
   "outputs": [
    {
     "name": "stderr",
     "output_type": "stream",
     "text": [
      "/Users/toprak.ucar/anaconda3/lib/python3.7/site-packages/gensim/matutils.py:737: FutureWarning: Conversion of the second argument of issubdtype from `int` to `np.signedinteger` is deprecated. In future, it will be treated as `np.int64 == np.dtype(int).type`.\n",
      "  if np.issubdtype(vec.dtype, np.int):\n"
     ]
    },
    {
     "data": {
      "text/plain": [
       "[('uffizi', 0.689817488193512),\n",
       " ('branczik', 0.6873118877410889),\n",
       " ('rueger', 0.6867389678955078),\n",
       " ('pompeii', 0.6823211312294006),\n",
       " ('porto', 0.677849292755127),\n",
       " ('seine', 0.6729899048805237),\n",
       " ('gallery', 0.6708073019981384),\n",
       " ('nuovo', 0.6648528575897217),\n",
       " ('frescoes', 0.6636790037155151),\n",
       " ('duomo', 0.6594634056091309)]"
      ]
     },
     "execution_count": 63,
     "metadata": {},
     "output_type": "execute_result"
    }
   ],
   "source": [
    "model.wv.most_similar(positive=['louvre', 'italy'], negative=['france'])"
   ]
  },
  {
   "cell_type": "code",
   "execution_count": 68,
   "metadata": {},
   "outputs": [
    {
     "name": "stderr",
     "output_type": "stream",
     "text": [
      "2018-12-25 00:15:03,625 : INFO : saving Word2Vec object under model/model_for_news, separately None\n",
      "2018-12-25 00:15:03,626 : INFO : storing np array 'vectors' to model/model_for_news.wv.vectors.npy\n",
      "2018-12-25 00:15:03,850 : INFO : not storing attribute vectors_norm\n",
      "2018-12-25 00:15:03,851 : INFO : storing np array 'syn1neg' to model/model_for_news.trainables.syn1neg.npy\n",
      "2018-12-25 00:15:04,543 : INFO : saved model/model_for_news\n"
     ]
    }
   ],
   "source": [
    "model.save(fname_or_handle=\"model/\" + \"model_for_news\")"
   ]
  },
  {
   "cell_type": "code",
   "execution_count": 122,
   "metadata": {},
   "outputs": [],
   "source": [
    "def calculate_avg_vecs(column):\n",
    "    words = getattr(column, 'content').split()\n",
    "    vecs = []\n",
    "    for word in words:\n",
    "        vecs.append(model[word])\n",
    "    if len(vecs) == 0:\n",
    "        return np.zeros(50)\n",
    "    vec_sum = np.sum(vecs, axis = 0)\n",
    "    vec_avg = np.divide(vec_sum, len(vecs))\n",
    "    return vec_avg"
   ]
  },
  {
   "cell_type": "code",
   "execution_count": 72,
   "metadata": {},
   "outputs": [],
   "source": [
    "def calculate_text_length_by_words(text):\n",
    "    return len(text.split())"
   ]
  },
  {
   "cell_type": "code",
   "execution_count": 73,
   "metadata": {},
   "outputs": [],
   "source": [
    "def calculate_text_length_by_chars(text):\n",
    "    return len(text)"
   ]
  },
  {
   "cell_type": "code",
   "execution_count": 75,
   "metadata": {},
   "outputs": [],
   "source": [
    "def generate_publisher_dictionary(df):\n",
    "    publication_array = df['publication'].unique()\n",
    "    publication_index = np.arange(len(publication_array))\n",
    "    return dict(zip(publication_array, publication_index))"
   ]
  },
  {
   "cell_type": "code",
   "execution_count": 78,
   "metadata": {},
   "outputs": [],
   "source": [
    "vec_col_names = []\n",
    "for x in range(50):\n",
    "    vec_col_names.append('v' + str(x))"
   ]
  },
  {
   "cell_type": "code",
   "execution_count": 123,
   "metadata": {},
   "outputs": [],
   "source": [
    "def generate_columns_for_model(df):\n",
    "    feature_columns = pd.DataFrame()\n",
    "    for row in df.itertuples():\n",
    "        if(type(getattr(row, 'content')) == str):\n",
    "            vecs = calculate_avg_vecs(row)\n",
    "            vec_df = pd.DataFrame([vecs.tolist()], columns=vec_col_names)\n",
    "            column = [getattr(row, 'content')]\n",
    "            col_df = pd.DataFrame([column], columns=['content'])\n",
    "            col_df['number_of_words'] = calculate_text_length_by_words(getattr(row, 'content'))\n",
    "            col_df['len_of_text'] = calculate_text_length_by_chars(getattr(row, 'content'))\n",
    "            col_df['publication'] = publisher_dict.get(getattr(row, 'publication'))\n",
    "            feature_df = pd.concat([col_df, vec_df], axis=1)\n",
    "            feature_columns = feature_columns.append(feature_df)\n",
    "    return feature_columns"
   ]
  },
  {
   "cell_type": "code",
   "execution_count": 124,
   "metadata": {},
   "outputs": [
    {
     "name": "stderr",
     "output_type": "stream",
     "text": [
      "/Users/toprak.ucar/anaconda3/lib/python3.7/site-packages/ipykernel_launcher.py:5: DeprecationWarning: Call to deprecated `__getitem__` (Method will be removed in 4.0.0, use self.wv.__getitem__() instead).\n",
      "  \"\"\"\n"
     ]
    }
   ],
   "source": [
    "publisher_dict = generate_publisher_dictionary(df)\n",
    "feature_columns = generate_columns_for_model(df)"
   ]
  },
  {
   "cell_type": "code",
   "execution_count": 126,
   "metadata": {},
   "outputs": [
    {
     "data": {
      "text/plain": [
       "Index(['content', 'number_of_words', 'len_of_text', 'publication', 'v0', 'v1',\n",
       "       'v2', 'v3', 'v4', 'v5', 'v6', 'v7', 'v8', 'v9', 'v10', 'v11', 'v12',\n",
       "       'v13', 'v14', 'v15', 'v16', 'v17', 'v18', 'v19', 'v20', 'v21', 'v22',\n",
       "       'v23', 'v24', 'v25', 'v26', 'v27', 'v28', 'v29', 'v30', 'v31', 'v32',\n",
       "       'v33', 'v34', 'v35', 'v36', 'v37', 'v38', 'v39', 'v40', 'v41', 'v42',\n",
       "       'v43', 'v44', 'v45', 'v46', 'v47', 'v48', 'v49'],\n",
       "      dtype='object')"
      ]
     },
     "execution_count": 126,
     "metadata": {},
     "output_type": "execute_result"
    }
   ],
   "source": [
    "feature_columns.columns"
   ]
  },
  {
   "cell_type": "code",
   "execution_count": null,
   "metadata": {},
   "outputs": [],
   "source": [
    "training = feature_columns.groupby('is').apply(lambda x : x.sample(frac = 0.7))\n",
    "test = pd.concat([feature_columns,training]).drop_duplicates(subset='text',keep=False)       "
   ]
  },
  {
   "cell_type": "code",
   "execution_count": 118,
   "metadata": {
    "scrolled": true
   },
   "outputs": [
    {
     "data": {
      "text/plain": [
       "[0,\n",
       " 0,\n",
       " 0,\n",
       " 0,\n",
       " 0,\n",
       " 0,\n",
       " 0,\n",
       " 0,\n",
       " 0,\n",
       " 0,\n",
       " 0,\n",
       " 0,\n",
       " 0,\n",
       " 0,\n",
       " 0,\n",
       " 0,\n",
       " 0,\n",
       " 0,\n",
       " 0,\n",
       " 0,\n",
       " 0,\n",
       " 0,\n",
       " 0,\n",
       " 0,\n",
       " 0,\n",
       " 0,\n",
       " 0,\n",
       " 0,\n",
       " 0,\n",
       " 0,\n",
       " 0,\n",
       " 0,\n",
       " 0,\n",
       " 0,\n",
       " 0,\n",
       " 0,\n",
       " 0,\n",
       " 0,\n",
       " 0,\n",
       " 0,\n",
       " 0,\n",
       " 0,\n",
       " 0,\n",
       " 0,\n",
       " 0,\n",
       " 0,\n",
       " 0,\n",
       " 0,\n",
       " 0,\n",
       " 0]"
      ]
     },
     "execution_count": 118,
     "metadata": {},
     "output_type": "execute_result"
    }
   ],
   "source": [
    " # modeling\n",
    "        h2o.init(max_mem_size=\"90G\")\n",
    "        h2o.connect()"
   ]
  },
  {
   "cell_type": "code",
   "execution_count": 88,
   "metadata": {},
   "outputs": [
    {
     "data": {
      "text/plain": [
       "content            washington congressional republicans new fear ...\n",
       "number_of_words                                                  502\n",
       "len_of_text                                                     4002\n",
       "publication                                                        0\n",
       "v0                                                           0.87953\n",
       "v1                                                           1.22148\n",
       "v2                                                           2.35176\n",
       "v3                                                          0.326413\n",
       "v4                                                          -1.52299\n",
       "v5                                                         -0.858053\n",
       "v6                                                         -0.584676\n",
       "v7                                                          -1.97759\n",
       "v8                                                          -2.54625\n",
       "v9                                                            0.1973\n",
       "v10                                                         -1.28802\n",
       "v11                                                         0.986172\n",
       "v12                                                          1.54899\n",
       "v13                                                         -2.85716\n",
       "v14                                                        -0.656241\n",
       "v15                                                        -0.745078\n",
       "v16                                                        -0.599151\n",
       "v17                                                          2.22479\n",
       "v18                                                          1.18134\n",
       "v19                                                         -1.09121\n",
       "v20                                                         -1.86551\n",
       "v21                                                        -0.489945\n",
       "v22                                                         0.541693\n",
       "v23                                                        -0.157746\n",
       "v24                                                      -0.00513041\n",
       "v25                                                         0.997956\n",
       "v26                                                          2.68432\n",
       "v27                                                        -0.356188\n",
       "v28                                                          1.00457\n",
       "v29                                                        -0.432507\n",
       "v30                                                        0.0366614\n",
       "v31                                                        -0.208915\n",
       "v32                                                          2.07025\n",
       "v33                                                         -1.53967\n",
       "v34                                                         0.502157\n",
       "v35                                                        -0.560783\n",
       "v36                                                         -1.53425\n",
       "v37                                                        0.0352435\n",
       "v38                                                         -1.74773\n",
       "v39                                                         0.441496\n",
       "v40                                                         -2.09191\n",
       "v41                                                        -0.301111\n",
       "v42                                                        -0.359264\n",
       "v43                                                          1.42301\n",
       "v44                                                         -2.13039\n",
       "v45                                                          1.21617\n",
       "v46                                                          1.29609\n",
       "v47                                                         0.779642\n",
       "v48                                                         0.987465\n",
       "v49                                                        -0.335946\n",
       "Name: 0, dtype: object"
      ]
     },
     "execution_count": 88,
     "metadata": {},
     "output_type": "execute_result"
    }
   ],
   "source": []
  }
 ],
 "metadata": {
  "kernelspec": {
   "display_name": "Python 3",
   "language": "python",
   "name": "python3"
  },
  "language_info": {
   "codemirror_mode": {
    "name": "ipython",
    "version": 3
   },
   "file_extension": ".py",
   "mimetype": "text/x-python",
   "name": "python",
   "nbconvert_exporter": "python",
   "pygments_lexer": "ipython3",
   "version": "3.7.0"
  }
 },
 "nbformat": 4,
 "nbformat_minor": 2
}
