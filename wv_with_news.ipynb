{
 "cells": [
  {
   "cell_type": "code",
   "execution_count": 1,
   "metadata": {},
   "outputs": [
    {
     "name": "stdout",
     "output_type": "stream",
     "text": [
      "[nltk_data] Downloading package stopwords to\n",
      "[nltk_data]     /Users/toprak.ucar/nltk_data...\n",
      "[nltk_data]   Package stopwords is already up-to-date!\n"
     ]
    }
   ],
   "source": [
    "import pandas as pd\n",
    "import numpy as np\n",
    "import gensim\n",
    "import datetime\n",
    "import re\n",
    "import os\n",
    "import logging\n",
    "import time\n",
    "from h2o.estimators.word2vec import H2OWord2vecEstimator\n",
    "from h2o.estimators import H2OGradientBoostingEstimator\n",
    "from h2o.estimators import H2ORandomForestEstimator\n",
    "import h2o\n",
    "from nltk.corpus import stopwords\n",
    "import nltk\n",
    "nltk.download('stopwords')\n",
    "logging.basicConfig(format='%(asctime)s : %(levelname)s : %(message)s', level=logging.INFO)"
   ]
  },
  {
   "cell_type": "code",
   "execution_count": 2,
   "metadata": {},
   "outputs": [
    {
     "name": "stdout",
     "output_type": "stream",
     "text": [
      "['articles1.csv', 'articles3.csv', 'articles2.csv']\n"
     ]
    }
   ],
   "source": [
    "csv_files = [pos_csv for pos_csv in os.listdir(\"data/\") if pos_csv.endswith('.csv')]\n",
    "print(csv_files)\n",
    "df = pd.DataFrame()\n",
    "\n",
    "for file in csv_files:\n",
    "    df = df.append(pd.read_csv(\"data/\" + file))"
   ]
  },
  {
   "cell_type": "code",
   "execution_count": 3,
   "metadata": {},
   "outputs": [
    {
     "data": {
      "text/plain": [
       "Index(['Unnamed: 0', 'id', 'title', 'publication', 'author', 'date', 'year',\n",
       "       'month', 'url', 'content'],\n",
       "      dtype='object')"
      ]
     },
     "execution_count": 3,
     "metadata": {},
     "output_type": "execute_result"
    }
   ],
   "source": [
    "df.columns"
   ]
  },
  {
   "cell_type": "code",
   "execution_count": 4,
   "metadata": {},
   "outputs": [],
   "source": [
    "df = df.drop(['author', 'date', 'year', 'month', 'url'], axis=1)"
   ]
  },
  {
   "cell_type": "code",
   "execution_count": 5,
   "metadata": {},
   "outputs": [],
   "source": [
    "df['title'] = df['title'].str.lower()"
   ]
  },
  {
   "cell_type": "code",
   "execution_count": 6,
   "metadata": {},
   "outputs": [],
   "source": [
    "df['publication'] = df['publication'].str.lower()"
   ]
  },
  {
   "cell_type": "code",
   "execution_count": 7,
   "metadata": {},
   "outputs": [],
   "source": [
    "df['content'] = df['content'].str.lower()"
   ]
  },
  {
   "cell_type": "code",
   "execution_count": 8,
   "metadata": {},
   "outputs": [],
   "source": [
    "df['content'] = df['content'].str.replace('[^a-zA-Zğüşçö]', ' ')"
   ]
  },
  {
   "cell_type": "code",
   "execution_count": 9,
   "metadata": {},
   "outputs": [],
   "source": [
    "stop_words = stopwords.words('english')"
   ]
  },
  {
   "cell_type": "code",
   "execution_count": 10,
   "metadata": {},
   "outputs": [],
   "source": [
    "df['content'] = df['content'].apply(lambda x: ' '.join([word for word in x.split() if word not in (stop_words)]))"
   ]
  },
  {
   "cell_type": "code",
   "execution_count": 11,
   "metadata": {
    "scrolled": true
   },
   "outputs": [
    {
     "data": {
      "text/html": [
       "<div>\n",
       "<style scoped>\n",
       "    .dataframe tbody tr th:only-of-type {\n",
       "        vertical-align: middle;\n",
       "    }\n",
       "\n",
       "    .dataframe tbody tr th {\n",
       "        vertical-align: top;\n",
       "    }\n",
       "\n",
       "    .dataframe thead th {\n",
       "        text-align: right;\n",
       "    }\n",
       "</style>\n",
       "<table border=\"1\" class=\"dataframe\">\n",
       "  <thead>\n",
       "    <tr style=\"text-align: right;\">\n",
       "      <th></th>\n",
       "      <th>Unnamed: 0</th>\n",
       "      <th>id</th>\n",
       "      <th>title</th>\n",
       "      <th>content</th>\n",
       "    </tr>\n",
       "    <tr>\n",
       "      <th>publication</th>\n",
       "      <th></th>\n",
       "      <th></th>\n",
       "      <th></th>\n",
       "      <th></th>\n",
       "    </tr>\n",
       "  </thead>\n",
       "  <tbody>\n",
       "    <tr>\n",
       "      <th>atlantic</th>\n",
       "      <td>7179</td>\n",
       "      <td>7179</td>\n",
       "      <td>7179</td>\n",
       "      <td>7179</td>\n",
       "    </tr>\n",
       "    <tr>\n",
       "      <th>breitbart</th>\n",
       "      <td>23781</td>\n",
       "      <td>23781</td>\n",
       "      <td>23781</td>\n",
       "      <td>23781</td>\n",
       "    </tr>\n",
       "    <tr>\n",
       "      <th>business insider</th>\n",
       "      <td>6757</td>\n",
       "      <td>6757</td>\n",
       "      <td>6757</td>\n",
       "      <td>6757</td>\n",
       "    </tr>\n",
       "    <tr>\n",
       "      <th>buzzfeed news</th>\n",
       "      <td>4854</td>\n",
       "      <td>4854</td>\n",
       "      <td>4854</td>\n",
       "      <td>4854</td>\n",
       "    </tr>\n",
       "    <tr>\n",
       "      <th>cnn</th>\n",
       "      <td>11488</td>\n",
       "      <td>11488</td>\n",
       "      <td>11488</td>\n",
       "      <td>11488</td>\n",
       "    </tr>\n",
       "    <tr>\n",
       "      <th>fox news</th>\n",
       "      <td>4354</td>\n",
       "      <td>4354</td>\n",
       "      <td>4354</td>\n",
       "      <td>4354</td>\n",
       "    </tr>\n",
       "    <tr>\n",
       "      <th>guardian</th>\n",
       "      <td>8681</td>\n",
       "      <td>8681</td>\n",
       "      <td>8681</td>\n",
       "      <td>8681</td>\n",
       "    </tr>\n",
       "    <tr>\n",
       "      <th>national review</th>\n",
       "      <td>6203</td>\n",
       "      <td>6203</td>\n",
       "      <td>6203</td>\n",
       "      <td>6203</td>\n",
       "    </tr>\n",
       "    <tr>\n",
       "      <th>new york post</th>\n",
       "      <td>17493</td>\n",
       "      <td>17493</td>\n",
       "      <td>17493</td>\n",
       "      <td>17493</td>\n",
       "    </tr>\n",
       "    <tr>\n",
       "      <th>new york times</th>\n",
       "      <td>7803</td>\n",
       "      <td>7803</td>\n",
       "      <td>7803</td>\n",
       "      <td>7803</td>\n",
       "    </tr>\n",
       "    <tr>\n",
       "      <th>npr</th>\n",
       "      <td>11992</td>\n",
       "      <td>11992</td>\n",
       "      <td>11992</td>\n",
       "      <td>11992</td>\n",
       "    </tr>\n",
       "    <tr>\n",
       "      <th>reuters</th>\n",
       "      <td>10710</td>\n",
       "      <td>10710</td>\n",
       "      <td>10709</td>\n",
       "      <td>10710</td>\n",
       "    </tr>\n",
       "    <tr>\n",
       "      <th>talking points memo</th>\n",
       "      <td>5214</td>\n",
       "      <td>5214</td>\n",
       "      <td>5213</td>\n",
       "      <td>5214</td>\n",
       "    </tr>\n",
       "    <tr>\n",
       "      <th>vox</th>\n",
       "      <td>4947</td>\n",
       "      <td>4947</td>\n",
       "      <td>4947</td>\n",
       "      <td>4947</td>\n",
       "    </tr>\n",
       "    <tr>\n",
       "      <th>washington post</th>\n",
       "      <td>11114</td>\n",
       "      <td>11114</td>\n",
       "      <td>11114</td>\n",
       "      <td>11114</td>\n",
       "    </tr>\n",
       "  </tbody>\n",
       "</table>\n",
       "</div>"
      ],
      "text/plain": [
       "                     Unnamed: 0     id  title  content\n",
       "publication                                           \n",
       "atlantic                   7179   7179   7179     7179\n",
       "breitbart                 23781  23781  23781    23781\n",
       "business insider           6757   6757   6757     6757\n",
       "buzzfeed news              4854   4854   4854     4854\n",
       "cnn                       11488  11488  11488    11488\n",
       "fox news                   4354   4354   4354     4354\n",
       "guardian                   8681   8681   8681     8681\n",
       "national review            6203   6203   6203     6203\n",
       "new york post             17493  17493  17493    17493\n",
       "new york times             7803   7803   7803     7803\n",
       "npr                       11992  11992  11992    11992\n",
       "reuters                   10710  10710  10709    10710\n",
       "talking points memo        5214   5214   5213     5214\n",
       "vox                        4947   4947   4947     4947\n",
       "washington post           11114  11114  11114    11114"
      ]
     },
     "execution_count": 11,
     "metadata": {},
     "output_type": "execute_result"
    }
   ],
   "source": [
    "df.groupby(['publication']).count()"
   ]
  },
  {
   "cell_type": "code",
   "execution_count": 12,
   "metadata": {},
   "outputs": [
    {
     "data": {
      "text/plain": [
       "142570"
      ]
     },
     "execution_count": 12,
     "metadata": {},
     "output_type": "execute_result"
    }
   ],
   "source": [
    "len(df)"
   ]
  },
  {
   "cell_type": "code",
   "execution_count": 13,
   "metadata": {},
   "outputs": [],
   "source": [
    "df[\"isBreitbart\"] = np.where(df['publication'] == 'breitbart', \"1\", \"0\")"
   ]
  },
  {
   "cell_type": "code",
   "execution_count": 14,
   "metadata": {},
   "outputs": [],
   "source": [
    "words = []\n",
    "for count in range (len(df)):\n",
    "    if (type(df.iloc[count]['content']) != float):\n",
    "        words.append(df.iloc[count]['content'].split())"
   ]
  },
  {
   "cell_type": "code",
   "execution_count": 15,
   "metadata": {},
   "outputs": [
    {
     "name": "stderr",
     "output_type": "stream",
     "text": [
      "WARNING:gensim.models.base_any2vec:consider setting layer size to a multiple of 4 for greater performance\n"
     ]
    }
   ],
   "source": [
    "model = gensim.models.Word2Vec(words, window=15, \n",
    "                                       size= 50, iter=10, \n",
    "                                       min_count=1, workers = 4)"
   ]
  },
  {
   "cell_type": "code",
   "execution_count": 16,
   "metadata": {},
   "outputs": [
    {
     "name": "stderr",
     "output_type": "stream",
     "text": [
      "/Users/toprak.ucar/anaconda3/lib/python3.7/site-packages/gensim/matutils.py:737: FutureWarning: Conversion of the second argument of issubdtype from `int` to `np.signedinteger` is deprecated. In future, it will be treated as `np.int64 == np.dtype(int).type`.\n",
      "  if np.issubdtype(vec.dtype, np.int):\n"
     ]
    },
    {
     "data": {
      "text/plain": [
       "[('ataturk', 0.7798241376876831),\n",
       " ('bosporus', 0.7557799220085144),\n",
       " ('reina', 0.7474915981292725),\n",
       " ('ankara', 0.7474610805511475),\n",
       " ('ahmet', 0.7405011653900146),\n",
       " ('gaziantep', 0.7166070938110352),\n",
       " ('ortakoy', 0.7148107290267944),\n",
       " ('hurriyet', 0.7147783637046814),\n",
       " ('sultanahmet', 0.7122244834899902),\n",
       " ('atatürk', 0.7095097303390503)]"
      ]
     },
     "execution_count": 16,
     "metadata": {},
     "output_type": "execute_result"
    }
   ],
   "source": [
    "model.wv.similar_by_word(\"istanbul\")"
   ]
  },
  {
   "cell_type": "code",
   "execution_count": 17,
   "metadata": {},
   "outputs": [
    {
     "name": "stderr",
     "output_type": "stream",
     "text": [
      "/Users/toprak.ucar/anaconda3/lib/python3.7/site-packages/gensim/matutils.py:737: FutureWarning: Conversion of the second argument of issubdtype from `int` to `np.signedinteger` is deprecated. In future, it will be treated as `np.int64 == np.dtype(int).type`.\n",
      "  if np.issubdtype(vec.dtype, np.int):\n"
     ]
    },
    {
     "data": {
      "text/plain": [
       "[('ronaldo', 0.8949919939041138),\n",
       " ('neymar', 0.8825325965881348),\n",
       " ('barça', 0.8726922273635864),\n",
       " ('higuain', 0.8568639755249023),\n",
       " ('iniesta', 0.8435724377632141),\n",
       " ('sevilla', 0.8430395126342773),\n",
       " ('barcelona', 0.8402814865112305),\n",
       " ('griezmann', 0.833495557308197),\n",
       " ('juve', 0.8228360414505005),\n",
       " ('atletico', 0.8223202228546143)]"
      ]
     },
     "execution_count": 17,
     "metadata": {},
     "output_type": "execute_result"
    }
   ],
   "source": [
    "model.wv.similar_by_word(\"messi\")"
   ]
  },
  {
   "cell_type": "code",
   "execution_count": 18,
   "metadata": {},
   "outputs": [
    {
     "name": "stderr",
     "output_type": "stream",
     "text": [
      "/Users/toprak.ucar/anaconda3/lib/python3.7/site-packages/gensim/matutils.py:737: FutureWarning: Conversion of the second argument of issubdtype from `int` to `np.signedinteger` is deprecated. In future, it will be treated as `np.int64 == np.dtype(int).type`.\n",
      "  if np.issubdtype(vec.dtype, np.int):\n"
     ]
    },
    {
     "data": {
      "text/plain": [
       "[('atatürk', 0.8904459476470947),\n",
       " ('kemal', 0.8044395446777344),\n",
       " ('istanbul', 0.7798240184783936),\n",
       " ('yildiz', 0.736945629119873),\n",
       " ('havalimani', 0.7224811315536499),\n",
       " ('hurriyet', 0.7168923616409302),\n",
       " ('ahmet', 0.7138577699661255),\n",
       " ('turkishminutetm', 0.7051156759262085),\n",
       " ('erdemir', 0.693200945854187),\n",
       " ('reza', 0.6862856149673462)]"
      ]
     },
     "execution_count": 18,
     "metadata": {},
     "output_type": "execute_result"
    }
   ],
   "source": [
    "model.wv.similar_by_word(\"ataturk\")"
   ]
  },
  {
   "cell_type": "code",
   "execution_count": 19,
   "metadata": {},
   "outputs": [
    {
     "name": "stderr",
     "output_type": "stream",
     "text": [
      "/Users/toprak.ucar/anaconda3/lib/python3.7/site-packages/gensim/matutils.py:737: FutureWarning: Conversion of the second argument of issubdtype from `int` to `np.signedinteger` is deprecated. In future, it will be treated as `np.int64 == np.dtype(int).type`.\n",
      "  if np.issubdtype(vec.dtype, np.int):\n"
     ]
    },
    {
     "data": {
      "text/plain": [
       "[('ankara', 0.7369124293327332),\n",
       " ('turkish', 0.6831108927726746),\n",
       " ('davutoglu', 0.6586964130401611),\n",
       " ('turks', 0.6429847478866577),\n",
       " ('doha', 0.6328001022338867),\n",
       " ('erdogan', 0.6145455241203308),\n",
       " ('syria', 0.6067423224449158),\n",
       " ('qataris', 0.6024590730667114),\n",
       " ('syrian', 0.5936243534088135),\n",
       " ('uae', 0.5925226807594299)]"
      ]
     },
     "execution_count": 19,
     "metadata": {},
     "output_type": "execute_result"
    }
   ],
   "source": [
    "model.wv.most_similar(positive=['paris', 'turkey'], negative=['france'])"
   ]
  },
  {
   "cell_type": "code",
   "execution_count": 20,
   "metadata": {},
   "outputs": [
    {
     "name": "stderr",
     "output_type": "stream",
     "text": [
      "/Users/toprak.ucar/anaconda3/lib/python3.7/site-packages/gensim/matutils.py:737: FutureWarning: Conversion of the second argument of issubdtype from `int` to `np.signedinteger` is deprecated. In future, it will be treated as `np.int64 == np.dtype(int).type`.\n",
      "  if np.issubdtype(vec.dtype, np.int):\n"
     ]
    },
    {
     "data": {
      "text/plain": [
       "[('erdogan', 0.6578723192214966),\n",
       " ('turkish', 0.6578384041786194),\n",
       " ('davutoglu', 0.6330110430717468),\n",
       " ('yildirim', 0.6259006261825562),\n",
       " ('erdoğan', 0.6233898997306824),\n",
       " ('flynn', 0.605996310710907),\n",
       " ('duaa', 0.5999085307121277),\n",
       " ('ankara', 0.5847311019897461),\n",
       " ('plotters', 0.5842882394790649),\n",
       " ('lewandowski', 0.5586950778961182)]"
      ]
     },
     "execution_count": 20,
     "metadata": {},
     "output_type": "execute_result"
    }
   ],
   "source": [
    "model.wv.most_similar(positive=['trump', 'turkey'], negative=['america'])"
   ]
  },
  {
   "cell_type": "code",
   "execution_count": 21,
   "metadata": {},
   "outputs": [
    {
     "name": "stderr",
     "output_type": "stream",
     "text": [
      "/Users/toprak.ucar/anaconda3/lib/python3.7/site-packages/gensim/matutils.py:737: FutureWarning: Conversion of the second argument of issubdtype from `int` to `np.signedinteger` is deprecated. In future, it will be treated as `np.int64 == np.dtype(int).type`.\n",
      "  if np.issubdtype(vec.dtype, np.int):\n"
     ]
    },
    {
     "data": {
      "text/plain": [
       "[('ronaldo', 0.8423516154289246),\n",
       " ('cristiano', 0.8305746912956238),\n",
       " ('higuain', 0.829215407371521),\n",
       " ('atletico', 0.8175734281539917),\n",
       " ('neymar', 0.8093371391296387),\n",
       " ('barça', 0.8056430816650391),\n",
       " ('iniesta', 0.8003312349319458),\n",
       " ('benzema', 0.79571533203125),\n",
       " ('atl', 0.7924468517303467),\n",
       " ('juve', 0.7840198278427124)]"
      ]
     },
     "execution_count": 21,
     "metadata": {},
     "output_type": "execute_result"
    }
   ],
   "source": [
    "model.wv.most_similar(positive=['messi', 'madrid'], negative=['barcelona'])"
   ]
  },
  {
   "cell_type": "code",
   "execution_count": 22,
   "metadata": {},
   "outputs": [
    {
     "name": "stderr",
     "output_type": "stream",
     "text": [
      "/Users/toprak.ucar/anaconda3/lib/python3.7/site-packages/gensim/matutils.py:737: FutureWarning: Conversion of the second argument of issubdtype from `int` to `np.signedinteger` is deprecated. In future, it will be treated as `np.int64 == np.dtype(int).type`.\n",
      "  if np.issubdtype(vec.dtype, np.int):\n"
     ]
    },
    {
     "data": {
      "text/plain": [
       "[('seine', 0.7342692017555237),\n",
       " ('uffizi', 0.7259130477905273),\n",
       " ('porto', 0.6985342502593994),\n",
       " ('vermeer', 0.6922858953475952),\n",
       " ('artworks', 0.6869853138923645),\n",
       " ('ingres', 0.6850420236587524),\n",
       " ('paintings', 0.680021345615387),\n",
       " ('rueger', 0.6736742854118347),\n",
       " ('agadir', 0.6708642244338989),\n",
       " ('restorers', 0.6657865047454834)]"
      ]
     },
     "execution_count": 22,
     "metadata": {},
     "output_type": "execute_result"
    }
   ],
   "source": [
    "model.wv.most_similar(positive=['louvre', 'italy'], negative=['france'])"
   ]
  },
  {
   "cell_type": "code",
   "execution_count": 23,
   "metadata": {},
   "outputs": [
    {
     "name": "stderr",
     "output_type": "stream",
     "text": [
      "/Users/toprak.ucar/anaconda3/lib/python3.7/site-packages/gensim/matutils.py:737: FutureWarning: Conversion of the second argument of issubdtype from `int` to `np.signedinteger` is deprecated. In future, it will be treated as `np.int64 == np.dtype(int).type`.\n",
      "  if np.issubdtype(vec.dtype, np.int):\n"
     ]
    },
    {
     "data": {
      "text/plain": [
       "[('montreal', 0.7173881530761719),\n",
       " ('marrakesh', 0.7167702913284302),\n",
       " ('punta', 0.6869816780090332),\n",
       " ('basel', 0.686701774597168),\n",
       " ('milan', 0.6821087598800659),\n",
       " ('lausanne', 0.6813076734542847),\n",
       " ('walloons', 0.663448691368103),\n",
       " ('switzerland', 0.6631225347518921),\n",
       " ('madrid', 0.6612542867660522),\n",
       " ('prague', 0.659068763256073)]"
      ]
     },
     "execution_count": 23,
     "metadata": {},
     "output_type": "execute_result"
    }
   ],
   "source": [
    "model.wv.most_similar(positive=['paris', 'spain'], negative=['france'])"
   ]
  },
  {
   "cell_type": "code",
   "execution_count": 24,
   "metadata": {},
   "outputs": [],
   "source": [
    "model.save(fname_or_handle=\"model/\" + \"model_for_news\")"
   ]
  },
  {
   "cell_type": "code",
   "execution_count": 25,
   "metadata": {},
   "outputs": [],
   "source": [
    "def calculate_avg_vecs(column):\n",
    "    words = column.split()\n",
    "    vecs = []\n",
    "    for word in words:\n",
    "        vecs.append(model[word])\n",
    "    if len(vecs) == 0:\n",
    "        return np.zeros(50)\n",
    "    vec_sum = np.sum(vecs, axis = 0)\n",
    "    vec_avg = np.divide(vec_sum, len(vecs))\n",
    "    return vec_avg"
   ]
  },
  {
   "cell_type": "code",
   "execution_count": 26,
   "metadata": {},
   "outputs": [],
   "source": [
    "def calculate_text_length_by_words(text):\n",
    "    return len(text.split())"
   ]
  },
  {
   "cell_type": "code",
   "execution_count": 27,
   "metadata": {},
   "outputs": [],
   "source": [
    "def calculate_text_length_by_chars(text):\n",
    "    return len(text)"
   ]
  },
  {
   "cell_type": "code",
   "execution_count": 28,
   "metadata": {},
   "outputs": [],
   "source": [
    "def generate_publisher_dictionary(df):\n",
    "    publication_array = df['publication'].unique()\n",
    "    publication_index = np.arange(len(publication_array))\n",
    "    return dict(zip(publication_array, publication_index))"
   ]
  },
  {
   "cell_type": "code",
   "execution_count": 29,
   "metadata": {},
   "outputs": [],
   "source": [
    "vec_col_names = []\n",
    "for x in range(50):\n",
    "    vec_col_names.append('v' + str(x))"
   ]
  },
  {
   "cell_type": "code",
   "execution_count": 30,
   "metadata": {},
   "outputs": [],
   "source": [
    "def generate_columns_for_model(df):\n",
    "    feature_columns = pd.DataFrame()\n",
    "    feature_columns['len_of_text'] = df.apply(lambda x: len(x['content']), axis=1)\n",
    "    feature_columns['number_of_words'] = df.apply(lambda x: len(x['content'].split()), axis=1)\n",
    "    feature_columns['content'] = df['content']\n",
    "    feature_columns['publication'] = df['publication']\n",
    "    feature_columns = feature_columns.reset_index()\n",
    "    vecs = df['content'].apply(lambda x: calculate_avg_vecs(x))\n",
    "    vecs_df = pd.DataFrame(vecs.values)[0].apply(pd.Series)\n",
    "    vecs_df = vecs_df.reset_index()\n",
    "    return pd.concat([feature_columns.set_index('index'),vecs_df.set_index('index')], axis=1, join='inner')"
   ]
  },
  {
   "cell_type": "code",
   "execution_count": 31,
   "metadata": {},
   "outputs": [
    {
     "name": "stderr",
     "output_type": "stream",
     "text": [
      "/Users/toprak.ucar/anaconda3/lib/python3.7/site-packages/ipykernel_launcher.py:5: DeprecationWarning: Call to deprecated `__getitem__` (Method will be removed in 4.0.0, use self.wv.__getitem__() instead).\n",
      "  \"\"\"\n"
     ]
    }
   ],
   "source": [
    "feature_columns = generate_columns_for_model(df)"
   ]
  },
  {
   "cell_type": "code",
   "execution_count": 32,
   "metadata": {},
   "outputs": [],
   "source": [
    "for i in range (50):\n",
    "    feature_columns.rename(columns={i: vec_col_names[i]}, inplace=True)"
   ]
  },
  {
   "cell_type": "code",
   "execution_count": 44,
   "metadata": {},
   "outputs": [
    {
     "name": "stdout",
     "output_type": "stream",
     "text": [
      "0:00:00.013233\n"
     ]
    }
   ],
   "source": [
    "start = datetime.datetime.now()\n",
    "feature_columns[\"isBreitbart\"] = np.where(feature_columns['publication'] == \"breitbart\", \"1\", \"0\")\n",
    "end = datetime.datetime.now()\n",
    "print(end-start)"
   ]
  },
  {
   "cell_type": "code",
   "execution_count": 46,
   "metadata": {},
   "outputs": [],
   "source": [
    "training = feature_columns.groupby('isBreitbart').apply(lambda x : x.sample(frac = 0.7))\n",
    "test = pd.concat([training,feature_columns]).drop_duplicates(subset='content',keep=False)       "
   ]
  },
  {
   "cell_type": "code",
   "execution_count": 35,
   "metadata": {
    "scrolled": true
   },
   "outputs": [
    {
     "name": "stdout",
     "output_type": "stream",
     "text": [
      "Checking whether there is an H2O instance running at http://localhost:54321. connected.\n"
     ]
    },
    {
     "data": {
      "text/html": [
       "<div style=\"overflow:auto\"><table style=\"width:50%\"><tr><td>H2O cluster uptime:</td>\n",
       "<td>2 days 12 hours 10 mins</td></tr>\n",
       "<tr><td>H2O cluster timezone:</td>\n",
       "<td>Europe/Istanbul</td></tr>\n",
       "<tr><td>H2O data parsing timezone:</td>\n",
       "<td>UTC</td></tr>\n",
       "<tr><td>H2O cluster version:</td>\n",
       "<td>3.22.0.1</td></tr>\n",
       "<tr><td>H2O cluster version age:</td>\n",
       "<td>2 months and 7 days </td></tr>\n",
       "<tr><td>H2O cluster name:</td>\n",
       "<td>H2O_from_python_toprak_ucar_dfp8qy</td></tr>\n",
       "<tr><td>H2O cluster total nodes:</td>\n",
       "<td>1</td></tr>\n",
       "<tr><td>H2O cluster free memory:</td>\n",
       "<td>4.695 Gb</td></tr>\n",
       "<tr><td>H2O cluster total cores:</td>\n",
       "<td>4</td></tr>\n",
       "<tr><td>H2O cluster allowed cores:</td>\n",
       "<td>4</td></tr>\n",
       "<tr><td>H2O cluster status:</td>\n",
       "<td>locked, healthy</td></tr>\n",
       "<tr><td>H2O connection url:</td>\n",
       "<td>http://localhost:54321</td></tr>\n",
       "<tr><td>H2O connection proxy:</td>\n",
       "<td>None</td></tr>\n",
       "<tr><td>H2O internal security:</td>\n",
       "<td>False</td></tr>\n",
       "<tr><td>H2O API Extensions:</td>\n",
       "<td>XGBoost, Algos, AutoML, Core V3, Core V4</td></tr>\n",
       "<tr><td>Python version:</td>\n",
       "<td>3.7.0 final</td></tr></table></div>"
      ],
      "text/plain": [
       "--------------------------  ----------------------------------------\n",
       "H2O cluster uptime:         2 days 12 hours 10 mins\n",
       "H2O cluster timezone:       Europe/Istanbul\n",
       "H2O data parsing timezone:  UTC\n",
       "H2O cluster version:        3.22.0.1\n",
       "H2O cluster version age:    2 months and 7 days\n",
       "H2O cluster name:           H2O_from_python_toprak_ucar_dfp8qy\n",
       "H2O cluster total nodes:    1\n",
       "H2O cluster free memory:    4.695 Gb\n",
       "H2O cluster total cores:    4\n",
       "H2O cluster allowed cores:  4\n",
       "H2O cluster status:         locked, healthy\n",
       "H2O connection url:         http://localhost:54321\n",
       "H2O connection proxy:\n",
       "H2O internal security:      False\n",
       "H2O API Extensions:         XGBoost, Algos, AutoML, Core V3, Core V4\n",
       "Python version:             3.7.0 final\n",
       "--------------------------  ----------------------------------------"
      ]
     },
     "metadata": {},
     "output_type": "display_data"
    },
    {
     "name": "stdout",
     "output_type": "stream",
     "text": [
      "Connecting to H2O server at http://localhost:54321... successful.\n"
     ]
    },
    {
     "data": {
      "text/html": [
       "<div style=\"overflow:auto\"><table style=\"width:50%\"><tr><td>H2O cluster uptime:</td>\n",
       "<td>2 days 12 hours 10 mins</td></tr>\n",
       "<tr><td>H2O cluster timezone:</td>\n",
       "<td>Europe/Istanbul</td></tr>\n",
       "<tr><td>H2O data parsing timezone:</td>\n",
       "<td>UTC</td></tr>\n",
       "<tr><td>H2O cluster version:</td>\n",
       "<td>3.22.0.1</td></tr>\n",
       "<tr><td>H2O cluster version age:</td>\n",
       "<td>2 months and 7 days </td></tr>\n",
       "<tr><td>H2O cluster name:</td>\n",
       "<td>H2O_from_python_toprak_ucar_dfp8qy</td></tr>\n",
       "<tr><td>H2O cluster total nodes:</td>\n",
       "<td>1</td></tr>\n",
       "<tr><td>H2O cluster free memory:</td>\n",
       "<td>4.695 Gb</td></tr>\n",
       "<tr><td>H2O cluster total cores:</td>\n",
       "<td>4</td></tr>\n",
       "<tr><td>H2O cluster allowed cores:</td>\n",
       "<td>4</td></tr>\n",
       "<tr><td>H2O cluster status:</td>\n",
       "<td>locked, healthy</td></tr>\n",
       "<tr><td>H2O connection url:</td>\n",
       "<td>http://localhost:54321</td></tr>\n",
       "<tr><td>H2O connection proxy:</td>\n",
       "<td>None</td></tr>\n",
       "<tr><td>H2O internal security:</td>\n",
       "<td>False</td></tr>\n",
       "<tr><td>H2O API Extensions:</td>\n",
       "<td>XGBoost, Algos, AutoML, Core V3, Core V4</td></tr>\n",
       "<tr><td>Python version:</td>\n",
       "<td>3.7.0 final</td></tr></table></div>"
      ],
      "text/plain": [
       "--------------------------  ----------------------------------------\n",
       "H2O cluster uptime:         2 days 12 hours 10 mins\n",
       "H2O cluster timezone:       Europe/Istanbul\n",
       "H2O data parsing timezone:  UTC\n",
       "H2O cluster version:        3.22.0.1\n",
       "H2O cluster version age:    2 months and 7 days\n",
       "H2O cluster name:           H2O_from_python_toprak_ucar_dfp8qy\n",
       "H2O cluster total nodes:    1\n",
       "H2O cluster free memory:    4.695 Gb\n",
       "H2O cluster total cores:    4\n",
       "H2O cluster allowed cores:  4\n",
       "H2O cluster status:         locked, healthy\n",
       "H2O connection url:         http://localhost:54321\n",
       "H2O connection proxy:\n",
       "H2O internal security:      False\n",
       "H2O API Extensions:         XGBoost, Algos, AutoML, Core V3, Core V4\n",
       "Python version:             3.7.0 final\n",
       "--------------------------  ----------------------------------------"
      ]
     },
     "metadata": {},
     "output_type": "display_data"
    },
    {
     "data": {
      "text/plain": [
       "<H2OConnection to http://localhost:54321, no session>"
      ]
     },
     "execution_count": 35,
     "metadata": {},
     "output_type": "execute_result"
    }
   ],
   "source": [
    "h2o.init(max_mem_size=\"10G\")\n",
    "h2o.connect()"
   ]
  },
  {
   "cell_type": "code",
   "execution_count": 47,
   "metadata": {},
   "outputs": [
    {
     "name": "stderr",
     "output_type": "stream",
     "text": [
      "/Users/toprak.ucar/anaconda3/lib/python3.7/site-packages/h2o/utils/shared_utils.py:177: FutureWarning: Method .as_matrix will be removed in a future version. Use .values instead.\n",
      "  data = _handle_python_lists(python_obj.as_matrix().tolist(), -1)[1]\n"
     ]
    },
    {
     "name": "stdout",
     "output_type": "stream",
     "text": [
      "Parse progress: |█████████████████████████████████████████████████████████| 100%\n",
      "Parse progress: |█████████████████████████████████████████████████████████| 100%\n",
      "Parse progress: |█████████████████████████████████████████████████████████| 100%\n"
     ]
    }
   ],
   "source": [
    "training_frame = h2o.H2OFrame(training)\n",
    "test_frame =  h2o.H2OFrame(test)\n",
    "hf = h2o.H2OFrame(test)\n",
    "hf['isBreitbart'] = hf['isBreitbart'].asfactor()\n",
    "test_hf, validation_hf = hf.split_frame(ratios=[0.5])"
   ]
  },
  {
   "cell_type": "code",
   "execution_count": 48,
   "metadata": {},
   "outputs": [],
   "source": [
    "training_frame['isBreitbart'] = training_frame['isBreitbart'].asfactor()\n",
    "test_frame['isBreitbart'] = test_frame['isBreitbart'].asfactor()\n"
   ]
  },
  {
   "cell_type": "code",
   "execution_count": 49,
   "metadata": {},
   "outputs": [],
   "source": [
    "vec_col_names.extend(['number_of_words', 'len_of_text'])\n",
    "predictors = vec_col_names\n",
    "response = 'isBreitbart'"
   ]
  },
  {
   "cell_type": "code",
   "execution_count": 50,
   "metadata": {},
   "outputs": [],
   "source": [
    "rf_model = H2ORandomForestEstimator(model_id=\"rf_model\",\n",
    "                                            ntrees=20, \n",
    "                                            max_depth=10, \n",
    "                                            nfolds=10)"
   ]
  },
  {
   "cell_type": "code",
   "execution_count": 51,
   "metadata": {},
   "outputs": [
    {
     "name": "stdout",
     "output_type": "stream",
     "text": [
      "drf Model Build progress: |███████████████████████████████████████████████| 100%\n"
     ]
    }
   ],
   "source": [
    "rf_model.train(x=predictors, \n",
    "                       y=response, \n",
    "                       training_frame=training_frame, \n",
    "                       validation_frame=validation_hf)"
   ]
  },
  {
   "cell_type": "code",
   "execution_count": null,
   "metadata": {},
   "outputs": [],
   "source": [
    "h2o.save_model(model=rf_model,\n",
    "                      path='model/model_name',\n",
    "                      force=True)"
   ]
  },
  {
   "cell_type": "code",
   "execution_count": 52,
   "metadata": {},
   "outputs": [],
   "source": [
    "performance = rf_model.model_performance(test_data=test_hf)"
   ]
  },
  {
   "cell_type": "code",
   "execution_count": 53,
   "metadata": {},
   "outputs": [
    {
     "name": "stdout",
     "output_type": "stream",
     "text": [
      "\n",
      "ModelMetricsBinomial: drf\n",
      "** Reported on test data. **\n",
      "\n",
      "MSE: 0.11906473605556668\n",
      "RMSE: 0.34505758368070494\n",
      "LogLoss: 0.3814699746568444\n",
      "Mean Per-Class Error: 0.292509319180112\n",
      "AUC: 0.7769438345198754\n",
      "pr_auc: 0.39430786040005944\n",
      "Gini: 0.5538876690397507\n",
      "Confusion Matrix (Act/Pred) for max f1 @ threshold = 0.23394455186584415: \n"
     ]
    },
    {
     "data": {
      "text/html": [
       "<div style=\"overflow:auto\"><table style=\"width:50%\"><tr><td><b></b></td>\n",
       "<td><b>0</b></td>\n",
       "<td><b>1</b></td>\n",
       "<td><b>Error</b></td>\n",
       "<td><b>Rate</b></td></tr>\n",
       "<tr><td>0</td>\n",
       "<td>14645.0</td>\n",
       "<td>3176.0</td>\n",
       "<td>0.1782</td>\n",
       "<td> (3176.0/17821.0)</td></tr>\n",
       "<tr><td>1</td>\n",
       "<td>1621.0</td>\n",
       "<td>1900.0</td>\n",
       "<td>0.4604</td>\n",
       "<td> (1621.0/3521.0)</td></tr>\n",
       "<tr><td>Total</td>\n",
       "<td>16266.0</td>\n",
       "<td>5076.0</td>\n",
       "<td>0.2248</td>\n",
       "<td> (4797.0/21342.0)</td></tr></table></div>"
      ],
      "text/plain": [
       "       0      1     Error    Rate\n",
       "-----  -----  ----  -------  ----------------\n",
       "0      14645  3176  0.1782   (3176.0/17821.0)\n",
       "1      1621   1900  0.4604   (1621.0/3521.0)\n",
       "Total  16266  5076  0.2248   (4797.0/21342.0)"
      ]
     },
     "metadata": {},
     "output_type": "display_data"
    },
    {
     "name": "stdout",
     "output_type": "stream",
     "text": [
      "Maximum Metrics: Maximum metrics at their respective thresholds\n",
      "\n"
     ]
    },
    {
     "data": {
      "text/html": [
       "<div style=\"overflow:auto\"><table style=\"width:50%\"><tr><td><b>metric</b></td>\n",
       "<td><b>threshold</b></td>\n",
       "<td><b>value</b></td>\n",
       "<td><b>idx</b></td></tr>\n",
       "<tr><td>max f1</td>\n",
       "<td>0.2339446</td>\n",
       "<td>0.4420147</td>\n",
       "<td>180.0</td></tr>\n",
       "<tr><td>max f2</td>\n",
       "<td>0.1291216</td>\n",
       "<td>0.5971396</td>\n",
       "<td>276.0</td></tr>\n",
       "<tr><td>max f0point5</td>\n",
       "<td>0.3057509</td>\n",
       "<td>0.4180086</td>\n",
       "<td>130.0</td></tr>\n",
       "<tr><td>max accuracy</td>\n",
       "<td>0.4643509</td>\n",
       "<td>0.8390966</td>\n",
       "<td>47.0</td></tr>\n",
       "<tr><td>max precision</td>\n",
       "<td>0.6824791</td>\n",
       "<td>1.0</td>\n",
       "<td>0.0</td></tr>\n",
       "<tr><td>max recall</td>\n",
       "<td>0.0109730</td>\n",
       "<td>1.0</td>\n",
       "<td>397.0</td></tr>\n",
       "<tr><td>max specificity</td>\n",
       "<td>0.6824791</td>\n",
       "<td>1.0</td>\n",
       "<td>0.0</td></tr>\n",
       "<tr><td>max absolute_mcc</td>\n",
       "<td>0.2339446</td>\n",
       "<td>0.3150571</td>\n",
       "<td>180.0</td></tr>\n",
       "<tr><td>max min_per_class_accuracy</td>\n",
       "<td>0.1788232</td>\n",
       "<td>0.6988384</td>\n",
       "<td>227.0</td></tr>\n",
       "<tr><td>max mean_per_class_accuracy</td>\n",
       "<td>0.1535160</td>\n",
       "<td>0.7074907</td>\n",
       "<td>251.0</td></tr></table></div>"
      ],
      "text/plain": [
       "metric                       threshold    value     idx\n",
       "---------------------------  -----------  --------  -----\n",
       "max f1                       0.233945     0.442015  180\n",
       "max f2                       0.129122     0.59714   276\n",
       "max f0point5                 0.305751     0.418009  130\n",
       "max accuracy                 0.464351     0.839097  47\n",
       "max precision                0.682479     1         0\n",
       "max recall                   0.010973     1         397\n",
       "max specificity              0.682479     1         0\n",
       "max absolute_mcc             0.233945     0.315057  180\n",
       "max min_per_class_accuracy   0.178823     0.698838  227\n",
       "max mean_per_class_accuracy  0.153516     0.707491  251"
      ]
     },
     "metadata": {},
     "output_type": "display_data"
    },
    {
     "name": "stdout",
     "output_type": "stream",
     "text": [
      "Gains/Lift Table: Avg response rate: 16.50 %, avg score: 16.68 %\n",
      "\n"
     ]
    },
    {
     "data": {
      "text/html": [
       "<div style=\"overflow:auto\"><table style=\"width:50%\"><tr><td><b></b></td>\n",
       "<td><b>group</b></td>\n",
       "<td><b>cumulative_data_fraction</b></td>\n",
       "<td><b>lower_threshold</b></td>\n",
       "<td><b>lift</b></td>\n",
       "<td><b>cumulative_lift</b></td>\n",
       "<td><b>response_rate</b></td>\n",
       "<td><b>score</b></td>\n",
       "<td><b>cumulative_response_rate</b></td>\n",
       "<td><b>cumulative_score</b></td>\n",
       "<td><b>capture_rate</b></td>\n",
       "<td><b>cumulative_capture_rate</b></td>\n",
       "<td><b>gain</b></td>\n",
       "<td><b>cumulative_gain</b></td></tr>\n",
       "<tr><td></td>\n",
       "<td>1</td>\n",
       "<td>0.0100272</td>\n",
       "<td>0.5062228</td>\n",
       "<td>3.8803945</td>\n",
       "<td>3.8803945</td>\n",
       "<td>0.6401869</td>\n",
       "<td>0.5532967</td>\n",
       "<td>0.6401869</td>\n",
       "<td>0.5532967</td>\n",
       "<td>0.0389094</td>\n",
       "<td>0.0389094</td>\n",
       "<td>288.0394535</td>\n",
       "<td>288.0394535</td></tr>\n",
       "<tr><td></td>\n",
       "<td>2</td>\n",
       "<td>0.0200075</td>\n",
       "<td>0.4595200</td>\n",
       "<td>3.2725578</td>\n",
       "<td>3.5771879</td>\n",
       "<td>0.5399061</td>\n",
       "<td>0.4813018</td>\n",
       "<td>0.5901639</td>\n",
       "<td>0.5173836</td>\n",
       "<td>0.0326612</td>\n",
       "<td>0.0715706</td>\n",
       "<td>227.2557812</td>\n",
       "<td>257.7187926</td></tr>\n",
       "<tr><td></td>\n",
       "<td>3</td>\n",
       "<td>0.0300347</td>\n",
       "<td>0.4283629</td>\n",
       "<td>2.8890529</td>\n",
       "<td>3.3474517</td>\n",
       "<td>0.4766355</td>\n",
       "<td>0.4430735</td>\n",
       "<td>0.5522621</td>\n",
       "<td>0.4925749</td>\n",
       "<td>0.0289690</td>\n",
       "<td>0.1005396</td>\n",
       "<td>188.9052866</td>\n",
       "<td>234.7451728</td></tr>\n",
       "<tr><td></td>\n",
       "<td>4</td>\n",
       "<td>0.0400150</td>\n",
       "<td>0.4076473</td>\n",
       "<td>3.1302727</td>\n",
       "<td>3.2932841</td>\n",
       "<td>0.5164319</td>\n",
       "<td>0.4180118</td>\n",
       "<td>0.5433255</td>\n",
       "<td>0.4739778</td>\n",
       "<td>0.0312411</td>\n",
       "<td>0.1317807</td>\n",
       "<td>213.0272690</td>\n",
       "<td>229.3284123</td></tr>\n",
       "<tr><td></td>\n",
       "<td>5</td>\n",
       "<td>0.0500422</td>\n",
       "<td>0.3896203</td>\n",
       "<td>2.5774883</td>\n",
       "<td>3.1498569</td>\n",
       "<td>0.4252336</td>\n",
       "<td>0.3987704</td>\n",
       "<td>0.5196629</td>\n",
       "<td>0.4589081</td>\n",
       "<td>0.0258449</td>\n",
       "<td>0.1576257</td>\n",
       "<td>157.7488341</td>\n",
       "<td>214.9856878</td></tr>\n",
       "<tr><td></td>\n",
       "<td>6</td>\n",
       "<td>0.1000375</td>\n",
       "<td>0.3312438</td>\n",
       "<td>2.4086324</td>\n",
       "<td>2.7794182</td>\n",
       "<td>0.3973758</td>\n",
       "<td>0.3581368</td>\n",
       "<td>0.4585480</td>\n",
       "<td>0.4085461</td>\n",
       "<td>0.1204203</td>\n",
       "<td>0.2780460</td>\n",
       "<td>140.8632420</td>\n",
       "<td>177.9418238</td></tr>\n",
       "<tr><td></td>\n",
       "<td>7</td>\n",
       "<td>0.1500328</td>\n",
       "<td>0.2882296</td>\n",
       "<td>2.1416378</td>\n",
       "<td>2.5668911</td>\n",
       "<td>0.3533271</td>\n",
       "<td>0.3090047</td>\n",
       "<td>0.4234853</td>\n",
       "<td>0.3753760</td>\n",
       "<td>0.1070719</td>\n",
       "<td>0.3851179</td>\n",
       "<td>114.1637789</td>\n",
       "<td>156.6891149</td></tr>\n",
       "<tr><td></td>\n",
       "<td>8</td>\n",
       "<td>0.2000281</td>\n",
       "<td>0.2542406</td>\n",
       "<td>1.8576009</td>\n",
       "<td>2.3896101</td>\n",
       "<td>0.3064667</td>\n",
       "<td>0.2710162</td>\n",
       "<td>0.3942375</td>\n",
       "<td>0.3492921</td>\n",
       "<td>0.0928713</td>\n",
       "<td>0.4779892</td>\n",
       "<td>85.7600947</td>\n",
       "<td>138.9610136</td></tr>\n",
       "<tr><td></td>\n",
       "<td>9</td>\n",
       "<td>0.3000187</td>\n",
       "<td>0.2036983</td>\n",
       "<td>1.4145035</td>\n",
       "<td>2.0646253</td>\n",
       "<td>0.2333646</td>\n",
       "<td>0.2274077</td>\n",
       "<td>0.3406216</td>\n",
       "<td>0.3086703</td>\n",
       "<td>0.1414371</td>\n",
       "<td>0.6194263</td>\n",
       "<td>41.4503473</td>\n",
       "<td>106.4625344</td></tr>\n",
       "<tr><td></td>\n",
       "<td>10</td>\n",
       "<td>0.4000094</td>\n",
       "<td>0.1677193</td>\n",
       "<td>1.1702318</td>\n",
       "<td>1.8410531</td>\n",
       "<td>0.1930647</td>\n",
       "<td>0.1847201</td>\n",
       "<td>0.3037367</td>\n",
       "<td>0.2776864</td>\n",
       "<td>0.1170122</td>\n",
       "<td>0.7364385</td>\n",
       "<td>17.0231789</td>\n",
       "<td>84.1053147</td></tr>\n",
       "<tr><td></td>\n",
       "<td>11</td>\n",
       "<td>0.5</td>\n",
       "<td>0.1399468</td>\n",
       "<td>0.9884482</td>\n",
       "<td>1.6705481</td>\n",
       "<td>0.1630740</td>\n",
       "<td>0.1534961</td>\n",
       "<td>0.2756068</td>\n",
       "<td>0.2528507</td>\n",
       "<td>0.0988356</td>\n",
       "<td>0.8352741</td>\n",
       "<td>-1.1551790</td>\n",
       "<td>67.0548140</td></tr>\n",
       "<tr><td></td>\n",
       "<td>12</td>\n",
       "<td>0.5999906</td>\n",
       "<td>0.1166597</td>\n",
       "<td>0.6958903</td>\n",
       "<td>1.5081178</td>\n",
       "<td>0.1148079</td>\n",
       "<td>0.1279701</td>\n",
       "<td>0.2488091</td>\n",
       "<td>0.2320389</td>\n",
       "<td>0.0695825</td>\n",
       "<td>0.9048566</td>\n",
       "<td>-30.4109737</td>\n",
       "<td>50.8117846</td></tr>\n",
       "<tr><td></td>\n",
       "<td>13</td>\n",
       "<td>0.6999813</td>\n",
       "<td>0.0936332</td>\n",
       "<td>0.4885434</td>\n",
       "<td>1.3624741</td>\n",
       "<td>0.0805998</td>\n",
       "<td>0.1050448</td>\n",
       "<td>0.2247808</td>\n",
       "<td>0.2138981</td>\n",
       "<td>0.0488498</td>\n",
       "<td>0.9537063</td>\n",
       "<td>-51.1456632</td>\n",
       "<td>36.2474099</td></tr>\n",
       "<tr><td></td>\n",
       "<td>14</td>\n",
       "<td>0.7999719</td>\n",
       "<td>0.0717349</td>\n",
       "<td>0.2499524</td>\n",
       "<td>1.2234170</td>\n",
       "<td>0.0412371</td>\n",
       "<td>0.0829419</td>\n",
       "<td>0.2018392</td>\n",
       "<td>0.1975295</td>\n",
       "<td>0.0249929</td>\n",
       "<td>0.9786992</td>\n",
       "<td>-75.0047579</td>\n",
       "<td>22.3417035</td></tr>\n",
       "<tr><td></td>\n",
       "<td>15</td>\n",
       "<td>0.8999625</td>\n",
       "<td>0.0449722</td>\n",
       "<td>0.1420184</td>\n",
       "<td>1.1032679</td>\n",
       "<td>0.0234302</td>\n",
       "<td>0.0591007</td>\n",
       "<td>0.1820170</td>\n",
       "<td>0.1821493</td>\n",
       "<td>0.0142005</td>\n",
       "<td>0.9928997</td>\n",
       "<td>-85.7981579</td>\n",
       "<td>10.3267889</td></tr>\n",
       "<tr><td></td>\n",
       "<td>16</td>\n",
       "<td>1.0</td>\n",
       "<td>0.0069673</td>\n",
       "<td>0.0709760</td>\n",
       "<td>1.0</td>\n",
       "<td>0.0117096</td>\n",
       "<td>0.0284572</td>\n",
       "<td>0.1649799</td>\n",
       "<td>0.1667744</td>\n",
       "<td>0.0071003</td>\n",
       "<td>1.0</td>\n",
       "<td>-92.9024049</td>\n",
       "<td>0.0</td></tr></table></div>"
      ],
      "text/plain": [
       "    group    cumulative_data_fraction    lower_threshold    lift      cumulative_lift    response_rate    score      cumulative_response_rate    cumulative_score    capture_rate    cumulative_capture_rate    gain      cumulative_gain\n",
       "--  -------  --------------------------  -----------------  --------  -----------------  ---------------  ---------  --------------------------  ------------------  --------------  -------------------------  --------  -----------------\n",
       "    1        0.0100272                   0.506223           3.88039   3.88039            0.640187         0.553297   0.640187                    0.553297            0.0389094       0.0389094                  288.039   288.039\n",
       "    2        0.0200075                   0.45952            3.27256   3.57719            0.539906         0.481302   0.590164                    0.517384            0.0326612       0.0715706                  227.256   257.719\n",
       "    3        0.0300347                   0.428363           2.88905   3.34745            0.476636         0.443074   0.552262                    0.492575            0.028969        0.10054                    188.905   234.745\n",
       "    4        0.040015                    0.407647           3.13027   3.29328            0.516432         0.418012   0.543326                    0.473978            0.0312411       0.131781                   213.027   229.328\n",
       "    5        0.0500422                   0.38962            2.57749   3.14986            0.425234         0.39877    0.519663                    0.458908            0.0258449       0.157626                   157.749   214.986\n",
       "    6        0.100037                    0.331244           2.40863   2.77942            0.397376         0.358137   0.458548                    0.408546            0.12042         0.278046                   140.863   177.942\n",
       "    7        0.150033                    0.28823            2.14164   2.56689            0.353327         0.309005   0.423485                    0.375376            0.107072        0.385118                   114.164   156.689\n",
       "    8        0.200028                    0.254241           1.8576    2.38961            0.306467         0.271016   0.394238                    0.349292            0.0928713       0.477989                   85.7601   138.961\n",
       "    9        0.300019                    0.203698           1.4145    2.06463            0.233365         0.227408   0.340622                    0.30867             0.141437        0.619426                   41.4503   106.463\n",
       "    10       0.400009                    0.167719           1.17023   1.84105            0.193065         0.18472    0.303737                    0.277686            0.117012        0.736439                   17.0232   84.1053\n",
       "    11       0.5                         0.139947           0.988448  1.67055            0.163074         0.153496   0.275607                    0.252851            0.0988356       0.835274                   -1.15518  67.0548\n",
       "    12       0.599991                    0.11666            0.69589   1.50812            0.114808         0.12797    0.248809                    0.232039            0.0695825       0.904857                   -30.411   50.8118\n",
       "    13       0.699981                    0.0936332          0.488543  1.36247            0.0805998        0.105045   0.224781                    0.213898            0.0488498       0.953706                   -51.1457  36.2474\n",
       "    14       0.799972                    0.0717349          0.249952  1.22342            0.0412371        0.0829419  0.201839                    0.19753             0.0249929       0.978699                   -75.0048  22.3417\n",
       "    15       0.899963                    0.0449722          0.142018  1.10327            0.0234302        0.0591007  0.182017                    0.182149            0.0142005       0.9929                     -85.7982  10.3268\n",
       "    16       1                           0.00696731         0.070976  1                  0.0117096        0.0284572  0.16498                     0.166774            0.00710026      1                          -92.9024  0"
      ]
     },
     "metadata": {},
     "output_type": "display_data"
    },
    {
     "name": "stdout",
     "output_type": "stream",
     "text": [
      "\n"
     ]
    },
    {
     "data": {
      "text/plain": []
     },
     "execution_count": 53,
     "metadata": {},
     "output_type": "execute_result"
    }
   ],
   "source": [
    "performance"
   ]
  },
  {
   "cell_type": "code",
   "execution_count": null,
   "metadata": {},
   "outputs": [],
   "source": [
    "feature_columns.to_csv(\"feature_columns.csv\")"
   ]
  },
  {
   "cell_type": "code",
   "execution_count": null,
   "metadata": {},
   "outputs": [],
   "source": [
    "gradient_boosting_estimator = H2OGradientBoostingEstimator(\n",
    "    stopping_metric = 'AUC',\n",
    "    stopping_tolerance = 0.001,\n",
    "    stopping_rounds = 5,\n",
    "    score_tree_interval = 10,\n",
    "    model_id=\"id\",\n",
    "    seed=2000000\n",
    ")"
   ]
  },
  {
   "cell_type": "code",
   "execution_count": null,
   "metadata": {},
   "outputs": [],
   "source": [
    "gradient_boosting_estimator.train(predictors, response, training_frame=training_frame, validation_frame=validation_hf)\n",
    " "
   ]
  },
  {
   "cell_type": "code",
   "execution_count": null,
   "metadata": {},
   "outputs": [],
   "source": [
    "gradient_boosting_estimator.confusion_matrix(valid=True)"
   ]
  },
  {
   "cell_type": "code",
   "execution_count": null,
   "metadata": {},
   "outputs": [],
   "source": [
    "performance = gradient_boosting_estimator.model_performance(test_data=test_hf)\n",
    "print(performance)"
   ]
  },
  {
   "cell_type": "code",
   "execution_count": null,
   "metadata": {},
   "outputs": [],
   "source": [
    "test = generate_columns_for_model(df)"
   ]
  },
  {
   "cell_type": "code",
   "execution_count": 45,
   "metadata": {},
   "outputs": [
    {
     "data": {
      "text/plain": [
       "array(['0', '1'], dtype=object)"
      ]
     },
     "execution_count": 45,
     "metadata": {},
     "output_type": "execute_result"
    }
   ],
   "source": [
    "feature_columns.isBreitbart.unique()"
   ]
  }
 ],
 "metadata": {
  "kernelspec": {
   "display_name": "Python 3",
   "language": "python",
   "name": "python3"
  },
  "language_info": {
   "codemirror_mode": {
    "name": "ipython",
    "version": 3
   },
   "file_extension": ".py",
   "mimetype": "text/x-python",
   "name": "python",
   "nbconvert_exporter": "python",
   "pygments_lexer": "ipython3",
   "version": "3.7.0"
  }
 },
 "nbformat": 4,
 "nbformat_minor": 2
}
